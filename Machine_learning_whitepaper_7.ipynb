{
  "nbformat": 4,
  "nbformat_minor": 0,
  "metadata": {
    "kernelspec": {
      "display_name": "Python 3",
      "language": "python",
      "name": "python3"
    },
    "language_info": {
      "codemirror_mode": {
        "name": "ipython",
        "version": 3
      },
      "file_extension": ".py",
      "mimetype": "text/x-python",
      "name": "python",
      "nbconvert_exporter": "python",
      "pygments_lexer": "ipython3",
      "version": "3.7.7"
    },
    "colab": {
      "name": "Machine_learning_whitepaper_7.ipynb",
      "provenance": [],
      "collapsed_sections": [],
      "toc_visible": true,
      "include_colab_link": true
    }
  },
  "cells": [
    {
      "cell_type": "markdown",
      "metadata": {
        "id": "view-in-github",
        "colab_type": "text"
      },
      "source": [
        "<a href=\"https://colab.research.google.com/github/khalidpark/machinelearning_whitepaper/blob/main/Machine_learning_whitepaper_7.ipynb\" target=\"_parent\"><img src=\"https://colab.research.google.com/assets/colab-badge.svg\" alt=\"Open In Colab\"/></a>"
      ]
    },
    {
      "cell_type": "code",
      "metadata": {
        "lines_to_next_cell": 2,
        "id": "0pXNvVKwFKde"
      },
      "source": [
        "import pandas as pd\n",
        "import numpy as np\n",
        "pd.options.display.max_columns = None\n",
        "df = pd.read_csv('https://ds-lecture-data.s3.ap-northeast-2.amazonaws.com/chocolate_bar_ratings/flavors_of_cacao.csv')"
      ],
      "execution_count": null,
      "outputs": []
    },
    {
      "cell_type": "code",
      "metadata": {
        "id": "F1Sg6hwrFKdg",
        "colab": {
          "base_uri": "https://localhost:8080/",
          "height": 204
        },
        "outputId": "3a496668-8c6b-436b-cbeb-8012d618788c"
      },
      "source": [
        "df.head()"
      ],
      "execution_count": null,
      "outputs": [
        {
          "output_type": "execute_result",
          "data": {
            "text/html": [
              "<div>\n",
              "<style scoped>\n",
              "    .dataframe tbody tr th:only-of-type {\n",
              "        vertical-align: middle;\n",
              "    }\n",
              "\n",
              "    .dataframe tbody tr th {\n",
              "        vertical-align: top;\n",
              "    }\n",
              "\n",
              "    .dataframe thead th {\n",
              "        text-align: right;\n",
              "    }\n",
              "</style>\n",
              "<table border=\"1\" class=\"dataframe\">\n",
              "  <thead>\n",
              "    <tr style=\"text-align: right;\">\n",
              "      <th></th>\n",
              "      <th>Company \\n(Maker-if known)</th>\n",
              "      <th>Specific Bean Origin\\nor Bar Name</th>\n",
              "      <th>REF</th>\n",
              "      <th>Review\\nDate</th>\n",
              "      <th>Cocoa\\nPercent</th>\n",
              "      <th>Company\\nLocation</th>\n",
              "      <th>Rating</th>\n",
              "      <th>Bean\\nType</th>\n",
              "      <th>Broad Bean\\nOrigin</th>\n",
              "    </tr>\n",
              "  </thead>\n",
              "  <tbody>\n",
              "    <tr>\n",
              "      <th>0</th>\n",
              "      <td>A. Morin</td>\n",
              "      <td>Agua Grande</td>\n",
              "      <td>1876</td>\n",
              "      <td>2016</td>\n",
              "      <td>63%</td>\n",
              "      <td>France</td>\n",
              "      <td>3.75</td>\n",
              "      <td></td>\n",
              "      <td>Sao Tome</td>\n",
              "    </tr>\n",
              "    <tr>\n",
              "      <th>1</th>\n",
              "      <td>A. Morin</td>\n",
              "      <td>Kpime</td>\n",
              "      <td>1676</td>\n",
              "      <td>2015</td>\n",
              "      <td>70%</td>\n",
              "      <td>France</td>\n",
              "      <td>2.75</td>\n",
              "      <td></td>\n",
              "      <td>Togo</td>\n",
              "    </tr>\n",
              "    <tr>\n",
              "      <th>2</th>\n",
              "      <td>A. Morin</td>\n",
              "      <td>Atsane</td>\n",
              "      <td>1676</td>\n",
              "      <td>2015</td>\n",
              "      <td>70%</td>\n",
              "      <td>France</td>\n",
              "      <td>3.00</td>\n",
              "      <td></td>\n",
              "      <td>Togo</td>\n",
              "    </tr>\n",
              "    <tr>\n",
              "      <th>3</th>\n",
              "      <td>A. Morin</td>\n",
              "      <td>Akata</td>\n",
              "      <td>1680</td>\n",
              "      <td>2015</td>\n",
              "      <td>70%</td>\n",
              "      <td>France</td>\n",
              "      <td>3.50</td>\n",
              "      <td></td>\n",
              "      <td>Togo</td>\n",
              "    </tr>\n",
              "    <tr>\n",
              "      <th>4</th>\n",
              "      <td>A. Morin</td>\n",
              "      <td>Quilla</td>\n",
              "      <td>1704</td>\n",
              "      <td>2015</td>\n",
              "      <td>70%</td>\n",
              "      <td>France</td>\n",
              "      <td>3.50</td>\n",
              "      <td></td>\n",
              "      <td>Peru</td>\n",
              "    </tr>\n",
              "  </tbody>\n",
              "</table>\n",
              "</div>"
            ],
            "text/plain": [
              "  Company \\n(Maker-if known) Specific Bean Origin\\nor Bar Name   REF  \\\n",
              "0                   A. Morin                       Agua Grande  1876   \n",
              "1                   A. Morin                             Kpime  1676   \n",
              "2                   A. Morin                            Atsane  1676   \n",
              "3                   A. Morin                             Akata  1680   \n",
              "4                   A. Morin                            Quilla  1704   \n",
              "\n",
              "   Review\\nDate Cocoa\\nPercent Company\\nLocation  Rating Bean\\nType  \\\n",
              "0          2016            63%            France    3.75              \n",
              "1          2015            70%            France    2.75              \n",
              "2          2015            70%            France    3.00              \n",
              "3          2015            70%            France    3.50              \n",
              "4          2015            70%            France    3.50              \n",
              "\n",
              "  Broad Bean\\nOrigin  \n",
              "0           Sao Tome  \n",
              "1               Togo  \n",
              "2               Togo  \n",
              "3               Togo  \n",
              "4               Peru  "
            ]
          },
          "metadata": {
            "tags": []
          },
          "execution_count": 2
        }
      ]
    },
    {
      "cell_type": "code",
      "metadata": {
        "id": "u35YyAvuFKdh",
        "colab": {
          "base_uri": "https://localhost:8080/"
        },
        "outputId": "bace2b4a-baf9-4f23-9298-82da3a42cbba"
      },
      "source": [
        "df.columns"
      ],
      "execution_count": null,
      "outputs": [
        {
          "output_type": "execute_result",
          "data": {
            "text/plain": [
              "Index(['Company \\n(Maker-if known)', 'Specific Bean Origin\\nor Bar Name',\n",
              "       'REF', 'Review\\nDate', 'Cocoa\\nPercent', 'Company\\nLocation', 'Rating',\n",
              "       'Bean\\nType', 'Broad Bean\\nOrigin'],\n",
              "      dtype='object')"
            ]
          },
          "metadata": {
            "tags": []
          },
          "execution_count": 3
        }
      ]
    },
    {
      "cell_type": "markdown",
      "metadata": {
        "id": "6Re3PdpcFKdh"
      },
      "source": [
        "### 칼럼명 정리"
      ]
    },
    {
      "cell_type": "code",
      "metadata": {
        "id": "UBAP8GUkFKdh"
      },
      "source": [
        "df.columns = ['company','specificOrigin','ref','reviewDate','cocoaPercent','companyLocation','rating','beanType','broadOrigin']"
      ],
      "execution_count": null,
      "outputs": []
    },
    {
      "cell_type": "markdown",
      "metadata": {
        "id": "qCcXt8YvFKdh"
      },
      "source": [
        "### 결측치 확인"
      ]
    },
    {
      "cell_type": "code",
      "metadata": {
        "id": "IK-eV1KzFKdi",
        "colab": {
          "base_uri": "https://localhost:8080/"
        },
        "outputId": "2eee7c1b-cc2c-49b1-bc4d-c07701c55bd8"
      },
      "source": [
        "[(x, df[x].isnull().sum()) for x in df.columns if df[x].isnull().any()]"
      ],
      "execution_count": null,
      "outputs": [
        {
          "output_type": "execute_result",
          "data": {
            "text/plain": [
              "[('beanType', 1), ('broadOrigin', 1)]"
            ]
          },
          "metadata": {
            "tags": []
          },
          "execution_count": 5
        }
      ]
    },
    {
      "cell_type": "code",
      "metadata": {
        "id": "Ggad-v8RFKdi",
        "colab": {
          "base_uri": "https://localhost:8080/"
        },
        "outputId": "ddca1fc2-3d7a-486c-9ada-e4fa6778ab82"
      },
      "source": [
        "df.dtypes"
      ],
      "execution_count": null,
      "outputs": [
        {
          "output_type": "execute_result",
          "data": {
            "text/plain": [
              "company             object\n",
              "specificOrigin      object\n",
              "ref                  int64\n",
              "reviewDate           int64\n",
              "cocoaPercent        object\n",
              "companyLocation     object\n",
              "rating             float64\n",
              "beanType            object\n",
              "broadOrigin         object\n",
              "dtype: object"
            ]
          },
          "metadata": {
            "tags": []
          },
          "execution_count": 6
        }
      ]
    },
    {
      "cell_type": "code",
      "metadata": {
        "id": "soIEMlfgFKdi",
        "colab": {
          "base_uri": "https://localhost:8080/",
          "height": 328
        },
        "outputId": "97e901bd-6d2b-4828-aaaa-a989cd28dce5"
      },
      "source": [
        "df.describe(include='all').T"
      ],
      "execution_count": null,
      "outputs": [
        {
          "output_type": "execute_result",
          "data": {
            "text/html": [
              "<div>\n",
              "<style scoped>\n",
              "    .dataframe tbody tr th:only-of-type {\n",
              "        vertical-align: middle;\n",
              "    }\n",
              "\n",
              "    .dataframe tbody tr th {\n",
              "        vertical-align: top;\n",
              "    }\n",
              "\n",
              "    .dataframe thead th {\n",
              "        text-align: right;\n",
              "    }\n",
              "</style>\n",
              "<table border=\"1\" class=\"dataframe\">\n",
              "  <thead>\n",
              "    <tr style=\"text-align: right;\">\n",
              "      <th></th>\n",
              "      <th>count</th>\n",
              "      <th>unique</th>\n",
              "      <th>top</th>\n",
              "      <th>freq</th>\n",
              "      <th>mean</th>\n",
              "      <th>std</th>\n",
              "      <th>min</th>\n",
              "      <th>25%</th>\n",
              "      <th>50%</th>\n",
              "      <th>75%</th>\n",
              "      <th>max</th>\n",
              "    </tr>\n",
              "  </thead>\n",
              "  <tbody>\n",
              "    <tr>\n",
              "      <th>company</th>\n",
              "      <td>1795</td>\n",
              "      <td>416</td>\n",
              "      <td>Soma</td>\n",
              "      <td>47</td>\n",
              "      <td>NaN</td>\n",
              "      <td>NaN</td>\n",
              "      <td>NaN</td>\n",
              "      <td>NaN</td>\n",
              "      <td>NaN</td>\n",
              "      <td>NaN</td>\n",
              "      <td>NaN</td>\n",
              "    </tr>\n",
              "    <tr>\n",
              "      <th>specificOrigin</th>\n",
              "      <td>1795</td>\n",
              "      <td>1039</td>\n",
              "      <td>Madagascar</td>\n",
              "      <td>57</td>\n",
              "      <td>NaN</td>\n",
              "      <td>NaN</td>\n",
              "      <td>NaN</td>\n",
              "      <td>NaN</td>\n",
              "      <td>NaN</td>\n",
              "      <td>NaN</td>\n",
              "      <td>NaN</td>\n",
              "    </tr>\n",
              "    <tr>\n",
              "      <th>ref</th>\n",
              "      <td>1795</td>\n",
              "      <td>NaN</td>\n",
              "      <td>NaN</td>\n",
              "      <td>NaN</td>\n",
              "      <td>1035.9</td>\n",
              "      <td>552.886</td>\n",
              "      <td>5</td>\n",
              "      <td>576</td>\n",
              "      <td>1069</td>\n",
              "      <td>1502</td>\n",
              "      <td>1952</td>\n",
              "    </tr>\n",
              "    <tr>\n",
              "      <th>reviewDate</th>\n",
              "      <td>1795</td>\n",
              "      <td>NaN</td>\n",
              "      <td>NaN</td>\n",
              "      <td>NaN</td>\n",
              "      <td>2012.33</td>\n",
              "      <td>2.92721</td>\n",
              "      <td>2006</td>\n",
              "      <td>2010</td>\n",
              "      <td>2013</td>\n",
              "      <td>2015</td>\n",
              "      <td>2017</td>\n",
              "    </tr>\n",
              "    <tr>\n",
              "      <th>cocoaPercent</th>\n",
              "      <td>1795</td>\n",
              "      <td>45</td>\n",
              "      <td>70%</td>\n",
              "      <td>672</td>\n",
              "      <td>NaN</td>\n",
              "      <td>NaN</td>\n",
              "      <td>NaN</td>\n",
              "      <td>NaN</td>\n",
              "      <td>NaN</td>\n",
              "      <td>NaN</td>\n",
              "      <td>NaN</td>\n",
              "    </tr>\n",
              "    <tr>\n",
              "      <th>companyLocation</th>\n",
              "      <td>1795</td>\n",
              "      <td>60</td>\n",
              "      <td>U.S.A.</td>\n",
              "      <td>764</td>\n",
              "      <td>NaN</td>\n",
              "      <td>NaN</td>\n",
              "      <td>NaN</td>\n",
              "      <td>NaN</td>\n",
              "      <td>NaN</td>\n",
              "      <td>NaN</td>\n",
              "      <td>NaN</td>\n",
              "    </tr>\n",
              "    <tr>\n",
              "      <th>rating</th>\n",
              "      <td>1795</td>\n",
              "      <td>NaN</td>\n",
              "      <td>NaN</td>\n",
              "      <td>NaN</td>\n",
              "      <td>3.18593</td>\n",
              "      <td>0.478062</td>\n",
              "      <td>1</td>\n",
              "      <td>2.875</td>\n",
              "      <td>3.25</td>\n",
              "      <td>3.5</td>\n",
              "      <td>5</td>\n",
              "    </tr>\n",
              "    <tr>\n",
              "      <th>beanType</th>\n",
              "      <td>1794</td>\n",
              "      <td>41</td>\n",
              "      <td></td>\n",
              "      <td>887</td>\n",
              "      <td>NaN</td>\n",
              "      <td>NaN</td>\n",
              "      <td>NaN</td>\n",
              "      <td>NaN</td>\n",
              "      <td>NaN</td>\n",
              "      <td>NaN</td>\n",
              "      <td>NaN</td>\n",
              "    </tr>\n",
              "    <tr>\n",
              "      <th>broadOrigin</th>\n",
              "      <td>1794</td>\n",
              "      <td>100</td>\n",
              "      <td>Venezuela</td>\n",
              "      <td>214</td>\n",
              "      <td>NaN</td>\n",
              "      <td>NaN</td>\n",
              "      <td>NaN</td>\n",
              "      <td>NaN</td>\n",
              "      <td>NaN</td>\n",
              "      <td>NaN</td>\n",
              "      <td>NaN</td>\n",
              "    </tr>\n",
              "  </tbody>\n",
              "</table>\n",
              "</div>"
            ],
            "text/plain": [
              "                count unique         top freq     mean       std   min    25%  \\\n",
              "company          1795    416        Soma   47      NaN       NaN   NaN    NaN   \n",
              "specificOrigin   1795   1039  Madagascar   57      NaN       NaN   NaN    NaN   \n",
              "ref              1795    NaN         NaN  NaN   1035.9   552.886     5    576   \n",
              "reviewDate       1795    NaN         NaN  NaN  2012.33   2.92721  2006   2010   \n",
              "cocoaPercent     1795     45         70%  672      NaN       NaN   NaN    NaN   \n",
              "companyLocation  1795     60      U.S.A.  764      NaN       NaN   NaN    NaN   \n",
              "rating           1795    NaN         NaN  NaN  3.18593  0.478062     1  2.875   \n",
              "beanType         1794     41              887      NaN       NaN   NaN    NaN   \n",
              "broadOrigin      1794    100   Venezuela  214      NaN       NaN   NaN    NaN   \n",
              "\n",
              "                  50%   75%   max  \n",
              "company           NaN   NaN   NaN  \n",
              "specificOrigin    NaN   NaN   NaN  \n",
              "ref              1069  1502  1952  \n",
              "reviewDate       2013  2015  2017  \n",
              "cocoaPercent      NaN   NaN   NaN  \n",
              "companyLocation   NaN   NaN   NaN  \n",
              "rating           3.25   3.5     5  \n",
              "beanType          NaN   NaN   NaN  \n",
              "broadOrigin       NaN   NaN   NaN  "
            ]
          },
          "metadata": {
            "tags": []
          },
          "execution_count": 7
        }
      ]
    },
    {
      "cell_type": "markdown",
      "metadata": {
        "id": "eYWjRESJFKdi"
      },
      "source": [
        "### rating이 타겟특성인데 실수형"
      ]
    },
    {
      "cell_type": "code",
      "metadata": {
        "id": "HpBz2KOAFKdj",
        "colab": {
          "base_uri": "https://localhost:8080/"
        },
        "outputId": "fb6820d5-9f46-4ad2-e21d-ff5f3fca79bb"
      },
      "source": [
        "df['rating'].describe()"
      ],
      "execution_count": null,
      "outputs": [
        {
          "output_type": "execute_result",
          "data": {
            "text/plain": [
              "count    1795.000000\n",
              "mean        3.185933\n",
              "std         0.478062\n",
              "min         1.000000\n",
              "25%         2.875000\n",
              "50%         3.250000\n",
              "75%         3.500000\n",
              "max         5.000000\n",
              "Name: rating, dtype: float64"
            ]
          },
          "metadata": {
            "tags": []
          },
          "execution_count": 8
        }
      ]
    },
    {
      "cell_type": "markdown",
      "metadata": {
        "id": "IYFx1dz_FKdj"
      },
      "source": [
        "### 분포 확인"
      ]
    },
    {
      "cell_type": "code",
      "metadata": {
        "id": "bVk8gKlOFKdj",
        "colab": {
          "base_uri": "https://localhost:8080/",
          "height": 369
        },
        "outputId": "a8c0be41-ac6e-414f-8317-d0ddbae0aa9b"
      },
      "source": [
        "import seaborn as sns\n",
        "import matplotlib.pyplot as plt\n",
        "sns.displot(df['rating'],kde=True);\n",
        "plt.axvline(3.7, color='red');"
      ],
      "execution_count": null,
      "outputs": [
        {
          "output_type": "display_data",
          "data": {
            "image/png": "[encoded data removed]",
            "text/plain": [
              "<Figure size 360x360 with 1 Axes>"
            ]
          },
          "metadata": {
            "tags": [],
            "needs_background": "light"
          }
        }
      ]
    },
    {
      "cell_type": "markdown",
      "metadata": {
        "id": "De7D3YaFFKdj"
      },
      "source": [
        "### rating 이진타입으로 변형하여 분류문제로 전환"
      ]
    },
    {
      "cell_type": "code",
      "metadata": {
        "lines_to_next_cell": 2,
        "id": "z-V_el_kFKdj",
        "colab": {
          "base_uri": "https://localhost:8080/"
        },
        "outputId": "dac6e071-f072-424f-a1da-068e489d2b6d"
      },
      "source": [
        "## recommend 특성을 만들어 이진분류문제로 변환합니다\n",
        "df['recommend'] = df['rating'] >= 3.7\n",
        "df['recommend'].nunique()"
      ],
      "execution_count": null,
      "outputs": [
        {
          "output_type": "execute_result",
          "data": {
            "text/plain": [
              "2"
            ]
          },
          "metadata": {
            "tags": []
          },
          "execution_count": 10
        }
      ]
    },
    {
      "cell_type": "code",
      "metadata": {
        "id": "wK0hhjACFKdk",
        "colab": {
          "base_uri": "https://localhost:8080/"
        },
        "outputId": "5afe14d8-ac87-417f-c37e-e1a23c2d4348"
      },
      "source": [
        "    df['recommend'].value_counts()"
      ],
      "execution_count": null,
      "outputs": [
        {
          "output_type": "execute_result",
          "data": {
            "text/plain": [
              "False    1485\n",
              "True      310\n",
              "Name: recommend, dtype: int64"
            ]
          },
          "metadata": {
            "tags": []
          },
          "execution_count": 11
        }
      ]
    },
    {
      "cell_type": "markdown",
      "metadata": {
        "id": "ND-SY8zZFKdk"
      },
      "source": [
        "### 데이터 전처리"
      ]
    },
    {
      "cell_type": "code",
      "metadata": {
        "id": "HmxvRKNeFKdk",
        "colab": {
          "base_uri": "https://localhost:8080/"
        },
        "outputId": "003e193d-29ad-42c7-b620-8cc3de0d96ca"
      },
      "source": [
        "df['cocoaPercent'].head()"
      ],
      "execution_count": null,
      "outputs": [
        {
          "output_type": "execute_result",
          "data": {
            "text/plain": [
              "0    63%\n",
              "1    70%\n",
              "2    70%\n",
              "3    70%\n",
              "4    70%\n",
              "Name: cocoaPercent, dtype: object"
            ]
          },
          "metadata": {
            "tags": []
          },
          "execution_count": 12
        }
      ]
    },
    {
      "cell_type": "code",
      "metadata": {
        "id": "p1Aves6zFKdk",
        "colab": {
          "base_uri": "https://localhost:8080/"
        },
        "outputId": "3ba1fce4-1bb7-48db-b780-118f9e36364a"
      },
      "source": [
        "df['broadOrigin'].unique()"
      ],
      "execution_count": null,
      "outputs": [
        {
          "output_type": "execute_result",
          "data": {
            "text/plain": [
              "array(['Sao Tome', 'Togo', 'Peru', 'Venezuela', 'Cuba', 'Panama',\n",
              "       'Madagascar', 'Brazil', 'Ecuador', 'Colombia', 'Burma',\n",
              "       'Papua New Guinea', 'Bolivia', 'Fiji', 'Mexico', 'Indonesia',\n",
              "       'Trinidad', 'Vietnam', 'Nicaragua', 'Tanzania',\n",
              "       'Dominican Republic', 'Ghana', 'Belize', '\\xa0', 'Jamaica',\n",
              "       'Grenada', 'Guatemala', 'Honduras', 'Costa Rica',\n",
              "       'Domincan Republic', 'Haiti', 'Congo', 'Philippines', 'Malaysia',\n",
              "       'Dominican Rep., Bali', 'Venez,Africa,Brasil,Peru,Mex', 'Gabon',\n",
              "       'Ivory Coast', 'Carribean', 'Sri Lanka', 'Puerto Rico', 'Uganda',\n",
              "       'Martinique', 'Sao Tome & Principe', 'Vanuatu', 'Australia',\n",
              "       'Liberia', 'Ecuador, Costa Rica', 'West Africa', 'Hawaii',\n",
              "       'St. Lucia', 'Cost Rica, Ven', 'Peru, Madagascar',\n",
              "       'Venezuela, Trinidad', 'Trinidad, Tobago',\n",
              "       'Ven, Trinidad, Ecuador', 'South America, Africa', 'India',\n",
              "       'Africa, Carribean, C. Am.', 'Tobago', 'Ven., Indonesia, Ecuad.',\n",
              "       'Trinidad-Tobago', 'Peru, Ecuador, Venezuela',\n",
              "       'Venezuela, Dom. Rep.', 'Colombia, Ecuador', 'Solomon Islands',\n",
              "       'Nigeria', 'Peru, Belize', 'Peru, Mad., Dom. Rep.', nan,\n",
              "       'PNG, Vanuatu, Mad', 'El Salvador', 'South America', 'Samoa',\n",
              "       'Ghana, Domin. Rep', 'Trinidad, Ecuador', 'Cameroon',\n",
              "       'Venezuela, Java', 'Venezuela/ Ghana', 'Venezuela, Ghana',\n",
              "       'Indonesia, Ghana', 'Peru(SMartin,Pangoa,nacional)', 'Principe',\n",
              "       'Central and S. America', 'Ven., Trinidad, Mad.',\n",
              "       'Carribean(DR/Jam/Tri)', 'Ghana & Madagascar',\n",
              "       'Ven.,Ecu.,Peru,Nic.', 'Madagascar & Ecuador',\n",
              "       'Guat., D.R., Peru, Mad., PNG', 'Peru, Dom. Rep',\n",
              "       'Dom. Rep., Madagascar', 'Gre., PNG, Haw., Haiti, Mad',\n",
              "       'Mad., Java, PNG', 'Ven, Bolivia, D.R.', 'DR, Ecuador, Peru',\n",
              "       'Suriname', 'Peru, Ecuador', 'Ecuador, Mad., PNG',\n",
              "       'Ghana, Panama, Ecuador', 'Venezuela, Carribean'], dtype=object)"
            ]
          },
          "metadata": {
            "tags": []
          },
          "execution_count": 13
        }
      ]
    },
    {
      "cell_type": "code",
      "metadata": {
        "id": "hPKVz_LgFKdk"
      },
      "source": [
        "import re\n",
        "\n",
        "# broadOrigin 텍스트를 수정하기 위한 함수입니다.\n",
        "def txt_prep(text):\n",
        "    replacements = [\n",
        "        ['-', ', '], ['/ ', ', '], ['/', ', '], ['\\(', ', '], [' and', ', '], [' &', ', '], ['\\)', ''],\n",
        "        ['Dom Rep|DR|Domin Rep|Dominican Rep,|Domincan Republic', 'Dominican Republic'],\n",
        "        ['Mad,|Mad$', 'Madagascar, '],\n",
        "        ['PNG', 'Papua New Guinea, '],\n",
        "        ['Guat,|Guat$', 'Guatemala, '],\n",
        "        ['Ven,|Ven$|Venez,|Venez$', 'Venezuela, '],\n",
        "        ['Ecu,|Ecu$|Ecuad,|Ecuad$', 'Ecuador, '],\n",
        "        ['Nic,|Nic$', 'Nicaragua, '],\n",
        "        ['Cost Rica', 'Costa Rica'],\n",
        "        ['Mex,|Mex$', 'Mexico, '],\n",
        "        ['Jam,|Jam$', 'Jamaica, '],\n",
        "        ['Haw,|Haw$', 'Hawaii, '],\n",
        "        ['Gre,|Gre$', 'Grenada, '],\n",
        "        ['Tri,|Tri$', 'Trinidad, '],\n",
        "        ['C Am', 'Central America'],\n",
        "        ['S America', 'South America'],\n",
        "        [', $', ''], [',  ', ', '], [', ,', ', '], ['\\xa0', ' '],[',\\s+', ','],\n",
        "        ['\\.',''],\n",
        "        [' Bali', ',Bali']\n",
        "    ]\n",
        "    for i, j in replacements:\n",
        "        text = re.sub(i, j, text)\n",
        "    return text"
      ],
      "execution_count": null,
      "outputs": []
    },
    {
      "cell_type": "code",
      "metadata": {
        "id": "JATkKg0vFKdl"
      },
      "source": [
        "# 몇가지 간단하게 수정할 수 있는 부분만 전처리 합니다.\n",
        "def preprocess (df):\n",
        "\n",
        "    df.dropna(inplace=True)\n",
        "    \n",
        "    df['cocoaPercent'] = df['cocoaPercent'].str.replace('%','').astype(float)/100\n",
        "    \n",
        "    df['broadOrigin'] = df['broadOrigin'].apply(txt_prep)\n",
        "    \n",
        "    df['companyLocation'] = df['companyLocation']\\\n",
        "        .str.replace('Amsterdam', 'Holland')\\\n",
        "        .str.replace('U.K.', 'England')\\\n",
        "        .str.replace('Niacragua', 'Nicaragua')\\\n",
        "        .str.replace('Domincan Republic', 'Dominican Republic')\n",
        "    \n",
        "    df['beanType'] = df['beanType'].apply(lambda x : 'Missing' if (x is \"\\xa0\") else x)\n",
        "    \n",
        "    df['is_blend'] = np.where(\n",
        "    np.logical_or(\n",
        "        np.logical_or(df['specificOrigin'].str.lower().str.contains(',|blend|;'),\n",
        "                      df['broadOrigin'].str.len() == 1),\n",
        "        df['broadOrigin'].str.lower().str.contains(',')\n",
        "    )\n",
        "    , 1\n",
        "    , 0\n",
        ")\n",
        "    \n",
        "    return df\n",
        "\n",
        "df = preprocess(df)"
      ],
      "execution_count": null,
      "outputs": []
    },
    {
      "cell_type": "code",
      "metadata": {
        "id": "q4W33pnlFKdl",
        "colab": {
          "base_uri": "https://localhost:8080/"
        },
        "outputId": "02918b46-f94c-4c4d-f05b-384619ba40d7"
      },
      "source": [
        "df['is_blend'].value_counts()"
      ],
      "execution_count": null,
      "outputs": [
        {
          "output_type": "execute_result",
          "data": {
            "text/plain": [
              "0    1095\n",
              "1     698\n",
              "Name: is_blend, dtype: int64"
            ]
          },
          "metadata": {
            "tags": []
          },
          "execution_count": 16
        }
      ]
    },
    {
      "cell_type": "markdown",
      "metadata": {
        "id": "nmOC_EGGFKdl"
      },
      "source": [
        "### 정보 누수 확인"
      ]
    },
    {
      "cell_type": "code",
      "metadata": {
        "id": "pzXn-qalFKdm",
        "colab": {
          "base_uri": "https://localhost:8080/"
        },
        "outputId": "189bf20d-f6e7-4be7-9da1-e4f7aa43773c"
      },
      "source": [
        "df.isna().sum().sort_values()"
      ],
      "execution_count": null,
      "outputs": [
        {
          "output_type": "execute_result",
          "data": {
            "text/plain": [
              "company            0\n",
              "specificOrigin     0\n",
              "ref                0\n",
              "reviewDate         0\n",
              "cocoaPercent       0\n",
              "companyLocation    0\n",
              "rating             0\n",
              "beanType           0\n",
              "broadOrigin        0\n",
              "recommend          0\n",
              "is_blend           0\n",
              "dtype: int64"
            ]
          },
          "metadata": {
            "tags": []
          },
          "execution_count": 17
        }
      ]
    },
    {
      "cell_type": "code",
      "metadata": {
        "id": "yXG--5mIFKdm",
        "colab": {
          "base_uri": "https://localhost:8080/"
        },
        "outputId": "e0e5ea7c-fe70-4110-9267-8921dad38aba"
      },
      "source": [
        "df['reviewDate'].value_counts().sort_index()"
      ],
      "execution_count": null,
      "outputs": [
        {
          "output_type": "execute_result",
          "data": {
            "text/plain": [
              "2006     72\n",
              "2007     77\n",
              "2008     93\n",
              "2009    123\n",
              "2010    111\n",
              "2011    164\n",
              "2012    194\n",
              "2013    184\n",
              "2014    247\n",
              "2015    285\n",
              "2016    219\n",
              "2017     24\n",
              "Name: reviewDate, dtype: int64"
            ]
          },
          "metadata": {
            "tags": []
          },
          "execution_count": 18
        }
      ]
    },
    {
      "cell_type": "markdown",
      "metadata": {
        "id": "UGHW5fW-FKdm"
      },
      "source": [
        "### 데이터 분할 (훈련/검증세트)"
      ]
    },
    {
      "cell_type": "code",
      "metadata": {
        "id": "OcleGEq9FKdm",
        "colab": {
          "base_uri": "https://localhost:8080/"
        },
        "outputId": "6a9c9bd6-764d-4354-9af1-b9e78b9e87dd"
      },
      "source": [
        "from sklearn.model_selection import train_test_split\n",
        "train, val = train_test_split(df, test_size=0.2, random_state=2)\n",
        "train.shape, val.shape"
      ],
      "execution_count": null,
      "outputs": [
        {
          "output_type": "execute_result",
          "data": {
            "text/plain": [
              "((1434, 11), (359, 11))"
            ]
          },
          "metadata": {
            "tags": []
          },
          "execution_count": 19
        }
      ]
    },
    {
      "cell_type": "code",
      "metadata": {
        "colab": {
          "base_uri": "https://localhost:8080/"
        },
        "id": "5mv5ewcrPPXz",
        "outputId": "457248ef-23f2-44da-f804-e7bbfa97bde8"
      },
      "source": [
        "!pip install category_encoders"
      ],
      "execution_count": null,
      "outputs": [
        {
          "output_type": "stream",
          "text": [
            "Collecting category_encoders\n",
            "\u001b[?25l  Downloading https://files.pythonhosted.org/packages/44/57/fcef41c248701ee62e8325026b90c432adea35555cbc870aff9cfba23727/category_encoders-2.2.2-py2.py3-none-any.whl (80kB)\n",
            "\r\u001b[K     |████                            | 10kB 16.0MB/s eta 0:00:01\r\u001b[K     |████████▏                       | 20kB 9.1MB/s eta 0:00:01\r\u001b[K     |████████████▏                   | 30kB 8.2MB/s eta 0:00:01\r\u001b[K     |████████████████▎               | 40kB 6.9MB/s eta 0:00:01\r\u001b[K     |████████████████████▎           | 51kB 4.4MB/s eta 0:00:01\r\u001b[K     |████████████████████████▍       | 61kB 4.2MB/s eta 0:00:01\r\u001b[K     |████████████████████████████▍   | 71kB 4.6MB/s eta 0:00:01\r\u001b[K     |████████████████████████████████| 81kB 3.2MB/s \n",
            "\u001b[?25hRequirement already satisfied: pandas>=0.21.1 in /usr/local/lib/python3.6/dist-packages (from category_encoders) (1.1.5)\n",
            "Requirement already satisfied: scikit-learn>=0.20.0 in /usr/local/lib/python3.6/dist-packages (from category_encoders) (0.22.2.post1)\n",
            "Requirement already satisfied: numpy>=1.14.0 in /usr/local/lib/python3.6/dist-packages (from category_encoders) (1.19.5)\n",
            "Requirement already satisfied: patsy>=0.5.1 in /usr/local/lib/python3.6/dist-packages (from category_encoders) (0.5.1)\n",
            "Requirement already satisfied: scipy>=1.0.0 in /usr/local/lib/python3.6/dist-packages (from category_encoders) (1.4.1)\n",
            "Requirement already satisfied: statsmodels>=0.9.0 in /usr/local/lib/python3.6/dist-packages (from category_encoders) (0.10.2)\n",
            "Requirement already satisfied: python-dateutil>=2.7.3 in /usr/local/lib/python3.6/dist-packages (from pandas>=0.21.1->category_encoders) (2.8.1)\n",
            "Requirement already satisfied: pytz>=2017.2 in /usr/local/lib/python3.6/dist-packages (from pandas>=0.21.1->category_encoders) (2018.9)\n",
            "Requirement already satisfied: joblib>=0.11 in /usr/local/lib/python3.6/dist-packages (from scikit-learn>=0.20.0->category_encoders) (1.0.0)\n",
            "Requirement already satisfied: six in /usr/local/lib/python3.6/dist-packages (from patsy>=0.5.1->category_encoders) (1.15.0)\n",
            "Installing collected packages: category-encoders\n",
            "Successfully installed category-encoders-2.2.2\n"
          ],
          "name": "stdout"
        }
      ]
    },
    {
      "cell_type": "code",
      "metadata": {
        "id": "3hR5MG_pFKdn",
        "colab": {
          "base_uri": "https://localhost:8080/"
        },
        "outputId": "ed7acb3b-dffe-45bd-8819-11cd850094df"
      },
      "source": [
        "from category_encoders import OrdinalEncoder\n",
        "from sklearn.pipeline import make_pipeline\n",
        "from sklearn.tree import DecisionTreeClassifier\n",
        "\n",
        "target = 'recommend'\n",
        "features = df.columns.drop([target, 'reviewDate'])\n",
        "X_train = train[features]\n",
        "y_train = train[target]\n",
        "X_val = val[features]\n",
        "y_val = val[target]\n",
        "\n",
        "pipe = make_pipeline(\n",
        "    OrdinalEncoder(), \n",
        "    DecisionTreeClassifier(max_depth=5, random_state=2)\n",
        ")\n",
        "\n",
        "pipe.fit(X_train, y_train)\n",
        "print('검증 정확도: ', pipe.score(X_val, y_val))"
      ],
      "execution_count": null,
      "outputs": [
        {
          "output_type": "stream",
          "text": [
            "/usr/local/lib/python3.6/dist-packages/statsmodels/tools/_testing.py:19: FutureWarning: pandas.util.testing is deprecated. Use the functions in the public API at pandas.testing instead.\n",
            "  import pandas.util.testing as tm\n"
          ],
          "name": "stderr"
        },
        {
          "output_type": "stream",
          "text": [
            "검증 정확도:  1.0\n"
          ],
          "name": "stdout"
        }
      ]
    },
    {
      "cell_type": "code",
      "metadata": {
        "id": "AsdOA6-WFKdn",
        "colab": {
          "base_uri": "https://localhost:8080/",
          "height": 280
        },
        "outputId": "e6b5d04a-d796-4f4d-a30c-de0eb413a6f3"
      },
      "source": [
        "import graphviz\n",
        "from sklearn.tree import export_graphviz\n",
        "\n",
        "tree = pipe.named_steps['decisiontreeclassifier']\n",
        "\n",
        "dot_data = export_graphviz(\n",
        "    tree,\n",
        "    feature_names=X_train.columns, \n",
        "    class_names=y_train.unique().astype(str), \n",
        "    filled=True, \n",
        "    proportion=True\n",
        ")\n",
        "\n",
        "graphviz.Source(dot_data)"
      ],
      "execution_count": null,
      "outputs": [
        {
          "output_type": "execute_result",
          "data": {
            "text/plain": [
              "<graphviz.files.Source at 0x7fe0d77f3048>"
            ],
            "image/svg+xml": "<?xml version=\"1.0\" encoding=\"UTF-8\" standalone=\"no\"?>\n<!DOCTYPE svg PUBLIC \"-//W3C//DTD SVG 1.1//EN\"\n \"http://www.w3.org/Graphics/SVG/1.1/DTD/svg11.dtd\">\n<!-- Generated by graphviz version 2.40.1 (20161225.0304)\n -->\n<!-- Title: Tree Pages: 1 -->\n<svg width=\"260pt\" height=\"195pt\"\n viewBox=\"0.00 0.00 260.00 195.00\" xmlns=\"http://www.w3.org/2000/svg\" xmlns:xlink=\"http://www.w3.org/1999/xlink\">\n<g id=\"graph0\" class=\"graph\" transform=\"scale(1 1) rotate(0) translate(4 191)\">\n<title>Tree</title>\n<polygon fill=\"#ffffff\" stroke=\"transparent\" points=\"-4,4 -4,-191 256,-191 256,4 -4,4\"/>\n<!-- 0 -->\n<g id=\"node1\" class=\"node\">\n<title>0</title>\n<polygon fill=\"#eb9c63\" stroke=\"#000000\" points=\"199,-187 52,-187 52,-104 199,-104 199,-187\"/>\n<text text-anchor=\"middle\" x=\"125.5\" y=\"-171.8\" font-family=\"Times,serif\" font-size=\"14.00\" fill=\"#000000\">rating &lt;= 3.625</text>\n<text text-anchor=\"middle\" x=\"125.5\" y=\"-156.8\" font-family=\"Times,serif\" font-size=\"14.00\" fill=\"#000000\">gini = 0.29</text>\n<text text-anchor=\"middle\" x=\"125.5\" y=\"-141.8\" font-family=\"Times,serif\" font-size=\"14.00\" fill=\"#000000\">samples = 100.0%</text>\n<text text-anchor=\"middle\" x=\"125.5\" y=\"-126.8\" font-family=\"Times,serif\" font-size=\"14.00\" fill=\"#000000\">value = [0.824, 0.176]</text>\n<text text-anchor=\"middle\" x=\"125.5\" y=\"-111.8\" font-family=\"Times,serif\" font-size=\"14.00\" fill=\"#000000\">class = False</text>\n</g>\n<!-- 1 -->\n<g id=\"node2\" class=\"node\">\n<title>1</title>\n<polygon fill=\"#e58139\" stroke=\"#000000\" points=\"117,-68 0,-68 0,0 117,0 117,-68\"/>\n<text text-anchor=\"middle\" x=\"58.5\" y=\"-52.8\" font-family=\"Times,serif\" font-size=\"14.00\" fill=\"#000000\">gini = 0.0</text>\n<text text-anchor=\"middle\" x=\"58.5\" y=\"-37.8\" font-family=\"Times,serif\" font-size=\"14.00\" fill=\"#000000\">samples = 82.4%</text>\n<text text-anchor=\"middle\" x=\"58.5\" y=\"-22.8\" font-family=\"Times,serif\" font-size=\"14.00\" fill=\"#000000\">value = [1.0, 0.0]</text>\n<text text-anchor=\"middle\" x=\"58.5\" y=\"-7.8\" font-family=\"Times,serif\" font-size=\"14.00\" fill=\"#000000\">class = False</text>\n</g>\n<!-- 0&#45;&gt;1 -->\n<g id=\"edge1\" class=\"edge\">\n<title>0&#45;&gt;1</title>\n<path fill=\"none\" stroke=\"#000000\" d=\"M100.5517,-103.9815C95.2499,-95.1585 89.6419,-85.8258 84.3089,-76.9506\"/>\n<polygon fill=\"#000000\" stroke=\"#000000\" points=\"87.2396,-75.0325 79.0889,-68.2637 81.2395,-78.638 87.2396,-75.0325\"/>\n<text text-anchor=\"middle\" x=\"73.0415\" y=\"-88.8212\" font-family=\"Times,serif\" font-size=\"14.00\" fill=\"#000000\">True</text>\n</g>\n<!-- 2 -->\n<g id=\"node3\" class=\"node\">\n<title>2</title>\n<polygon fill=\"#399de5\" stroke=\"#000000\" points=\"252,-68 135,-68 135,0 252,0 252,-68\"/>\n<text text-anchor=\"middle\" x=\"193.5\" y=\"-52.8\" font-family=\"Times,serif\" font-size=\"14.00\" fill=\"#000000\">gini = 0.0</text>\n<text text-anchor=\"middle\" x=\"193.5\" y=\"-37.8\" font-family=\"Times,serif\" font-size=\"14.00\" fill=\"#000000\">samples = 17.6%</text>\n<text text-anchor=\"middle\" x=\"193.5\" y=\"-22.8\" font-family=\"Times,serif\" font-size=\"14.00\" fill=\"#000000\">value = [0.0, 1.0]</text>\n<text text-anchor=\"middle\" x=\"193.5\" y=\"-7.8\" font-family=\"Times,serif\" font-size=\"14.00\" fill=\"#000000\">class = True</text>\n</g>\n<!-- 0&#45;&gt;2 -->\n<g id=\"edge2\" class=\"edge\">\n<title>0&#45;&gt;2</title>\n<path fill=\"none\" stroke=\"#000000\" d=\"M150.8207,-103.9815C156.2016,-95.1585 161.8932,-85.8258 167.3059,-76.9506\"/>\n<polygon fill=\"#000000\" stroke=\"#000000\" points=\"170.3851,-78.6236 172.6038,-68.2637 164.4088,-74.9789 170.3851,-78.6236\"/>\n<text text-anchor=\"middle\" x=\"178.4918\" y=\"-88.8604\" font-family=\"Times,serif\" font-size=\"14.00\" fill=\"#000000\">False</text>\n</g>\n</g>\n</svg>\n"
          },
          "metadata": {
            "tags": []
          },
          "execution_count": 23
        }
      ]
    },
    {
      "cell_type": "markdown",
      "metadata": {
        "id": "p6PYxwNzFKdn"
      },
      "source": [
        "### 정보 누수 컬럼 제거"
      ]
    },
    {
      "cell_type": "code",
      "metadata": {
        "id": "mQFd0GqeFKdn",
        "colab": {
          "base_uri": "https://localhost:8080/"
        },
        "outputId": "60989cf7-636c-462a-f955-88494d92cb53"
      },
      "source": [
        "features = df.columns.drop([target\n",
        "                            , 'reviewDate'\n",
        "                            , 'rating'\n",
        "                            , 'ref'\n",
        "                           ])\n",
        "X_train = train[features]\n",
        "y_train = train[target]\n",
        "X_val = val[features]\n",
        "y_val = val[target]\n",
        "\n",
        "pipe = make_pipeline(\n",
        "    OrdinalEncoder(), \n",
        "    DecisionTreeClassifier(max_depth=5, random_state=2)\n",
        ")\n",
        "\n",
        "pipe.fit(X_train, y_train)\n",
        "print('검증 정확도', pipe.score(X_val, y_val))"
      ],
      "execution_count": null,
      "outputs": [
        {
          "output_type": "stream",
          "text": [
            "검증 정확도 0.83008356545961\n"
          ],
          "name": "stdout"
        }
      ]
    },
    {
      "cell_type": "code",
      "metadata": {
        "id": "bhwqrt9lFKdo",
        "colab": {
          "base_uri": "https://localhost:8080/",
          "height": 935
        },
        "outputId": "c1701084-d785-4c51-8fd1-306e42a6453f"
      },
      "source": [
        "tree = pipe.named_steps['decisiontreeclassifier']\n",
        "\n",
        "dot_data = export_graphviz(\n",
        "    tree, \n",
        "    feature_names=X_train.columns, \n",
        "    class_names=y_train.unique().astype(str), \n",
        "    filled=True, \n",
        "    proportion=True\n",
        ")\n",
        "\n",
        "graphviz.Source(dot_data)"
      ],
      "execution_count": null,
      "outputs": [
        {
          "output_type": "execute_result",
          "data": {
            "text/plain": [
              "<graphviz.files.Source at 0x7fe0cf07cdd8>"
            ],
            "image/svg+xml": "<?xml version=\"1.0\" encoding=\"UTF-8\" standalone=\"no\"?>\n<!DOCTYPE svg PUBLIC \"-//W3C//DTD SVG 1.1//EN\"\n \"http://www.w3.org/Graphics/SVG/1.1/DTD/svg11.dtd\">\n<!-- Generated by graphviz version 2.40.1 (20161225.0304)\n -->\n<!-- Title: Tree Pages: 1 -->\n<svg width=\"2751pt\" height=\"671pt\"\n viewBox=\"0.00 0.00 2750.50 671.00\" xmlns=\"http://www.w3.org/2000/svg\" xmlns:xlink=\"http://www.w3.org/1999/xlink\">\n<g id=\"graph0\" class=\"graph\" transform=\"scale(1 1) rotate(0) translate(4 667)\">\n<title>Tree</title>\n<polygon fill=\"#ffffff\" stroke=\"transparent\" points=\"-4,4 -4,-667 2746.5,-667 2746.5,4 -4,4\"/>\n<!-- 0 -->\n<g id=\"node1\" class=\"node\">\n<title>0</title>\n<polygon fill=\"#eb9c63\" stroke=\"#000000\" points=\"1739.5,-663 1584.5,-663 1584.5,-580 1739.5,-580 1739.5,-663\"/>\n<text text-anchor=\"middle\" x=\"1662\" y=\"-647.8\" font-family=\"Times,serif\" font-size=\"14.00\" fill=\"#000000\">specificOrigin &lt;= 265.5</text>\n<text text-anchor=\"middle\" x=\"1662\" y=\"-632.8\" font-family=\"Times,serif\" font-size=\"14.00\" fill=\"#000000\">gini = 0.29</text>\n<text text-anchor=\"middle\" x=\"1662\" y=\"-617.8\" font-family=\"Times,serif\" font-size=\"14.00\" fill=\"#000000\">samples = 100.0%</text>\n<text text-anchor=\"middle\" x=\"1662\" y=\"-602.8\" font-family=\"Times,serif\" font-size=\"14.00\" fill=\"#000000\">value = [0.824, 0.176]</text>\n<text text-anchor=\"middle\" x=\"1662\" y=\"-587.8\" font-family=\"Times,serif\" font-size=\"14.00\" fill=\"#000000\">class = False</text>\n</g>\n<!-- 1 -->\n<g id=\"node2\" class=\"node\">\n<title>1</title>\n<polygon fill=\"#e99457\" stroke=\"#000000\" points=\"1379.5,-544 1232.5,-544 1232.5,-461 1379.5,-461 1379.5,-544\"/>\n<text text-anchor=\"middle\" x=\"1306\" y=\"-528.8\" font-family=\"Times,serif\" font-size=\"14.00\" fill=\"#000000\">company &lt;= 110.5</text>\n<text text-anchor=\"middle\" x=\"1306\" y=\"-513.8\" font-family=\"Times,serif\" font-size=\"14.00\" fill=\"#000000\">gini = 0.23</text>\n<text text-anchor=\"middle\" x=\"1306\" y=\"-498.8\" font-family=\"Times,serif\" font-size=\"14.00\" fill=\"#000000\">samples = 52.6%</text>\n<text text-anchor=\"middle\" x=\"1306\" y=\"-483.8\" font-family=\"Times,serif\" font-size=\"14.00\" fill=\"#000000\">value = [0.868, 0.132]</text>\n<text text-anchor=\"middle\" x=\"1306\" y=\"-468.8\" font-family=\"Times,serif\" font-size=\"14.00\" fill=\"#000000\">class = False</text>\n</g>\n<!-- 0&#45;&gt;1 -->\n<g id=\"edge1\" class=\"edge\">\n<title>0&#45;&gt;1</title>\n<path fill=\"none\" stroke=\"#000000\" d=\"M1584.3142,-595.532C1526.6589,-576.2596 1448.1555,-550.0183 1389.2211,-530.3183\"/>\n<polygon fill=\"#000000\" stroke=\"#000000\" points=\"1390.1611,-526.9422 1379.5673,-527.0913 1387.9419,-533.5811 1390.1611,-526.9422\"/>\n<text text-anchor=\"middle\" x=\"1390.7288\" y=\"-545.7614\" font-family=\"Times,serif\" font-size=\"14.00\" fill=\"#000000\">True</text>\n</g>\n<!-- 24 -->\n<g id=\"node25\" class=\"node\">\n<title>24</title>\n<polygon fill=\"#eca572\" stroke=\"#000000\" points=\"2177.5,-544 2030.5,-544 2030.5,-461 2177.5,-461 2177.5,-544\"/>\n<text text-anchor=\"middle\" x=\"2104\" y=\"-528.8\" font-family=\"Times,serif\" font-size=\"14.00\" fill=\"#000000\">company &lt;= 284.0</text>\n<text text-anchor=\"middle\" x=\"2104\" y=\"-513.8\" font-family=\"Times,serif\" font-size=\"14.00\" fill=\"#000000\">gini = 0.347</text>\n<text text-anchor=\"middle\" x=\"2104\" y=\"-498.8\" font-family=\"Times,serif\" font-size=\"14.00\" fill=\"#000000\">samples = 47.4%</text>\n<text text-anchor=\"middle\" x=\"2104\" y=\"-483.8\" font-family=\"Times,serif\" font-size=\"14.00\" fill=\"#000000\">value = [0.776, 0.224]</text>\n<text text-anchor=\"middle\" x=\"2104\" y=\"-468.8\" font-family=\"Times,serif\" font-size=\"14.00\" fill=\"#000000\">class = False</text>\n</g>\n<!-- 0&#45;&gt;24 -->\n<g id=\"edge24\" class=\"edge\">\n<title>0&#45;&gt;24</title>\n<path fill=\"none\" stroke=\"#000000\" d=\"M1739.7497,-600.5674C1818.3783,-579.3982 1939.5159,-546.7842 2020.2324,-525.0528\"/>\n<polygon fill=\"#000000\" stroke=\"#000000\" points=\"2021.6145,-528.3054 2030.3607,-522.326 2019.7946,-521.5461 2021.6145,-528.3054\"/>\n<text text-anchor=\"middle\" x=\"2017.8866\" y=\"-540.2915\" font-family=\"Times,serif\" font-size=\"14.00\" fill=\"#000000\">False</text>\n</g>\n<!-- 2 -->\n<g id=\"node3\" class=\"node\">\n<title>2</title>\n<polygon fill=\"#eb9c63\" stroke=\"#000000\" points=\"906.5,-425 759.5,-425 759.5,-342 906.5,-342 906.5,-425\"/>\n<text text-anchor=\"middle\" x=\"833\" y=\"-409.8\" font-family=\"Times,serif\" font-size=\"14.00\" fill=\"#000000\">broadOrigin &lt;= 14.5</text>\n<text text-anchor=\"middle\" x=\"833\" y=\"-394.8\" font-family=\"Times,serif\" font-size=\"14.00\" fill=\"#000000\">gini = 0.29</text>\n<text text-anchor=\"middle\" x=\"833\" y=\"-379.8\" font-family=\"Times,serif\" font-size=\"14.00\" fill=\"#000000\">samples = 28.5%</text>\n<text text-anchor=\"middle\" x=\"833\" y=\"-364.8\" font-family=\"Times,serif\" font-size=\"14.00\" fill=\"#000000\">value = [0.824, 0.176]</text>\n<text text-anchor=\"middle\" x=\"833\" y=\"-349.8\" font-family=\"Times,serif\" font-size=\"14.00\" fill=\"#000000\">class = False</text>\n</g>\n<!-- 1&#45;&gt;2 -->\n<g id=\"edge2\" class=\"edge\">\n<title>1&#45;&gt;2</title>\n<path fill=\"none\" stroke=\"#000000\" d=\"M1232.3534,-483.9716C1146.8846,-462.4688 1006.2534,-427.0881 916.7119,-404.5607\"/>\n<polygon fill=\"#000000\" stroke=\"#000000\" points=\"917.4146,-401.1285 906.8629,-402.0828 915.7067,-407.917 917.4146,-401.1285\"/>\n</g>\n<!-- 15 -->\n<g id=\"node16\" class=\"node\">\n<title>15</title>\n<polygon fill=\"#e78c4a\" stroke=\"#000000\" points=\"1379.5,-425 1232.5,-425 1232.5,-342 1379.5,-342 1379.5,-425\"/>\n<text text-anchor=\"middle\" x=\"1306\" y=\"-409.8\" font-family=\"Times,serif\" font-size=\"14.00\" fill=\"#000000\">broadOrigin &lt;= 66.5</text>\n<text text-anchor=\"middle\" x=\"1306\" y=\"-394.8\" font-family=\"Times,serif\" font-size=\"14.00\" fill=\"#000000\">gini = 0.149</text>\n<text text-anchor=\"middle\" x=\"1306\" y=\"-379.8\" font-family=\"Times,serif\" font-size=\"14.00\" fill=\"#000000\">samples = 24.1%</text>\n<text text-anchor=\"middle\" x=\"1306\" y=\"-364.8\" font-family=\"Times,serif\" font-size=\"14.00\" fill=\"#000000\">value = [0.919, 0.081]</text>\n<text text-anchor=\"middle\" x=\"1306\" y=\"-349.8\" font-family=\"Times,serif\" font-size=\"14.00\" fill=\"#000000\">class = False</text>\n</g>\n<!-- 1&#45;&gt;15 -->\n<g id=\"edge15\" class=\"edge\">\n<title>1&#45;&gt;15</title>\n<path fill=\"none\" stroke=\"#000000\" d=\"M1306,-460.8796C1306,-452.6838 1306,-443.9891 1306,-435.5013\"/>\n<polygon fill=\"#000000\" stroke=\"#000000\" points=\"1309.5001,-435.298 1306,-425.2981 1302.5001,-435.2981 1309.5001,-435.298\"/>\n</g>\n<!-- 3 -->\n<g id=\"node4\" class=\"node\">\n<title>3</title>\n<polygon fill=\"#eca36f\" stroke=\"#000000\" points=\"511.5,-306 364.5,-306 364.5,-223 511.5,-223 511.5,-306\"/>\n<text text-anchor=\"middle\" x=\"438\" y=\"-290.8\" font-family=\"Times,serif\" font-size=\"14.00\" fill=\"#000000\">specificOrigin &lt;= 44.5</text>\n<text text-anchor=\"middle\" x=\"438\" y=\"-275.8\" font-family=\"Times,serif\" font-size=\"14.00\" fill=\"#000000\">gini = 0.337</text>\n<text text-anchor=\"middle\" x=\"438\" y=\"-260.8\" font-family=\"Times,serif\" font-size=\"14.00\" fill=\"#000000\">samples = 20.8%</text>\n<text text-anchor=\"middle\" x=\"438\" y=\"-245.8\" font-family=\"Times,serif\" font-size=\"14.00\" fill=\"#000000\">value = [0.785, 0.215]</text>\n<text text-anchor=\"middle\" x=\"438\" y=\"-230.8\" font-family=\"Times,serif\" font-size=\"14.00\" fill=\"#000000\">class = False</text>\n</g>\n<!-- 2&#45;&gt;3 -->\n<g id=\"edge3\" class=\"edge\">\n<title>2&#45;&gt;3</title>\n<path fill=\"none\" stroke=\"#000000\" d=\"M759.1669,-361.2566C691.6686,-340.9217 591.9237,-310.8719 521.5363,-289.6666\"/>\n<polygon fill=\"#000000\" stroke=\"#000000\" points=\"522.3901,-286.2685 511.8055,-286.7351 520.3708,-292.971 522.3901,-286.2685\"/>\n</g>\n<!-- 10 -->\n<g id=\"node11\" class=\"node\">\n<title>10</title>\n<polygon fill=\"#e78b48\" stroke=\"#000000\" points=\"906.5,-306 759.5,-306 759.5,-223 906.5,-223 906.5,-306\"/>\n<text text-anchor=\"middle\" x=\"833\" y=\"-290.8\" font-family=\"Times,serif\" font-size=\"14.00\" fill=\"#000000\">broadOrigin &lt;= 58.5</text>\n<text text-anchor=\"middle\" x=\"833\" y=\"-275.8\" font-family=\"Times,serif\" font-size=\"14.00\" fill=\"#000000\">gini = 0.134</text>\n<text text-anchor=\"middle\" x=\"833\" y=\"-260.8\" font-family=\"Times,serif\" font-size=\"14.00\" fill=\"#000000\">samples = 7.7%</text>\n<text text-anchor=\"middle\" x=\"833\" y=\"-245.8\" font-family=\"Times,serif\" font-size=\"14.00\" fill=\"#000000\">value = [0.928, 0.072]</text>\n<text text-anchor=\"middle\" x=\"833\" y=\"-230.8\" font-family=\"Times,serif\" font-size=\"14.00\" fill=\"#000000\">class = False</text>\n</g>\n<!-- 2&#45;&gt;10 -->\n<g id=\"edge10\" class=\"edge\">\n<title>2&#45;&gt;10</title>\n<path fill=\"none\" stroke=\"#000000\" d=\"M833,-341.8796C833,-333.6838 833,-324.9891 833,-316.5013\"/>\n<polygon fill=\"#000000\" stroke=\"#000000\" points=\"836.5001,-316.298 833,-306.2981 829.5001,-316.2981 836.5001,-316.298\"/>\n</g>\n<!-- 4 -->\n<g id=\"node5\" class=\"node\">\n<title>4</title>\n<polygon fill=\"#ea975b\" stroke=\"#000000\" points=\"282.5,-187 135.5,-187 135.5,-104 282.5,-104 282.5,-187\"/>\n<text text-anchor=\"middle\" x=\"209\" y=\"-171.8\" font-family=\"Times,serif\" font-size=\"14.00\" fill=\"#000000\">broadOrigin &lt;= 9.5</text>\n<text text-anchor=\"middle\" x=\"209\" y=\"-156.8\" font-family=\"Times,serif\" font-size=\"14.00\" fill=\"#000000\">gini = 0.252</text>\n<text text-anchor=\"middle\" x=\"209\" y=\"-141.8\" font-family=\"Times,serif\" font-size=\"14.00\" fill=\"#000000\">samples = 9.4%</text>\n<text text-anchor=\"middle\" x=\"209\" y=\"-126.8\" font-family=\"Times,serif\" font-size=\"14.00\" fill=\"#000000\">value = [0.852, 0.148]</text>\n<text text-anchor=\"middle\" x=\"209\" y=\"-111.8\" font-family=\"Times,serif\" font-size=\"14.00\" fill=\"#000000\">class = False</text>\n</g>\n<!-- 3&#45;&gt;4 -->\n<g id=\"edge4\" class=\"edge\">\n<title>3&#45;&gt;4</title>\n<path fill=\"none\" stroke=\"#000000\" d=\"M364.2824,-226.1926C341.0948,-214.1431 315.3403,-200.7598 291.579,-188.4123\"/>\n<polygon fill=\"#000000\" stroke=\"#000000\" points=\"293.0668,-185.241 282.5794,-183.7356 289.839,-191.4525 293.0668,-185.241\"/>\n</g>\n<!-- 7 -->\n<g id=\"node8\" class=\"node\">\n<title>7</title>\n<polygon fill=\"#efb082\" stroke=\"#000000\" points=\"504,-187 372,-187 372,-104 504,-104 504,-187\"/>\n<text text-anchor=\"middle\" x=\"438\" y=\"-171.8\" font-family=\"Times,serif\" font-size=\"14.00\" fill=\"#000000\">company &lt;= 98.5</text>\n<text text-anchor=\"middle\" x=\"438\" y=\"-156.8\" font-family=\"Times,serif\" font-size=\"14.00\" fill=\"#000000\">gini = 0.394</text>\n<text text-anchor=\"middle\" x=\"438\" y=\"-141.8\" font-family=\"Times,serif\" font-size=\"14.00\" fill=\"#000000\">samples = 11.4%</text>\n<text text-anchor=\"middle\" x=\"438\" y=\"-126.8\" font-family=\"Times,serif\" font-size=\"14.00\" fill=\"#000000\">value = [0.73, 0.27]</text>\n<text text-anchor=\"middle\" x=\"438\" y=\"-111.8\" font-family=\"Times,serif\" font-size=\"14.00\" fill=\"#000000\">class = False</text>\n</g>\n<!-- 3&#45;&gt;7 -->\n<g id=\"edge7\" class=\"edge\">\n<title>3&#45;&gt;7</title>\n<path fill=\"none\" stroke=\"#000000\" d=\"M438,-222.8796C438,-214.6838 438,-205.9891 438,-197.5013\"/>\n<polygon fill=\"#000000\" stroke=\"#000000\" points=\"441.5001,-197.298 438,-187.2981 434.5001,-197.2981 441.5001,-197.298\"/>\n</g>\n<!-- 5 -->\n<g id=\"node6\" class=\"node\">\n<title>5</title>\n<polygon fill=\"#eb9d65\" stroke=\"#000000\" points=\"132,-68 0,-68 0,0 132,0 132,-68\"/>\n<text text-anchor=\"middle\" x=\"66\" y=\"-52.8\" font-family=\"Times,serif\" font-size=\"14.00\" fill=\"#000000\">gini = 0.295</text>\n<text text-anchor=\"middle\" x=\"66\" y=\"-37.8\" font-family=\"Times,serif\" font-size=\"14.00\" fill=\"#000000\">samples = 7.7%</text>\n<text text-anchor=\"middle\" x=\"66\" y=\"-22.8\" font-family=\"Times,serif\" font-size=\"14.00\" fill=\"#000000\">value = [0.82, 0.18]</text>\n<text text-anchor=\"middle\" x=\"66\" y=\"-7.8\" font-family=\"Times,serif\" font-size=\"14.00\" fill=\"#000000\">class = False</text>\n</g>\n<!-- 4&#45;&gt;5 -->\n<g id=\"edge5\" class=\"edge\">\n<title>4&#45;&gt;5</title>\n<path fill=\"none\" stroke=\"#000000\" d=\"M155.7521,-103.9815C143.3756,-94.3313 130.2172,-84.0714 117.8997,-74.4673\"/>\n<polygon fill=\"#000000\" stroke=\"#000000\" points=\"119.9818,-71.6525 109.9435,-68.2637 115.6775,-77.1728 119.9818,-71.6525\"/>\n</g>\n<!-- 6 -->\n<g id=\"node7\" class=\"node\">\n<title>6</title>\n<polygon fill=\"#e58139\" stroke=\"#000000\" points=\"267.5,-68 150.5,-68 150.5,0 267.5,0 267.5,-68\"/>\n<text text-anchor=\"middle\" x=\"209\" y=\"-52.8\" font-family=\"Times,serif\" font-size=\"14.00\" fill=\"#000000\">gini = 0.0</text>\n<text text-anchor=\"middle\" x=\"209\" y=\"-37.8\" font-family=\"Times,serif\" font-size=\"14.00\" fill=\"#000000\">samples = 1.7%</text>\n<text text-anchor=\"middle\" x=\"209\" y=\"-22.8\" font-family=\"Times,serif\" font-size=\"14.00\" fill=\"#000000\">value = [1.0, 0.0]</text>\n<text text-anchor=\"middle\" x=\"209\" y=\"-7.8\" font-family=\"Times,serif\" font-size=\"14.00\" fill=\"#000000\">class = False</text>\n</g>\n<!-- 4&#45;&gt;6 -->\n<g id=\"edge6\" class=\"edge\">\n<title>4&#45;&gt;6</title>\n<path fill=\"none\" stroke=\"#000000\" d=\"M209,-103.9815C209,-95.618 209,-86.7965 209,-78.3409\"/>\n<polygon fill=\"#000000\" stroke=\"#000000\" points=\"212.5001,-78.2636 209,-68.2637 205.5001,-78.2637 212.5001,-78.2636\"/>\n</g>\n<!-- 8 -->\n<g id=\"node9\" class=\"node\">\n<title>8</title>\n<polygon fill=\"#eeab7b\" stroke=\"#000000\" points=\"418,-68 286,-68 286,0 418,0 418,-68\"/>\n<text text-anchor=\"middle\" x=\"352\" y=\"-52.8\" font-family=\"Times,serif\" font-size=\"14.00\" fill=\"#000000\">gini = 0.375</text>\n<text text-anchor=\"middle\" x=\"352\" y=\"-37.8\" font-family=\"Times,serif\" font-size=\"14.00\" fill=\"#000000\">samples = 10.6%</text>\n<text text-anchor=\"middle\" x=\"352\" y=\"-22.8\" font-family=\"Times,serif\" font-size=\"14.00\" fill=\"#000000\">value = [0.75, 0.25]</text>\n<text text-anchor=\"middle\" x=\"352\" y=\"-7.8\" font-family=\"Times,serif\" font-size=\"14.00\" fill=\"#000000\">class = False</text>\n</g>\n<!-- 7&#45;&gt;8 -->\n<g id=\"edge8\" class=\"edge\">\n<title>7&#45;&gt;8</title>\n<path fill=\"none\" stroke=\"#000000\" d=\"M405.9768,-103.9815C399.0298,-94.9747 391.6731,-85.4367 384.7004,-76.3965\"/>\n<polygon fill=\"#000000\" stroke=\"#000000\" points=\"387.3064,-74.0444 378.4276,-68.2637 381.7636,-78.3196 387.3064,-74.0444\"/>\n</g>\n<!-- 9 -->\n<g id=\"node10\" class=\"node\">\n<title>9</title>\n<polygon fill=\"#deeffb\" stroke=\"#000000\" points=\"583.5,-68 436.5,-68 436.5,0 583.5,0 583.5,-68\"/>\n<text text-anchor=\"middle\" x=\"510\" y=\"-52.8\" font-family=\"Times,serif\" font-size=\"14.00\" fill=\"#000000\">gini = 0.496</text>\n<text text-anchor=\"middle\" x=\"510\" y=\"-37.8\" font-family=\"Times,serif\" font-size=\"14.00\" fill=\"#000000\">samples = 0.8%</text>\n<text text-anchor=\"middle\" x=\"510\" y=\"-22.8\" font-family=\"Times,serif\" font-size=\"14.00\" fill=\"#000000\">value = [0.455, 0.545]</text>\n<text text-anchor=\"middle\" x=\"510\" y=\"-7.8\" font-family=\"Times,serif\" font-size=\"14.00\" fill=\"#000000\">class = True</text>\n</g>\n<!-- 7&#45;&gt;9 -->\n<g id=\"edge9\" class=\"edge\">\n<title>7&#45;&gt;9</title>\n<path fill=\"none\" stroke=\"#000000\" d=\"M464.8101,-103.9815C470.5669,-95.0666 476.6596,-85.6313 482.4441,-76.6734\"/>\n<polygon fill=\"#000000\" stroke=\"#000000\" points=\"485.3901,-78.5631 487.8746,-68.2637 479.5096,-74.7658 485.3901,-78.5631\"/>\n</g>\n<!-- 11 -->\n<g id=\"node12\" class=\"node\">\n<title>11</title>\n<polygon fill=\"#e78a46\" stroke=\"#000000\" points=\"831.5,-187 684.5,-187 684.5,-104 831.5,-104 831.5,-187\"/>\n<text text-anchor=\"middle\" x=\"758\" y=\"-171.8\" font-family=\"Times,serif\" font-size=\"14.00\" fill=\"#000000\">is_blend &lt;= 0.5</text>\n<text text-anchor=\"middle\" x=\"758\" y=\"-156.8\" font-family=\"Times,serif\" font-size=\"14.00\" fill=\"#000000\">gini = 0.119</text>\n<text text-anchor=\"middle\" x=\"758\" y=\"-141.8\" font-family=\"Times,serif\" font-size=\"14.00\" fill=\"#000000\">samples = 7.7%</text>\n<text text-anchor=\"middle\" x=\"758\" y=\"-126.8\" font-family=\"Times,serif\" font-size=\"14.00\" fill=\"#000000\">value = [0.936, 0.064]</text>\n<text text-anchor=\"middle\" x=\"758\" y=\"-111.8\" font-family=\"Times,serif\" font-size=\"14.00\" fill=\"#000000\">class = False</text>\n</g>\n<!-- 10&#45;&gt;11 -->\n<g id=\"edge11\" class=\"edge\">\n<title>10&#45;&gt;11</title>\n<path fill=\"none\" stroke=\"#000000\" d=\"M806.7686,-222.8796C801.2627,-214.1434 795.3994,-204.8404 789.7176,-195.8253\"/>\n<polygon fill=\"#000000\" stroke=\"#000000\" points=\"792.6363,-193.8919 784.3433,-187.2981 786.7143,-197.6242 792.6363,-193.8919\"/>\n</g>\n<!-- 14 -->\n<g id=\"node15\" class=\"node\">\n<title>14</title>\n<polygon fill=\"#399de5\" stroke=\"#000000\" points=\"966.5,-179.5 849.5,-179.5 849.5,-111.5 966.5,-111.5 966.5,-179.5\"/>\n<text text-anchor=\"middle\" x=\"908\" y=\"-164.3\" font-family=\"Times,serif\" font-size=\"14.00\" fill=\"#000000\">gini = 0.0</text>\n<text text-anchor=\"middle\" x=\"908\" y=\"-149.3\" font-family=\"Times,serif\" font-size=\"14.00\" fill=\"#000000\">samples = 0.1%</text>\n<text text-anchor=\"middle\" x=\"908\" y=\"-134.3\" font-family=\"Times,serif\" font-size=\"14.00\" fill=\"#000000\">value = [0.0, 1.0]</text>\n<text text-anchor=\"middle\" x=\"908\" y=\"-119.3\" font-family=\"Times,serif\" font-size=\"14.00\" fill=\"#000000\">class = True</text>\n</g>\n<!-- 10&#45;&gt;14 -->\n<g id=\"edge14\" class=\"edge\">\n<title>10&#45;&gt;14</title>\n<path fill=\"none\" stroke=\"#000000\" d=\"M859.2314,-222.8796C866.231,-211.7735 873.808,-199.7513 880.8556,-188.5691\"/>\n<polygon fill=\"#000000\" stroke=\"#000000\" points=\"884.002,-190.1411 886.3729,-179.8149 878.08,-186.4087 884.002,-190.1411\"/>\n</g>\n<!-- 12 -->\n<g id=\"node13\" class=\"node\">\n<title>12</title>\n<polygon fill=\"#e5833c\" stroke=\"#000000\" points=\"748.5,-68 601.5,-68 601.5,0 748.5,0 748.5,-68\"/>\n<text text-anchor=\"middle\" x=\"675\" y=\"-52.8\" font-family=\"Times,serif\" font-size=\"14.00\" fill=\"#000000\">gini = 0.029</text>\n<text text-anchor=\"middle\" x=\"675\" y=\"-37.8\" font-family=\"Times,serif\" font-size=\"14.00\" fill=\"#000000\">samples = 4.8%</text>\n<text text-anchor=\"middle\" x=\"675\" y=\"-22.8\" font-family=\"Times,serif\" font-size=\"14.00\" fill=\"#000000\">value = [0.986, 0.014]</text>\n<text text-anchor=\"middle\" x=\"675\" y=\"-7.8\" font-family=\"Times,serif\" font-size=\"14.00\" fill=\"#000000\">class = False</text>\n</g>\n<!-- 11&#45;&gt;12 -->\n<g id=\"edge12\" class=\"edge\">\n<title>11&#45;&gt;12</title>\n<path fill=\"none\" stroke=\"#000000\" d=\"M727.0939,-103.9815C720.3892,-94.9747 713.2892,-85.4367 706.5597,-76.3965\"/>\n<polygon fill=\"#000000\" stroke=\"#000000\" points=\"709.2845,-74.1953 700.5057,-68.2637 703.6694,-78.3752 709.2845,-74.1953\"/>\n</g>\n<!-- 13 -->\n<g id=\"node14\" class=\"node\">\n<title>13</title>\n<polygon fill=\"#e9975b\" stroke=\"#000000\" points=\"913.5,-68 766.5,-68 766.5,0 913.5,0 913.5,-68\"/>\n<text text-anchor=\"middle\" x=\"840\" y=\"-52.8\" font-family=\"Times,serif\" font-size=\"14.00\" fill=\"#000000\">gini = 0.25</text>\n<text text-anchor=\"middle\" x=\"840\" y=\"-37.8\" font-family=\"Times,serif\" font-size=\"14.00\" fill=\"#000000\">samples = 2.9%</text>\n<text text-anchor=\"middle\" x=\"840\" y=\"-22.8\" font-family=\"Times,serif\" font-size=\"14.00\" fill=\"#000000\">value = [0.854, 0.146]</text>\n<text text-anchor=\"middle\" x=\"840\" y=\"-7.8\" font-family=\"Times,serif\" font-size=\"14.00\" fill=\"#000000\">class = False</text>\n</g>\n<!-- 11&#45;&gt;13 -->\n<g id=\"edge13\" class=\"edge\">\n<title>11&#45;&gt;13</title>\n<path fill=\"none\" stroke=\"#000000\" d=\"M788.5338,-103.9815C795.1576,-94.9747 802.1721,-85.4367 808.8205,-76.3965\"/>\n<polygon fill=\"#000000\" stroke=\"#000000\" points=\"811.6966,-78.3933 814.8016,-68.2637 806.0574,-74.2461 811.6966,-78.3933\"/>\n</g>\n<!-- 16 -->\n<g id=\"node17\" class=\"node\">\n<title>16</title>\n<polygon fill=\"#e78c4a\" stroke=\"#000000\" points=\"1304.5,-306 1157.5,-306 1157.5,-223 1304.5,-223 1304.5,-306\"/>\n<text text-anchor=\"middle\" x=\"1231\" y=\"-290.8\" font-family=\"Times,serif\" font-size=\"14.00\" fill=\"#000000\">specificOrigin &lt;= 6.5</text>\n<text text-anchor=\"middle\" x=\"1231\" y=\"-275.8\" font-family=\"Times,serif\" font-size=\"14.00\" fill=\"#000000\">gini = 0.144</text>\n<text text-anchor=\"middle\" x=\"1231\" y=\"-260.8\" font-family=\"Times,serif\" font-size=\"14.00\" fill=\"#000000\">samples = 24.1%</text>\n<text text-anchor=\"middle\" x=\"1231\" y=\"-245.8\" font-family=\"Times,serif\" font-size=\"14.00\" fill=\"#000000\">value = [0.922, 0.078]</text>\n<text text-anchor=\"middle\" x=\"1231\" y=\"-230.8\" font-family=\"Times,serif\" font-size=\"14.00\" fill=\"#000000\">class = False</text>\n</g>\n<!-- 15&#45;&gt;16 -->\n<g id=\"edge16\" class=\"edge\">\n<title>15&#45;&gt;16</title>\n<path fill=\"none\" stroke=\"#000000\" d=\"M1279.7686,-341.8796C1274.2627,-333.1434 1268.3994,-323.8404 1262.7176,-314.8253\"/>\n<polygon fill=\"#000000\" stroke=\"#000000\" points=\"1265.6363,-312.8919 1257.3433,-306.2981 1259.7143,-316.6242 1265.6363,-312.8919\"/>\n</g>\n<!-- 23 -->\n<g id=\"node24\" class=\"node\">\n<title>23</title>\n<polygon fill=\"#399de5\" stroke=\"#000000\" points=\"1439.5,-298.5 1322.5,-298.5 1322.5,-230.5 1439.5,-230.5 1439.5,-298.5\"/>\n<text text-anchor=\"middle\" x=\"1381\" y=\"-283.3\" font-family=\"Times,serif\" font-size=\"14.00\" fill=\"#000000\">gini = 0.0</text>\n<text text-anchor=\"middle\" x=\"1381\" y=\"-268.3\" font-family=\"Times,serif\" font-size=\"14.00\" fill=\"#000000\">samples = 0.1%</text>\n<text text-anchor=\"middle\" x=\"1381\" y=\"-253.3\" font-family=\"Times,serif\" font-size=\"14.00\" fill=\"#000000\">value = [0.0, 1.0]</text>\n<text text-anchor=\"middle\" x=\"1381\" y=\"-238.3\" font-family=\"Times,serif\" font-size=\"14.00\" fill=\"#000000\">class = True</text>\n</g>\n<!-- 15&#45;&gt;23 -->\n<g id=\"edge23\" class=\"edge\">\n<title>15&#45;&gt;23</title>\n<path fill=\"none\" stroke=\"#000000\" d=\"M1332.2314,-341.8796C1339.231,-330.7735 1346.808,-318.7513 1353.8556,-307.5691\"/>\n<polygon fill=\"#000000\" stroke=\"#000000\" points=\"1357.002,-309.1411 1359.3729,-298.8149 1351.08,-305.4087 1357.002,-309.1411\"/>\n</g>\n<!-- 17 -->\n<g id=\"node18\" class=\"node\">\n<title>17</title>\n<polygon fill=\"#eb9e67\" stroke=\"#000000\" points=\"1221.5,-187 1074.5,-187 1074.5,-104 1221.5,-104 1221.5,-187\"/>\n<text text-anchor=\"middle\" x=\"1148\" y=\"-171.8\" font-family=\"Times,serif\" font-size=\"14.00\" fill=\"#000000\">beanType &lt;= 11.5</text>\n<text text-anchor=\"middle\" x=\"1148\" y=\"-156.8\" font-family=\"Times,serif\" font-size=\"14.00\" fill=\"#000000\">gini = 0.305</text>\n<text text-anchor=\"middle\" x=\"1148\" y=\"-141.8\" font-family=\"Times,serif\" font-size=\"14.00\" fill=\"#000000\">samples = 2.2%</text>\n<text text-anchor=\"middle\" x=\"1148\" y=\"-126.8\" font-family=\"Times,serif\" font-size=\"14.00\" fill=\"#000000\">value = [0.812, 0.188]</text>\n<text text-anchor=\"middle\" x=\"1148\" y=\"-111.8\" font-family=\"Times,serif\" font-size=\"14.00\" fill=\"#000000\">class = False</text>\n</g>\n<!-- 16&#45;&gt;17 -->\n<g id=\"edge17\" class=\"edge\">\n<title>16&#45;&gt;17</title>\n<path fill=\"none\" stroke=\"#000000\" d=\"M1201.9706,-222.8796C1195.8145,-214.0534 1189.2549,-204.6485 1182.9064,-195.5466\"/>\n<polygon fill=\"#000000\" stroke=\"#000000\" points=\"1185.7448,-193.4978 1177.1533,-187.2981 1180.0033,-197.5024 1185.7448,-193.4978\"/>\n</g>\n<!-- 20 -->\n<g id=\"node21\" class=\"node\">\n<title>20</title>\n<polygon fill=\"#e78a47\" stroke=\"#000000\" points=\"1386.5,-187 1239.5,-187 1239.5,-104 1386.5,-104 1386.5,-187\"/>\n<text text-anchor=\"middle\" x=\"1313\" y=\"-171.8\" font-family=\"Times,serif\" font-size=\"14.00\" fill=\"#000000\">broadOrigin &lt;= 28.5</text>\n<text text-anchor=\"middle\" x=\"1313\" y=\"-156.8\" font-family=\"Times,serif\" font-size=\"14.00\" fill=\"#000000\">gini = 0.125</text>\n<text text-anchor=\"middle\" x=\"1313\" y=\"-141.8\" font-family=\"Times,serif\" font-size=\"14.00\" fill=\"#000000\">samples = 21.8%</text>\n<text text-anchor=\"middle\" x=\"1313\" y=\"-126.8\" font-family=\"Times,serif\" font-size=\"14.00\" fill=\"#000000\">value = [0.933, 0.067]</text>\n<text text-anchor=\"middle\" x=\"1313\" y=\"-111.8\" font-family=\"Times,serif\" font-size=\"14.00\" fill=\"#000000\">class = False</text>\n</g>\n<!-- 16&#45;&gt;20 -->\n<g id=\"edge20\" class=\"edge\">\n<title>16&#45;&gt;20</title>\n<path fill=\"none\" stroke=\"#000000\" d=\"M1259.6796,-222.8796C1265.7615,-214.0534 1272.2422,-204.6485 1278.5141,-195.5466\"/>\n<polygon fill=\"#000000\" stroke=\"#000000\" points=\"1281.4059,-197.5184 1284.198,-187.2981 1275.6418,-193.5465 1281.4059,-197.5184\"/>\n</g>\n<!-- 18 -->\n<g id=\"node19\" class=\"node\">\n<title>18</title>\n<polygon fill=\"#ea995f\" stroke=\"#000000\" points=\"1078.5,-68 931.5,-68 931.5,0 1078.5,0 1078.5,-68\"/>\n<text text-anchor=\"middle\" x=\"1005\" y=\"-52.8\" font-family=\"Times,serif\" font-size=\"14.00\" fill=\"#000000\">gini = 0.271</text>\n<text text-anchor=\"middle\" x=\"1005\" y=\"-37.8\" font-family=\"Times,serif\" font-size=\"14.00\" fill=\"#000000\">samples = 2.2%</text>\n<text text-anchor=\"middle\" x=\"1005\" y=\"-22.8\" font-family=\"Times,serif\" font-size=\"14.00\" fill=\"#000000\">value = [0.839, 0.161]</text>\n<text text-anchor=\"middle\" x=\"1005\" y=\"-7.8\" font-family=\"Times,serif\" font-size=\"14.00\" fill=\"#000000\">class = False</text>\n</g>\n<!-- 17&#45;&gt;18 -->\n<g id=\"edge18\" class=\"edge\">\n<title>17&#45;&gt;18</title>\n<path fill=\"none\" stroke=\"#000000\" d=\"M1094.7521,-103.9815C1082.3756,-94.3313 1069.2172,-84.0714 1056.8997,-74.4673\"/>\n<polygon fill=\"#000000\" stroke=\"#000000\" points=\"1058.9818,-71.6525 1048.9435,-68.2637 1054.6775,-77.1728 1058.9818,-71.6525\"/>\n</g>\n<!-- 19 -->\n<g id=\"node20\" class=\"node\">\n<title>19</title>\n<polygon fill=\"#399de5\" stroke=\"#000000\" points=\"1213.5,-68 1096.5,-68 1096.5,0 1213.5,0 1213.5,-68\"/>\n<text text-anchor=\"middle\" x=\"1155\" y=\"-52.8\" font-family=\"Times,serif\" font-size=\"14.00\" fill=\"#000000\">gini = 0.0</text>\n<text text-anchor=\"middle\" x=\"1155\" y=\"-37.8\" font-family=\"Times,serif\" font-size=\"14.00\" fill=\"#000000\">samples = 0.1%</text>\n<text text-anchor=\"middle\" x=\"1155\" y=\"-22.8\" font-family=\"Times,serif\" font-size=\"14.00\" fill=\"#000000\">value = [0.0, 1.0]</text>\n<text text-anchor=\"middle\" x=\"1155\" y=\"-7.8\" font-family=\"Times,serif\" font-size=\"14.00\" fill=\"#000000\">class = True</text>\n</g>\n<!-- 17&#45;&gt;19 -->\n<g id=\"edge19\" class=\"edge\">\n<title>17&#45;&gt;19</title>\n<path fill=\"none\" stroke=\"#000000\" d=\"M1150.6065,-103.9815C1151.1316,-95.618 1151.6854,-86.7965 1152.2163,-78.3409\"/>\n<polygon fill=\"#000000\" stroke=\"#000000\" points=\"1155.7154,-78.4634 1152.8489,-68.2637 1148.7291,-78.0247 1155.7154,-78.4634\"/>\n</g>\n<!-- 21 -->\n<g id=\"node22\" class=\"node\">\n<title>21</title>\n<polygon fill=\"#e78b49\" stroke=\"#000000\" points=\"1378.5,-68 1231.5,-68 1231.5,0 1378.5,0 1378.5,-68\"/>\n<text text-anchor=\"middle\" x=\"1305\" y=\"-52.8\" font-family=\"Times,serif\" font-size=\"14.00\" fill=\"#000000\">gini = 0.141</text>\n<text text-anchor=\"middle\" x=\"1305\" y=\"-37.8\" font-family=\"Times,serif\" font-size=\"14.00\" fill=\"#000000\">samples = 19.2%</text>\n<text text-anchor=\"middle\" x=\"1305\" y=\"-22.8\" font-family=\"Times,serif\" font-size=\"14.00\" fill=\"#000000\">value = [0.924, 0.076]</text>\n<text text-anchor=\"middle\" x=\"1305\" y=\"-7.8\" font-family=\"Times,serif\" font-size=\"14.00\" fill=\"#000000\">class = False</text>\n</g>\n<!-- 20&#45;&gt;21 -->\n<g id=\"edge21\" class=\"edge\">\n<title>20&#45;&gt;21</title>\n<path fill=\"none\" stroke=\"#000000\" d=\"M1310.0211,-103.9815C1309.421,-95.618 1308.7881,-86.7965 1308.1814,-78.3409\"/>\n<polygon fill=\"#000000\" stroke=\"#000000\" points=\"1311.6651,-77.9875 1307.4584,-68.2637 1304.6831,-78.4885 1311.6651,-77.9875\"/>\n</g>\n<!-- 22 -->\n<g id=\"node23\" class=\"node\">\n<title>22</title>\n<polygon fill=\"#e58139\" stroke=\"#000000\" points=\"1513.5,-68 1396.5,-68 1396.5,0 1513.5,0 1513.5,-68\"/>\n<text text-anchor=\"middle\" x=\"1455\" y=\"-52.8\" font-family=\"Times,serif\" font-size=\"14.00\" fill=\"#000000\">gini = 0.0</text>\n<text text-anchor=\"middle\" x=\"1455\" y=\"-37.8\" font-family=\"Times,serif\" font-size=\"14.00\" fill=\"#000000\">samples = 2.6%</text>\n<text text-anchor=\"middle\" x=\"1455\" y=\"-22.8\" font-family=\"Times,serif\" font-size=\"14.00\" fill=\"#000000\">value = [1.0, 0.0]</text>\n<text text-anchor=\"middle\" x=\"1455\" y=\"-7.8\" font-family=\"Times,serif\" font-size=\"14.00\" fill=\"#000000\">class = False</text>\n</g>\n<!-- 20&#45;&gt;22 -->\n<g id=\"edge22\" class=\"edge\">\n<title>20&#45;&gt;22</title>\n<path fill=\"none\" stroke=\"#000000\" d=\"M1365.8756,-103.9815C1378.1655,-94.3313 1391.2319,-84.0714 1403.4632,-74.4673\"/>\n<polygon fill=\"#000000\" stroke=\"#000000\" points=\"1405.6602,-77.1923 1411.3638,-68.2637 1401.3371,-71.6867 1405.6602,-77.1923\"/>\n</g>\n<!-- 25 -->\n<g id=\"node26\" class=\"node\">\n<title>25</title>\n<polygon fill=\"#edaa7a\" stroke=\"#000000\" points=\"2177.5,-425 2030.5,-425 2030.5,-342 2177.5,-342 2177.5,-425\"/>\n<text text-anchor=\"middle\" x=\"2104\" y=\"-409.8\" font-family=\"Times,serif\" font-size=\"14.00\" fill=\"#000000\">cocoaPercent &lt;= 0.79</text>\n<text text-anchor=\"middle\" x=\"2104\" y=\"-394.8\" font-family=\"Times,serif\" font-size=\"14.00\" fill=\"#000000\">gini = 0.371</text>\n<text text-anchor=\"middle\" x=\"2104\" y=\"-379.8\" font-family=\"Times,serif\" font-size=\"14.00\" fill=\"#000000\">samples = 41.7%</text>\n<text text-anchor=\"middle\" x=\"2104\" y=\"-364.8\" font-family=\"Times,serif\" font-size=\"14.00\" fill=\"#000000\">value = [0.754, 0.246]</text>\n<text text-anchor=\"middle\" x=\"2104\" y=\"-349.8\" font-family=\"Times,serif\" font-size=\"14.00\" fill=\"#000000\">class = False</text>\n</g>\n<!-- 24&#45;&gt;25 -->\n<g id=\"edge25\" class=\"edge\">\n<title>24&#45;&gt;25</title>\n<path fill=\"none\" stroke=\"#000000\" d=\"M2104,-460.8796C2104,-452.6838 2104,-443.9891 2104,-435.5013\"/>\n<polygon fill=\"#000000\" stroke=\"#000000\" points=\"2107.5001,-435.298 2104,-425.2981 2100.5001,-435.2981 2107.5001,-435.298\"/>\n</g>\n<!-- 38 -->\n<g id=\"node39\" class=\"node\">\n<title>38</title>\n<polygon fill=\"#e78946\" stroke=\"#000000\" points=\"2607,-425 2443,-425 2443,-342 2607,-342 2607,-425\"/>\n<text text-anchor=\"middle\" x=\"2525\" y=\"-409.8\" font-family=\"Times,serif\" font-size=\"14.00\" fill=\"#000000\">companyLocation &lt;= 1.5</text>\n<text text-anchor=\"middle\" x=\"2525\" y=\"-394.8\" font-family=\"Times,serif\" font-size=\"14.00\" fill=\"#000000\">gini = 0.116</text>\n<text text-anchor=\"middle\" x=\"2525\" y=\"-379.8\" font-family=\"Times,serif\" font-size=\"14.00\" fill=\"#000000\">samples = 5.6%</text>\n<text text-anchor=\"middle\" x=\"2525\" y=\"-364.8\" font-family=\"Times,serif\" font-size=\"14.00\" fill=\"#000000\">value = [0.938, 0.062]</text>\n<text text-anchor=\"middle\" x=\"2525\" y=\"-349.8\" font-family=\"Times,serif\" font-size=\"14.00\" fill=\"#000000\">class = False</text>\n</g>\n<!-- 24&#45;&gt;38 -->\n<g id=\"edge38\" class=\"edge\">\n<title>24&#45;&gt;38</title>\n<path fill=\"none\" stroke=\"#000000\" d=\"M2177.8144,-481.6356C2248.9385,-461.5316 2356.7414,-431.06 2433.331,-409.4112\"/>\n<polygon fill=\"#000000\" stroke=\"#000000\" points=\"2434.3106,-412.7715 2442.9815,-406.6834 2432.4065,-406.0354 2434.3106,-412.7715\"/>\n</g>\n<!-- 26 -->\n<g id=\"node27\" class=\"node\">\n<title>26</title>\n<polygon fill=\"#eeae80\" stroke=\"#000000\" points=\"2061.5,-306 1914.5,-306 1914.5,-223 2061.5,-223 2061.5,-306\"/>\n<text text-anchor=\"middle\" x=\"1988\" y=\"-290.8\" font-family=\"Times,serif\" font-size=\"14.00\" fill=\"#000000\">company &lt;= 7.0</text>\n<text text-anchor=\"middle\" x=\"1988\" y=\"-275.8\" font-family=\"Times,serif\" font-size=\"14.00\" fill=\"#000000\">gini = 0.388</text>\n<text text-anchor=\"middle\" x=\"1988\" y=\"-260.8\" font-family=\"Times,serif\" font-size=\"14.00\" fill=\"#000000\">samples = 37.8%</text>\n<text text-anchor=\"middle\" x=\"1988\" y=\"-245.8\" font-family=\"Times,serif\" font-size=\"14.00\" fill=\"#000000\">value = [0.736, 0.264]</text>\n<text text-anchor=\"middle\" x=\"1988\" y=\"-230.8\" font-family=\"Times,serif\" font-size=\"14.00\" fill=\"#000000\">class = False</text>\n</g>\n<!-- 25&#45;&gt;26 -->\n<g id=\"edge26\" class=\"edge\">\n<title>25&#45;&gt;26</title>\n<path fill=\"none\" stroke=\"#000000\" d=\"M2063.4288,-341.8796C2054.5618,-332.7832 2045.0956,-323.0722 2035.9709,-313.7116\"/>\n<polygon fill=\"#000000\" stroke=\"#000000\" points=\"2038.2309,-311.0158 2028.7443,-306.2981 2033.2183,-315.9019 2038.2309,-311.0158\"/>\n</g>\n<!-- 33 -->\n<g id=\"node34\" class=\"node\">\n<title>33</title>\n<polygon fill=\"#e78b48\" stroke=\"#000000\" points=\"2298.5,-306 2143.5,-306 2143.5,-223 2298.5,-223 2298.5,-306\"/>\n<text text-anchor=\"middle\" x=\"2221\" y=\"-290.8\" font-family=\"Times,serif\" font-size=\"14.00\" fill=\"#000000\">specificOrigin &lt;= 850.5</text>\n<text text-anchor=\"middle\" x=\"2221\" y=\"-275.8\" font-family=\"Times,serif\" font-size=\"14.00\" fill=\"#000000\">gini = 0.133</text>\n<text text-anchor=\"middle\" x=\"2221\" y=\"-260.8\" font-family=\"Times,serif\" font-size=\"14.00\" fill=\"#000000\">samples = 3.9%</text>\n<text text-anchor=\"middle\" x=\"2221\" y=\"-245.8\" font-family=\"Times,serif\" font-size=\"14.00\" fill=\"#000000\">value = [0.929, 0.071]</text>\n<text text-anchor=\"middle\" x=\"2221\" y=\"-230.8\" font-family=\"Times,serif\" font-size=\"14.00\" fill=\"#000000\">class = False</text>\n</g>\n<!-- 25&#45;&gt;33 -->\n<g id=\"edge33\" class=\"edge\">\n<title>25&#45;&gt;33</title>\n<path fill=\"none\" stroke=\"#000000\" d=\"M2144.9209,-341.8796C2153.953,-332.6931 2163.6013,-322.8798 2172.8888,-313.4336\"/>\n<polygon fill=\"#000000\" stroke=\"#000000\" points=\"2175.3893,-315.8827 2179.9044,-306.2981 2170.3977,-310.975 2175.3893,-315.8827\"/>\n</g>\n<!-- 27 -->\n<g id=\"node28\" class=\"node\">\n<title>27</title>\n<polygon fill=\"#e78946\" stroke=\"#000000\" points=\"1813.5,-187 1666.5,-187 1666.5,-104 1813.5,-104 1813.5,-187\"/>\n<text text-anchor=\"middle\" x=\"1740\" y=\"-171.8\" font-family=\"Times,serif\" font-size=\"14.00\" fill=\"#000000\">broadOrigin &lt;= 15.0</text>\n<text text-anchor=\"middle\" x=\"1740\" y=\"-156.8\" font-family=\"Times,serif\" font-size=\"14.00\" fill=\"#000000\">gini = 0.114</text>\n<text text-anchor=\"middle\" x=\"1740\" y=\"-141.8\" font-family=\"Times,serif\" font-size=\"14.00\" fill=\"#000000\">samples = 2.3%</text>\n<text text-anchor=\"middle\" x=\"1740\" y=\"-126.8\" font-family=\"Times,serif\" font-size=\"14.00\" fill=\"#000000\">value = [0.939, 0.061]</text>\n<text text-anchor=\"middle\" x=\"1740\" y=\"-111.8\" font-family=\"Times,serif\" font-size=\"14.00\" fill=\"#000000\">class = False</text>\n</g>\n<!-- 26&#45;&gt;27 -->\n<g id=\"edge27\" class=\"edge\">\n<title>26&#45;&gt;27</title>\n<path fill=\"none\" stroke=\"#000000\" d=\"M1914.2633,-229.1183C1885.5376,-215.3346 1852.48,-199.4722 1822.9302,-185.2931\"/>\n<polygon fill=\"#000000\" stroke=\"#000000\" points=\"1824.4108,-182.1215 1813.8808,-180.9509 1821.3825,-188.4326 1824.4108,-182.1215\"/>\n</g>\n<!-- 30 -->\n<g id=\"node31\" class=\"node\">\n<title>30</title>\n<polygon fill=\"#efb185\" stroke=\"#000000\" points=\"2061.5,-187 1914.5,-187 1914.5,-104 2061.5,-104 2061.5,-187\"/>\n<text text-anchor=\"middle\" x=\"1988\" y=\"-171.8\" font-family=\"Times,serif\" font-size=\"14.00\" fill=\"#000000\">company &lt;= 32.5</text>\n<text text-anchor=\"middle\" x=\"1988\" y=\"-156.8\" font-family=\"Times,serif\" font-size=\"14.00\" fill=\"#000000\">gini = 0.401</text>\n<text text-anchor=\"middle\" x=\"1988\" y=\"-141.8\" font-family=\"Times,serif\" font-size=\"14.00\" fill=\"#000000\">samples = 35.5%</text>\n<text text-anchor=\"middle\" x=\"1988\" y=\"-126.8\" font-family=\"Times,serif\" font-size=\"14.00\" fill=\"#000000\">value = [0.723, 0.277]</text>\n<text text-anchor=\"middle\" x=\"1988\" y=\"-111.8\" font-family=\"Times,serif\" font-size=\"14.00\" fill=\"#000000\">class = False</text>\n</g>\n<!-- 26&#45;&gt;30 -->\n<g id=\"edge30\" class=\"edge\">\n<title>26&#45;&gt;30</title>\n<path fill=\"none\" stroke=\"#000000\" d=\"M1988,-222.8796C1988,-214.6838 1988,-205.9891 1988,-197.5013\"/>\n<polygon fill=\"#000000\" stroke=\"#000000\" points=\"1991.5001,-197.298 1988,-187.2981 1984.5001,-197.2981 1991.5001,-197.298\"/>\n</g>\n<!-- 28 -->\n<g id=\"node29\" class=\"node\">\n<title>28</title>\n<polygon fill=\"#e58139\" stroke=\"#000000\" points=\"1648.5,-68 1531.5,-68 1531.5,0 1648.5,0 1648.5,-68\"/>\n<text text-anchor=\"middle\" x=\"1590\" y=\"-52.8\" font-family=\"Times,serif\" font-size=\"14.00\" fill=\"#000000\">gini = 0.0</text>\n<text text-anchor=\"middle\" x=\"1590\" y=\"-37.8\" font-family=\"Times,serif\" font-size=\"14.00\" fill=\"#000000\">samples = 1.0%</text>\n<text text-anchor=\"middle\" x=\"1590\" y=\"-22.8\" font-family=\"Times,serif\" font-size=\"14.00\" fill=\"#000000\">value = [1.0, 0.0]</text>\n<text text-anchor=\"middle\" x=\"1590\" y=\"-7.8\" font-family=\"Times,serif\" font-size=\"14.00\" fill=\"#000000\">class = False</text>\n</g>\n<!-- 27&#45;&gt;28 -->\n<g id=\"edge28\" class=\"edge\">\n<title>27&#45;&gt;28</title>\n<path fill=\"none\" stroke=\"#000000\" d=\"M1684.1455,-103.9815C1671.1632,-94.3313 1657.3606,-84.0714 1644.4403,-74.4673\"/>\n<polygon fill=\"#000000\" stroke=\"#000000\" points=\"1646.2083,-71.4204 1636.0946,-68.2637 1642.0322,-77.0384 1646.2083,-71.4204\"/>\n</g>\n<!-- 29 -->\n<g id=\"node30\" class=\"node\">\n<title>29</title>\n<polygon fill=\"#e89152\" stroke=\"#000000\" points=\"1813,-68 1667,-68 1667,0 1813,0 1813,-68\"/>\n<text text-anchor=\"middle\" x=\"1740\" y=\"-52.8\" font-family=\"Times,serif\" font-size=\"14.00\" fill=\"#000000\">gini = 0.198</text>\n<text text-anchor=\"middle\" x=\"1740\" y=\"-37.8\" font-family=\"Times,serif\" font-size=\"14.00\" fill=\"#000000\">samples = 1.3%</text>\n<text text-anchor=\"middle\" x=\"1740\" y=\"-22.8\" font-family=\"Times,serif\" font-size=\"14.00\" fill=\"#000000\">value = [0.889, 0.111]</text>\n<text text-anchor=\"middle\" x=\"1740\" y=\"-7.8\" font-family=\"Times,serif\" font-size=\"14.00\" fill=\"#000000\">class = False</text>\n</g>\n<!-- 27&#45;&gt;29 -->\n<g id=\"edge29\" class=\"edge\">\n<title>27&#45;&gt;29</title>\n<path fill=\"none\" stroke=\"#000000\" d=\"M1740,-103.9815C1740,-95.618 1740,-86.7965 1740,-78.3409\"/>\n<polygon fill=\"#000000\" stroke=\"#000000\" points=\"1743.5001,-78.2636 1740,-68.2637 1736.5001,-78.2637 1743.5001,-78.2636\"/>\n</g>\n<!-- 31 -->\n<g id=\"node32\" class=\"node\">\n<title>31</title>\n<polygon fill=\"#f6d3b9\" stroke=\"#000000\" points=\"1978.5,-68 1831.5,-68 1831.5,0 1978.5,0 1978.5,-68\"/>\n<text text-anchor=\"middle\" x=\"1905\" y=\"-52.8\" font-family=\"Times,serif\" font-size=\"14.00\" fill=\"#000000\">gini = 0.477</text>\n<text text-anchor=\"middle\" x=\"1905\" y=\"-37.8\" font-family=\"Times,serif\" font-size=\"14.00\" fill=\"#000000\">samples = 6.2%</text>\n<text text-anchor=\"middle\" x=\"1905\" y=\"-22.8\" font-family=\"Times,serif\" font-size=\"14.00\" fill=\"#000000\">value = [0.607, 0.393]</text>\n<text text-anchor=\"middle\" x=\"1905\" y=\"-7.8\" font-family=\"Times,serif\" font-size=\"14.00\" fill=\"#000000\">class = False</text>\n</g>\n<!-- 30&#45;&gt;31 -->\n<g id=\"edge31\" class=\"edge\">\n<title>30&#45;&gt;31</title>\n<path fill=\"none\" stroke=\"#000000\" d=\"M1957.0939,-103.9815C1950.3892,-94.9747 1943.2892,-85.4367 1936.5597,-76.3965\"/>\n<polygon fill=\"#000000\" stroke=\"#000000\" points=\"1939.2845,-74.1953 1930.5057,-68.2637 1933.6694,-78.3752 1939.2845,-74.1953\"/>\n</g>\n<!-- 32 -->\n<g id=\"node33\" class=\"node\">\n<title>32</title>\n<polygon fill=\"#eeac7c\" stroke=\"#000000\" points=\"2143.5,-68 1996.5,-68 1996.5,0 2143.5,0 2143.5,-68\"/>\n<text text-anchor=\"middle\" x=\"2070\" y=\"-52.8\" font-family=\"Times,serif\" font-size=\"14.00\" fill=\"#000000\">gini = 0.377</text>\n<text text-anchor=\"middle\" x=\"2070\" y=\"-37.8\" font-family=\"Times,serif\" font-size=\"14.00\" fill=\"#000000\">samples = 29.3%</text>\n<text text-anchor=\"middle\" x=\"2070\" y=\"-22.8\" font-family=\"Times,serif\" font-size=\"14.00\" fill=\"#000000\">value = [0.748, 0.252]</text>\n<text text-anchor=\"middle\" x=\"2070\" y=\"-7.8\" font-family=\"Times,serif\" font-size=\"14.00\" fill=\"#000000\">class = False</text>\n</g>\n<!-- 30&#45;&gt;32 -->\n<g id=\"edge32\" class=\"edge\">\n<title>30&#45;&gt;32</title>\n<path fill=\"none\" stroke=\"#000000\" d=\"M2018.5338,-103.9815C2025.1576,-94.9747 2032.1721,-85.4367 2038.8205,-76.3965\"/>\n<polygon fill=\"#000000\" stroke=\"#000000\" points=\"2041.6966,-78.3933 2044.8016,-68.2637 2036.0574,-74.2461 2041.6966,-78.3933\"/>\n</g>\n<!-- 34 -->\n<g id=\"node35\" class=\"node\">\n<title>34</title>\n<polygon fill=\"#e68844\" stroke=\"#000000\" points=\"2294.5,-187 2147.5,-187 2147.5,-104 2294.5,-104 2294.5,-187\"/>\n<text text-anchor=\"middle\" x=\"2221\" y=\"-171.8\" font-family=\"Times,serif\" font-size=\"14.00\" fill=\"#000000\">beanType &lt;= 8.0</text>\n<text text-anchor=\"middle\" x=\"2221\" y=\"-156.8\" font-family=\"Times,serif\" font-size=\"14.00\" fill=\"#000000\">gini = 0.103</text>\n<text text-anchor=\"middle\" x=\"2221\" y=\"-141.8\" font-family=\"Times,serif\" font-size=\"14.00\" fill=\"#000000\">samples = 3.8%</text>\n<text text-anchor=\"middle\" x=\"2221\" y=\"-126.8\" font-family=\"Times,serif\" font-size=\"14.00\" fill=\"#000000\">value = [0.945, 0.055]</text>\n<text text-anchor=\"middle\" x=\"2221\" y=\"-111.8\" font-family=\"Times,serif\" font-size=\"14.00\" fill=\"#000000\">class = False</text>\n</g>\n<!-- 33&#45;&gt;34 -->\n<g id=\"edge34\" class=\"edge\">\n<title>33&#45;&gt;34</title>\n<path fill=\"none\" stroke=\"#000000\" d=\"M2221,-222.8796C2221,-214.6838 2221,-205.9891 2221,-197.5013\"/>\n<polygon fill=\"#000000\" stroke=\"#000000\" points=\"2224.5001,-197.298 2221,-187.2981 2217.5001,-197.2981 2224.5001,-197.298\"/>\n</g>\n<!-- 37 -->\n<g id=\"node38\" class=\"node\">\n<title>37</title>\n<polygon fill=\"#399de5\" stroke=\"#000000\" points=\"2429.5,-179.5 2312.5,-179.5 2312.5,-111.5 2429.5,-111.5 2429.5,-179.5\"/>\n<text text-anchor=\"middle\" x=\"2371\" y=\"-164.3\" font-family=\"Times,serif\" font-size=\"14.00\" fill=\"#000000\">gini = 0.0</text>\n<text text-anchor=\"middle\" x=\"2371\" y=\"-149.3\" font-family=\"Times,serif\" font-size=\"14.00\" fill=\"#000000\">samples = 0.1%</text>\n<text text-anchor=\"middle\" x=\"2371\" y=\"-134.3\" font-family=\"Times,serif\" font-size=\"14.00\" fill=\"#000000\">value = [0.0, 1.0]</text>\n<text text-anchor=\"middle\" x=\"2371\" y=\"-119.3\" font-family=\"Times,serif\" font-size=\"14.00\" fill=\"#000000\">class = True</text>\n</g>\n<!-- 33&#45;&gt;37 -->\n<g id=\"edge37\" class=\"edge\">\n<title>33&#45;&gt;37</title>\n<path fill=\"none\" stroke=\"#000000\" d=\"M2273.4627,-222.8796C2288.4322,-211.0038 2304.7222,-198.0804 2319.6259,-186.2568\"/>\n<polygon fill=\"#000000\" stroke=\"#000000\" points=\"2322.087,-188.772 2327.7459,-179.8149 2317.7365,-183.2881 2322.087,-188.772\"/>\n</g>\n<!-- 35 -->\n<g id=\"node36\" class=\"node\">\n<title>35</title>\n<polygon fill=\"#e6843d\" stroke=\"#000000\" points=\"2294,-68 2162,-68 2162,0 2294,0 2294,-68\"/>\n<text text-anchor=\"middle\" x=\"2228\" y=\"-52.8\" font-family=\"Times,serif\" font-size=\"14.00\" fill=\"#000000\">gini = 0.039</text>\n<text text-anchor=\"middle\" x=\"2228\" y=\"-37.8\" font-family=\"Times,serif\" font-size=\"14.00\" fill=\"#000000\">samples = 3.5%</text>\n<text text-anchor=\"middle\" x=\"2228\" y=\"-22.8\" font-family=\"Times,serif\" font-size=\"14.00\" fill=\"#000000\">value = [0.98, 0.02]</text>\n<text text-anchor=\"middle\" x=\"2228\" y=\"-7.8\" font-family=\"Times,serif\" font-size=\"14.00\" fill=\"#000000\">class = False</text>\n</g>\n<!-- 34&#45;&gt;35 -->\n<g id=\"edge35\" class=\"edge\">\n<title>34&#45;&gt;35</title>\n<path fill=\"none\" stroke=\"#000000\" d=\"M2223.6065,-103.9815C2224.1316,-95.618 2224.6854,-86.7965 2225.2163,-78.3409\"/>\n<polygon fill=\"#000000\" stroke=\"#000000\" points=\"2228.7154,-78.4634 2225.8489,-68.2637 2221.7291,-78.0247 2228.7154,-78.4634\"/>\n</g>\n<!-- 36 -->\n<g id=\"node37\" class=\"node\">\n<title>36</title>\n<polygon fill=\"#f6d5bd\" stroke=\"#000000\" points=\"2429.5,-68 2312.5,-68 2312.5,0 2429.5,0 2429.5,-68\"/>\n<text text-anchor=\"middle\" x=\"2371\" y=\"-52.8\" font-family=\"Times,serif\" font-size=\"14.00\" fill=\"#000000\">gini = 0.48</text>\n<text text-anchor=\"middle\" x=\"2371\" y=\"-37.8\" font-family=\"Times,serif\" font-size=\"14.00\" fill=\"#000000\">samples = 0.3%</text>\n<text text-anchor=\"middle\" x=\"2371\" y=\"-22.8\" font-family=\"Times,serif\" font-size=\"14.00\" fill=\"#000000\">value = [0.6, 0.4]</text>\n<text text-anchor=\"middle\" x=\"2371\" y=\"-7.8\" font-family=\"Times,serif\" font-size=\"14.00\" fill=\"#000000\">class = False</text>\n</g>\n<!-- 34&#45;&gt;36 -->\n<g id=\"edge36\" class=\"edge\">\n<title>34&#45;&gt;36</title>\n<path fill=\"none\" stroke=\"#000000\" d=\"M2276.8545,-103.9815C2289.8368,-94.3313 2303.6394,-84.0714 2316.5597,-74.4673\"/>\n<polygon fill=\"#000000\" stroke=\"#000000\" points=\"2318.9678,-77.0384 2324.9054,-68.2637 2314.7917,-71.4204 2318.9678,-77.0384\"/>\n</g>\n<!-- 39 -->\n<g id=\"node40\" class=\"node\">\n<title>39</title>\n<polygon fill=\"#e99457\" stroke=\"#000000\" points=\"2599.5,-306 2450.5,-306 2450.5,-223 2599.5,-223 2599.5,-306\"/>\n<text text-anchor=\"middle\" x=\"2525\" y=\"-290.8\" font-family=\"Times,serif\" font-size=\"14.00\" fill=\"#000000\">cocoaPercent &lt;= 0.725</text>\n<text text-anchor=\"middle\" x=\"2525\" y=\"-275.8\" font-family=\"Times,serif\" font-size=\"14.00\" fill=\"#000000\">gini = 0.229</text>\n<text text-anchor=\"middle\" x=\"2525\" y=\"-260.8\" font-family=\"Times,serif\" font-size=\"14.00\" fill=\"#000000\">samples = 2.6%</text>\n<text text-anchor=\"middle\" x=\"2525\" y=\"-245.8\" font-family=\"Times,serif\" font-size=\"14.00\" fill=\"#000000\">value = [0.868, 0.132]</text>\n<text text-anchor=\"middle\" x=\"2525\" y=\"-230.8\" font-family=\"Times,serif\" font-size=\"14.00\" fill=\"#000000\">class = False</text>\n</g>\n<!-- 38&#45;&gt;39 -->\n<g id=\"edge39\" class=\"edge\">\n<title>38&#45;&gt;39</title>\n<path fill=\"none\" stroke=\"#000000\" d=\"M2525,-341.8796C2525,-333.6838 2525,-324.9891 2525,-316.5013\"/>\n<polygon fill=\"#000000\" stroke=\"#000000\" points=\"2528.5001,-316.298 2525,-306.2981 2521.5001,-316.2981 2528.5001,-316.298\"/>\n</g>\n<!-- 44 -->\n<g id=\"node45\" class=\"node\">\n<title>44</title>\n<polygon fill=\"#e58139\" stroke=\"#000000\" points=\"2734.5,-298.5 2617.5,-298.5 2617.5,-230.5 2734.5,-230.5 2734.5,-298.5\"/>\n<text text-anchor=\"middle\" x=\"2676\" y=\"-283.3\" font-family=\"Times,serif\" font-size=\"14.00\" fill=\"#000000\">gini = 0.0</text>\n<text text-anchor=\"middle\" x=\"2676\" y=\"-268.3\" font-family=\"Times,serif\" font-size=\"14.00\" fill=\"#000000\">samples = 3.0%</text>\n<text text-anchor=\"middle\" x=\"2676\" y=\"-253.3\" font-family=\"Times,serif\" font-size=\"14.00\" fill=\"#000000\">value = [1.0, 0.0]</text>\n<text text-anchor=\"middle\" x=\"2676\" y=\"-238.3\" font-family=\"Times,serif\" font-size=\"14.00\" fill=\"#000000\">class = False</text>\n</g>\n<!-- 38&#45;&gt;44 -->\n<g id=\"edge44\" class=\"edge\">\n<title>38&#45;&gt;44</title>\n<path fill=\"none\" stroke=\"#000000\" d=\"M2577.8125,-341.8796C2592.8817,-330.0038 2609.2803,-317.0804 2624.2834,-305.2568\"/>\n<polygon fill=\"#000000\" stroke=\"#000000\" points=\"2626.7698,-307.7536 2632.4575,-298.8149 2622.4369,-302.2557 2626.7698,-307.7536\"/>\n</g>\n<!-- 40 -->\n<g id=\"node41\" class=\"node\">\n<title>40</title>\n<polygon fill=\"#eeab7b\" stroke=\"#000000\" points=\"2602.5,-187 2447.5,-187 2447.5,-104 2602.5,-104 2602.5,-187\"/>\n<text text-anchor=\"middle\" x=\"2525\" y=\"-171.8\" font-family=\"Times,serif\" font-size=\"14.00\" fill=\"#000000\">specificOrigin &lt;= 526.0</text>\n<text text-anchor=\"middle\" x=\"2525\" y=\"-156.8\" font-family=\"Times,serif\" font-size=\"14.00\" fill=\"#000000\">gini = 0.375</text>\n<text text-anchor=\"middle\" x=\"2525\" y=\"-141.8\" font-family=\"Times,serif\" font-size=\"14.00\" fill=\"#000000\">samples = 1.4%</text>\n<text text-anchor=\"middle\" x=\"2525\" y=\"-126.8\" font-family=\"Times,serif\" font-size=\"14.00\" fill=\"#000000\">value = [0.75, 0.25]</text>\n<text text-anchor=\"middle\" x=\"2525\" y=\"-111.8\" font-family=\"Times,serif\" font-size=\"14.00\" fill=\"#000000\">class = False</text>\n</g>\n<!-- 39&#45;&gt;40 -->\n<g id=\"edge40\" class=\"edge\">\n<title>39&#45;&gt;40</title>\n<path fill=\"none\" stroke=\"#000000\" d=\"M2525,-222.8796C2525,-214.6838 2525,-205.9891 2525,-197.5013\"/>\n<polygon fill=\"#000000\" stroke=\"#000000\" points=\"2528.5001,-197.298 2525,-187.2981 2521.5001,-197.2981 2528.5001,-197.298\"/>\n</g>\n<!-- 43 -->\n<g id=\"node44\" class=\"node\">\n<title>43</title>\n<polygon fill=\"#e58139\" stroke=\"#000000\" points=\"2737.5,-179.5 2620.5,-179.5 2620.5,-111.5 2737.5,-111.5 2737.5,-179.5\"/>\n<text text-anchor=\"middle\" x=\"2679\" y=\"-164.3\" font-family=\"Times,serif\" font-size=\"14.00\" fill=\"#000000\">gini = 0.0</text>\n<text text-anchor=\"middle\" x=\"2679\" y=\"-149.3\" font-family=\"Times,serif\" font-size=\"14.00\" fill=\"#000000\">samples = 1.3%</text>\n<text text-anchor=\"middle\" x=\"2679\" y=\"-134.3\" font-family=\"Times,serif\" font-size=\"14.00\" fill=\"#000000\">value = [1.0, 0.0]</text>\n<text text-anchor=\"middle\" x=\"2679\" y=\"-119.3\" font-family=\"Times,serif\" font-size=\"14.00\" fill=\"#000000\">class = False</text>\n</g>\n<!-- 39&#45;&gt;43 -->\n<g id=\"edge43\" class=\"edge\">\n<title>39&#45;&gt;43</title>\n<path fill=\"none\" stroke=\"#000000\" d=\"M2578.8617,-222.8796C2594.2304,-211.0038 2610.9547,-198.0804 2626.2559,-186.2568\"/>\n<polygon fill=\"#000000\" stroke=\"#000000\" points=\"2628.8196,-188.699 2634.5924,-179.8149 2624.5395,-183.1599 2628.8196,-188.699\"/>\n</g>\n<!-- 41 -->\n<g id=\"node42\" class=\"node\">\n<title>41</title>\n<polygon fill=\"#e58139\" stroke=\"#000000\" points=\"2577.5,-68 2460.5,-68 2460.5,0 2577.5,0 2577.5,-68\"/>\n<text text-anchor=\"middle\" x=\"2519\" y=\"-52.8\" font-family=\"Times,serif\" font-size=\"14.00\" fill=\"#000000\">gini = 0.0</text>\n<text text-anchor=\"middle\" x=\"2519\" y=\"-37.8\" font-family=\"Times,serif\" font-size=\"14.00\" fill=\"#000000\">samples = 0.5%</text>\n<text text-anchor=\"middle\" x=\"2519\" y=\"-22.8\" font-family=\"Times,serif\" font-size=\"14.00\" fill=\"#000000\">value = [1.0, 0.0]</text>\n<text text-anchor=\"middle\" x=\"2519\" y=\"-7.8\" font-family=\"Times,serif\" font-size=\"14.00\" fill=\"#000000\">class = False</text>\n</g>\n<!-- 40&#45;&gt;41 -->\n<g id=\"edge41\" class=\"edge\">\n<title>40&#45;&gt;41</title>\n<path fill=\"none\" stroke=\"#000000\" d=\"M2522.7658,-103.9815C2522.3158,-95.618 2521.8411,-86.7965 2521.3861,-78.3409\"/>\n<polygon fill=\"#000000\" stroke=\"#000000\" points=\"2524.8762,-78.0611 2520.8438,-68.2637 2517.8863,-78.4373 2524.8762,-78.0611\"/>\n</g>\n<!-- 42 -->\n<g id=\"node43\" class=\"node\">\n<title>42</title>\n<polygon fill=\"#f5d0b5\" stroke=\"#000000\" points=\"2742.5,-68 2595.5,-68 2595.5,0 2742.5,0 2742.5,-68\"/>\n<text text-anchor=\"middle\" x=\"2669\" y=\"-52.8\" font-family=\"Times,serif\" font-size=\"14.00\" fill=\"#000000\">gini = 0.473</text>\n<text text-anchor=\"middle\" x=\"2669\" y=\"-37.8\" font-family=\"Times,serif\" font-size=\"14.00\" fill=\"#000000\">samples = 0.9%</text>\n<text text-anchor=\"middle\" x=\"2669\" y=\"-22.8\" font-family=\"Times,serif\" font-size=\"14.00\" fill=\"#000000\">value = [0.615, 0.385]</text>\n<text text-anchor=\"middle\" x=\"2669\" y=\"-7.8\" font-family=\"Times,serif\" font-size=\"14.00\" fill=\"#000000\">class = False</text>\n</g>\n<!-- 40&#45;&gt;42 -->\n<g id=\"edge42\" class=\"edge\">\n<title>40&#45;&gt;42</title>\n<path fill=\"none\" stroke=\"#000000\" d=\"M2578.6203,-103.9815C2591.0833,-94.3313 2604.3338,-84.0714 2616.7373,-74.4673\"/>\n<polygon fill=\"#000000\" stroke=\"#000000\" points=\"2618.9851,-77.1534 2624.7492,-68.2637 2614.6995,-71.6186 2618.9851,-77.1534\"/>\n</g>\n</g>\n</svg>\n"
          },
          "metadata": {
            "tags": []
          },
          "execution_count": 25
        }
      ]
    },
    {
      "cell_type": "markdown",
      "metadata": {
        "id": "ZPVVVTvEFKdo"
      },
      "source": [
        "### 문제에 적합한 평가지표 선택"
      ]
    },
    {
      "cell_type": "markdown",
      "metadata": {
        "id": "zHk6-7wTFKdo"
      },
      "source": [
        "### **분류 & 회귀 모델의 평가지표 완전히 다르다!**\n",
        "\n",
        "- Scikit-learn metrics\n",
        "\n",
        "- 분류(classification) metrics\n",
        "\n",
        "- 회귀(regression) metrics\n"
      ]
    },
    {
      "cell_type": "markdown",
      "metadata": {
        "id": "2gLdj43aFKdp"
      },
      "source": [
        "### 분류문제에서는 정밀도, 재현율, ROC curve, AUC 등을 같이 사용해야함"
      ]
    },
    {
      "cell_type": "code",
      "metadata": {
        "id": "ZYFEplRBFKdp",
        "colab": {
          "base_uri": "https://localhost:8080/",
          "height": 315
        },
        "outputId": "513a7356-b139-46b5-d499-5006e32bb0ff"
      },
      "source": [
        "from sklearn.metrics import plot_confusion_matrix\n",
        "import matplotlib.pyplot as plt\n",
        "\n",
        "fig, ax = plt.subplots()\n",
        "pcm = plot_confusion_matrix(pipe, X_val, y_val,\n",
        "                            cmap=plt.cm.Blues,\n",
        "                            ax=ax);\n",
        "plt.title(f'Confusion matrix, n = {len(y_val)}', fontsize=15)"
      ],
      "execution_count": null,
      "outputs": [
        {
          "output_type": "execute_result",
          "data": {
            "text/plain": [
              "Text(0.5, 1.0, 'Confusion matrix, n = 359')"
            ]
          },
          "metadata": {
            "tags": []
          },
          "execution_count": 26
        },
        {
          "output_type": "display_data",
          "data": {
            "image/png": "[encoded data removed]",
            "text/plain": [
              "<Figure size 432x288 with 2 Axes>"
            ]
          },
          "metadata": {
            "tags": [],
            "needs_background": "light"
          }
        }
      ]
    },
    {
      "cell_type": "code",
      "metadata": {
        "colab": {
          "base_uri": "https://localhost:8080/"
        },
        "id": "t8Cjxzrwn_iL",
        "outputId": "b4cad43b-0fcc-4ea9-c4f8-78b3b60951af"
      },
      "source": [
        "pipe = make_pipeline(\n",
        "    OrdinalEncoder(), \n",
        "    DecisionTreeClassifier(max_depth=5, random_state=2)\n",
        ")\n",
        "\n",
        "pipe.fit(X_train, y_train)\n",
        "print('검증 정확도', pipe.score(X_val, y_val))"
      ],
      "execution_count": null,
      "outputs": [
        {
          "output_type": "stream",
          "text": [
            "검증 정확도 0.83008356545961\n"
          ],
          "name": "stdout"
        }
      ]
    },
    {
      "cell_type": "code",
      "metadata": {
        "id": "SSVCPVloFKdp",
        "colab": {
          "base_uri": "https://localhost:8080/"
        },
        "outputId": "14d26c7b-c8b0-4e7b-99fa-6e72e0121c9d"
      },
      "source": [
        "from sklearn.metrics import classification_report\n",
        "y_pred = pipe.predict(X_val)\n",
        "print(classification_report(y_val, y_pred))"
      ],
      "execution_count": null,
      "outputs": [
        {
          "output_type": "stream",
          "text": [
            "              precision    recall  f1-score   support\n",
            "\n",
            "       False       0.84      0.98      0.91       302\n",
            "        True       0.17      0.02      0.03        57\n",
            "\n",
            "    accuracy                           0.83       359\n",
            "   macro avg       0.50      0.50      0.47       359\n",
            "weighted avg       0.73      0.83      0.77       359\n",
            "\n"
          ],
          "name": "stdout"
        }
      ]
    },
    {
      "cell_type": "code",
      "metadata": {
        "id": "Jnm4u5mmFKdq",
        "colab": {
          "base_uri": "https://localhost:8080/"
        },
        "outputId": "fe3d6cde-f338-4204-b5a1-71d1b2fff5e3"
      },
      "source": [
        "from sklearn.metrics import roc_auc_score\n",
        "\n",
        "y_pred_proba = pipe.predict_proba(X_val)[:, -1]\n",
        "print('AUC score: ', roc_auc_score(y_val, y_pred_proba))"
      ],
      "execution_count": null,
      "outputs": [
        {
          "output_type": "stream",
          "text": [
            "AUC score:  0.5991634715928895\n"
          ],
          "name": "stdout"
        }
      ]
    },
    {
      "cell_type": "code",
      "metadata": {
        "id": "LPaIuJI0FKdq",
        "colab": {
          "base_uri": "https://localhost:8080/",
          "height": 313
        },
        "outputId": "625de39a-930c-4e3c-ea7d-a867a5399581"
      },
      "source": [
        "from sklearn.metrics import roc_curve\n",
        "import matplotlib.pyplot as plt\n",
        "\n",
        "fpr, tpr, thresholds = roc_curve(y_val, y_pred_proba)\n",
        "\n",
        "plt.scatter(fpr, tpr, color='blue')\n",
        "plt.plot(fpr, tpr, color='green')\n",
        "plt.title('ROC curve')\n",
        "plt.xlabel('FPR')\n",
        "plt.ylabel('TPR')"
      ],
      "execution_count": null,
      "outputs": [
        {
          "output_type": "execute_result",
          "data": {
            "text/plain": [
              "Text(0, 0.5, 'TPR')"
            ]
          },
          "metadata": {
            "tags": []
          },
          "execution_count": 30
        },
        {
          "output_type": "display_data",
          "data": {
            "image/png": "[encoded data removed]",
            "text/plain": [
              "<Figure size 432x288 with 1 Axes>"
            ]
          },
          "metadata": {
            "tags": [],
            "needs_background": "light"
          }
        }
      ]
    },
    {
      "cell_type": "markdown",
      "metadata": {
        "id": "CN6MWzZfFKdq"
      },
      "source": [
        "### 타겟 특성의 클래스 비율이 차이가 많이 날 경우\n",
        "\n",
        "1. 데이터가 적은 범주 데이터의 손실을 계산할 때 가중치를 더 곱하여 데이터의 균형을 맞추거나\n",
        "2. 적은 범주 데이터를 추가샘플링(oversampling)하거나 반대로 많은 범주 데이터를 적게 샘플링(undersampling)하는 방법"
      ]
    },
    {
      "cell_type": "markdown",
      "metadata": {
        "id": "ktyxyb3xFKdq"
      },
      "source": [
        "### 범주의 비율 확인\n",
        "\n",
        "`class_weight`에서 원하는 비율을 적용하거나 \n",
        "\n",
        "`class_weight='balance'` 옵션을 사용"
      ]
    },
    {
      "cell_type": "code",
      "metadata": {
        "id": "xToZiLilFKdr",
        "colab": {
          "base_uri": "https://localhost:8080/"
        },
        "outputId": "b737cb6f-f211-49d4-b3d9-5e112397e933"
      },
      "source": [
        "y_train.value_counts(normalize=True)"
      ],
      "execution_count": null,
      "outputs": [
        {
          "output_type": "execute_result",
          "data": {
            "text/plain": [
              "False    0.824268\n",
              "True     0.175732\n",
              "Name: recommend, dtype: float64"
            ]
          },
          "metadata": {
            "tags": []
          },
          "execution_count": 31
        }
      ]
    },
    {
      "cell_type": "code",
      "metadata": {
        "id": "H-MsYEBAFKdr",
        "colab": {
          "base_uri": "https://localhost:8080/"
        },
        "outputId": "18bebdd0-5e00-4bd4-b004-8cb84a551277"
      },
      "source": [
        "# class weights 계산\n",
        "# n_samples / (n_classes * np.bincount(y))\n",
        "custom = len(y_train)/(2*np.bincount(y_train))\n",
        "custom"
      ],
      "execution_count": null,
      "outputs": [
        {
          "output_type": "execute_result",
          "data": {
            "text/plain": [
              "array([0.60659898, 2.8452381 ])"
            ]
          },
          "metadata": {
            "tags": []
          },
          "execution_count": 32
        }
      ]
    },
    {
      "cell_type": "code",
      "metadata": {
        "colab": {
          "base_uri": "https://localhost:8080/"
        },
        "id": "2oJO0QDoFKdr",
        "outputId": "675eaa5c-1796-4c2e-a945-d72d8cdeee7a"
      },
      "source": [
        "    pipe = make_pipeline(\n",
        "        OrdinalEncoder(), \n",
        "    #     DecisionTreeClassifier(max_depth=5, class_weight='balanced', random_state=2)\n",
        "        DecisionTreeClassifier(max_depth=5, class_weight={False:custom[0],True:custom[1]}, random_state=2)\n",
        "    )\n",
        "\n",
        "\n",
        "    pipe.fit(X_train, y_train)\n",
        "    print('검증 정확도: ', pipe.score(X_val, y_val))"
      ],
      "execution_count": null,
      "outputs": [
        {
          "output_type": "stream",
          "text": [
            "검증 정확도:  0.5793871866295265\n"
          ],
          "name": "stdout"
        }
      ]
    },
    {
      "cell_type": "code",
      "metadata": {
        "id": "JsWrqI3WFKdr",
        "colab": {
          "base_uri": "https://localhost:8080/",
          "height": 315
        },
        "outputId": "7c541901-bbf1-4e59-bcc6-e4516d7bc2ca"
      },
      "source": [
        "fig, ax = plt.subplots()\n",
        "pcm = plot_confusion_matrix(pipe, X_val, y_val,\n",
        "                            cmap=plt.cm.Blues,\n",
        "                            ax=ax);\n",
        "plt.title(f'Confusion matrix, n = {len(y_val)}', fontsize=15)"
      ],
      "execution_count": null,
      "outputs": [
        {
          "output_type": "execute_result",
          "data": {
            "text/plain": [
              "Text(0.5, 1.0, 'Confusion matrix, n = 359')"
            ]
          },
          "metadata": {
            "tags": []
          },
          "execution_count": 34
        },
        {
          "output_type": "display_data",
          "data": {
            "image/png": "[encoded data removed]",
            "text/plain": [
              "<Figure size 432x288 with 2 Axes>"
            ]
          },
          "metadata": {
            "tags": [],
            "needs_background": "light"
          }
        }
      ]
    },
    {
      "cell_type": "markdown",
      "metadata": {
        "id": "zgUdiEwQFKds"
      },
      "source": [
        "### True 범주 수치 비교"
      ]
    },
    {
      "cell_type": "code",
      "metadata": {
        "id": "3D7BYdl7FKds",
        "colab": {
          "base_uri": "https://localhost:8080/"
        },
        "outputId": "6f5f34cb-9f3d-42e1-9475-2962a6a1bfd7"
      },
      "source": [
        "y_pred = pipe.predict(X_val)\n",
        "print(classification_report(y_val, y_pred))"
      ],
      "execution_count": null,
      "outputs": [
        {
          "output_type": "stream",
          "text": [
            "              precision    recall  f1-score   support\n",
            "\n",
            "       False       0.86      0.60      0.70       302\n",
            "        True       0.19      0.49      0.27        57\n",
            "\n",
            "    accuracy                           0.58       359\n",
            "   macro avg       0.52      0.54      0.49       359\n",
            "weighted avg       0.75      0.58      0.64       359\n",
            "\n"
          ],
          "name": "stdout"
        }
      ]
    },
    {
      "cell_type": "code",
      "metadata": {
        "id": "6tFspnahFKds",
        "colab": {
          "base_uri": "https://localhost:8080/",
          "height": 331
        },
        "outputId": "9358ac7b-840b-4467-9c3f-4e281805a86c"
      },
      "source": [
        "y_pred_proba = pipe.predict_proba(X_val)[:, -1]\n",
        "print('AUC score: ', roc_auc_score(y_val, y_pred_proba))\n",
        "fpr, tpr, thresholds = roc_curve(y_val, y_pred_proba)\n",
        "plt.scatter(fpr, tpr, color='blue')\n",
        "plt.plot(fpr, tpr, color='green')\n",
        "plt.title('ROC curve')\n",
        "plt.xlabel('FPR')\n",
        "plt.ylabel('TPR')"
      ],
      "execution_count": null,
      "outputs": [
        {
          "output_type": "stream",
          "text": [
            "AUC score:  0.6176658533751598\n"
          ],
          "name": "stdout"
        },
        {
          "output_type": "execute_result",
          "data": {
            "text/plain": [
              "Text(0, 0.5, 'TPR')"
            ]
          },
          "metadata": {
            "tags": []
          },
          "execution_count": 36
        },
        {
          "output_type": "display_data",
          "data": {
            "image/png": "[encoded data removed]",
            "text/plain": [
              "<Figure size 432x288 with 1 Axes>"
            ]
          },
          "metadata": {
            "tags": [],
            "needs_background": "light"
          }
        }
      ]
    },
    {
      "cell_type": "markdown",
      "metadata": {
        "id": "FOjiJcszFKds"
      },
      "source": [
        "### 회귀문제에서는 타겟의 분포를 주의"
      ]
    },
    {
      "cell_type": "code",
      "metadata": {
        "lines_to_next_cell": 2,
        "id": "YXf3i_abFKds"
      },
      "source": [
        "# house price 데이터를 사용합니다.\n",
        "df = pd.read_csv('https://ds-lecture-data.s3.ap-northeast-2.amazonaws.com/house-prices/house_prices_train.csv')"
      ],
      "execution_count": null,
      "outputs": []
    },
    {
      "cell_type": "code",
      "metadata": {
        "lines_to_next_cell": 2,
        "id": "RYts_VaNFKdt"
      },
      "source": [
        "target = df['SalePrice']"
      ],
      "execution_count": null,
      "outputs": []
    },
    {
      "cell_type": "markdown",
      "metadata": {
        "id": "QcD8Z40yFKdt"
      },
      "source": [
        "### 회귀분석에서는 타겟 분포가 비대칭 형태인지 확인\n",
        "\n",
        "특성 변수들과 타겟변수의 분포가 정규분포 형태일때 좋은 성능을 보임. \n",
        "\n",
        "특히 타겟변수가 왜곡된 형태의 분포(skewed)일 경우 예측 성능에 부정적인 영향을 미침.\n",
        "\n",
        "<img src=\"https://www.researchgate.net/profile/Marco_Faria/publication/294890337/figure/fig5/AS:668873900716049@1536483373457/a-Negative-skewness-b-Normal-curve-c-Positive-skewness-Durkhure-and-Lodwal-2014.ppm\" />"
      ]
    },
    {
      "cell_type": "code",
      "metadata": {
        "lines_to_next_cell": 2,
        "id": "_7TTizvHFKdt",
        "colab": {
          "base_uri": "https://localhost:8080/",
          "height": 369
        },
        "outputId": "ca6f0e43-b9f2-43ae-8e43-ed05702552ba"
      },
      "source": [
        "# 타겟 분포가 right(positively) skewed\n",
        "sns.displot(target);"
      ],
      "execution_count": null,
      "outputs": [
        {
          "output_type": "display_data",
          "data": {
            "image/png": "[encoded data removed]",
            "text/plain": [
              "<Figure size 360x360 with 1 Axes>"
            ]
          },
          "metadata": {
            "tags": [],
            "needs_background": "light"
          }
        }
      ]
    },
    {
      "cell_type": "markdown",
      "metadata": {
        "id": "-JFIlUqxFKdt"
      },
      "source": [
        "### 이상치가 포함. 제거"
      ]
    },
    {
      "cell_type": "code",
      "metadata": {
        "lines_to_next_cell": 2,
        "id": "PTnOvpWaFKdt"
      },
      "source": [
        "import numpy as np\n",
        "\n",
        "## 타겟 이상치(outlier)를 제거.\n",
        "df['SalePrice'] = df[df['SalePrice'] < np.percentile(df['SalePrice'], 99.5)]['SalePrice']\n",
        "\n",
        "## 몇몇 변수를 합치고 이상치를 제거.\n",
        "df['All_Flr_SF'] = df['1stFlrSF'] + df['2ndFlrSF']\n",
        "df['All_Liv_SF'] = df['All_Flr_SF'] + df['LowQualFinSF'] + df['GrLivArea']\n",
        "df = df.drop(['1stFlrSF','2ndFlrSF','LowQualFinSF','GrLivArea'], axis=1)\n",
        "\n",
        "df['All_Flr_SF'] = df[df['All_Flr_SF'] < np.percentile(df['All_Flr_SF'], 99.5)]['All_Flr_SF']\n",
        "df['All_Liv_SF'] = df[df['All_Liv_SF'] < np.percentile(df['All_Liv_SF'], 99.5)]['All_Liv_SF']\n"
      ],
      "execution_count": null,
      "outputs": []
    },
    {
      "cell_type": "code",
      "metadata": {
        "id": "QDA68y-OFKdt",
        "colab": {
          "base_uri": "https://localhost:8080/"
        },
        "outputId": "789b9de1-7949-4850-f899-63b660c9bc61"
      },
      "source": [
        "df['SalePrice']"
      ],
      "execution_count": null,
      "outputs": [
        {
          "output_type": "execute_result",
          "data": {
            "text/plain": [
              "0       208500.0\n",
              "1       181500.0\n",
              "2       223500.0\n",
              "3       140000.0\n",
              "4       250000.0\n",
              "          ...   \n",
              "1455    175000.0\n",
              "1456    210000.0\n",
              "1457    266500.0\n",
              "1458    142125.0\n",
              "1459    147500.0\n",
              "Name: SalePrice, Length: 1460, dtype: float64"
            ]
          },
          "metadata": {
            "tags": []
          },
          "execution_count": 41
        }
      ]
    },
    {
      "cell_type": "code",
      "metadata": {
        "id": "kPDH-R90FKdu",
        "colab": {
          "base_uri": "https://localhost:8080/",
          "height": 369
        },
        "outputId": "bfd81165-7f6f-4781-9678-908f8a551c75"
      },
      "source": [
        "#  여전히 right-skewed 상태\n",
        "target = df['SalePrice']\n",
        "sns.displot(target);"
      ],
      "execution_count": null,
      "outputs": [
        {
          "output_type": "display_data",
          "data": {
            "image/png": "[encoded data removed]",
            "text/plain": [
              "<Figure size 360x360 with 1 Axes>"
            ]
          },
          "metadata": {
            "tags": [],
            "needs_background": "light"
          }
        }
      ]
    },
    {
      "cell_type": "markdown",
      "metadata": {
        "id": "ubVmZgRyFKdu"
      },
      "source": [
        "### 로그변환(Log-Transform)\n",
        "\n",
        "타겟이 right-skewed 상태라면 로그변환을 사용 \n",
        "\n",
        "비대칭 분포형태를 정규분포형태로 변환\n",
        "\n",
        "<img src=\"https://www.researchgate.net/profile/Matthieu_Komorowski4/publication/308022342/figure/fig3/AS:405548043390978@1473701596576/Example-of-the-effect-of-a-log-transformation-on-the-distribution-of-the-dataset.png\" width=\"600\" />"
      ]
    },
    {
      "cell_type": "code",
      "metadata": {
        "id": "aG0P3G39FKdu",
        "colab": {
          "base_uri": "https://localhost:8080/",
          "height": 334
        },
        "outputId": "61389c0f-643a-49d1-f041-653597ac5bf2"
      },
      "source": [
        "plots=pd.DataFrame()\n",
        "plots['original']=target\n",
        "plots['transformed']=np.log1p(target)\n",
        "plots['backToOriginal']=np.expm1(np.log1p(target))\n",
        "\n",
        "fig, ax = plt.subplots(1,3,figsize=(15,5))\n",
        "sns.histplot(plots['original'], ax=ax[0]);\n",
        "sns.histplot(plots['transformed'], ax=ax[1]);\n",
        "sns.histplot(plots['backToOriginal'], ax=ax[2]);"
      ],
      "execution_count": null,
      "outputs": [
        {
          "output_type": "display_data",
          "data": {
            "image/png": "[encoded data removed]",
            "text/plain": [
              "<Figure size 1080x360 with 3 Axes>"
            ]
          },
          "metadata": {
            "tags": [],
            "needs_background": "light"
          }
        }
      ]
    },
    {
      "cell_type": "markdown",
      "metadata": {
        "id": "0LBcQrJFFKdu"
      },
      "source": [
        "### RandomForestRegressor & TransformedTargetRegressor"
      ]
    },
    {
      "cell_type": "code",
      "metadata": {
        "id": "bKss2ERpFKdu"
      },
      "source": [
        "target = 'SalePrice'\n",
        "from sklearn.model_selection import train_test_split\n",
        "\n",
        "df = df[df[target].notna()]\n",
        "\n",
        "train, val = train_test_split(df, test_size=260, random_state=2)\n",
        "\n",
        "features = train.drop(columns=[target]).columns\n",
        "\n",
        "X_train = train[features]\n",
        "y_train = train[target]\n",
        "X_val = val[features]\n",
        "y_val = val[target]"
      ],
      "execution_count": null,
      "outputs": []
    },
    {
      "cell_type": "code",
      "metadata": {
        "id": "sPeP8QrvFKdu",
        "colab": {
          "base_uri": "https://localhost:8080/"
        },
        "outputId": "d2d8cef8-0229-45ff-ec1d-a40169aff331"
      },
      "source": [
        "from category_encoders import OrdinalEncoder\n",
        "from sklearn.impute import SimpleImputer\n",
        "from sklearn.ensemble import RandomForestRegressor\n",
        "from sklearn.compose import TransformedTargetRegressor\n",
        "\n",
        "pipe = make_pipeline(\n",
        "    OrdinalEncoder(), \n",
        "    SimpleImputer(),\n",
        "    RandomForestRegressor(random_state=2)\n",
        ")\n",
        "\n",
        "\n",
        "pipe.fit(X_train, y_train)\n",
        "pipe.score(X_val, y_val)"
      ],
      "execution_count": null,
      "outputs": [
        {
          "output_type": "execute_result",
          "data": {
            "text/plain": [
              "0.8853294698484702"
            ]
          },
          "metadata": {
            "tags": []
          },
          "execution_count": 45
        }
      ]
    },
    {
      "cell_type": "code",
      "metadata": {
        "id": "-EnDRpWFFKdv",
        "colab": {
          "base_uri": "https://localhost:8080/"
        },
        "outputId": "09ef0f2e-1ebc-4dd3-b963-36a219815d40"
      },
      "source": [
        "from category_encoders import OrdinalEncoder\n",
        "from sklearn.impute import SimpleImputer\n",
        "from sklearn.ensemble import RandomForestRegressor\n",
        "from sklearn.compose import TransformedTargetRegressor\n",
        "\n",
        "pipe = make_pipeline(\n",
        "    OrdinalEncoder(), \n",
        "    SimpleImputer(),\n",
        "    RandomForestRegressor(random_state=2)\n",
        ")\n",
        "\n",
        "tt = TransformedTargetRegressor(regressor=pipe,\n",
        "                                func=np.log1p, inverse_func=np.expm1)\n",
        "\n",
        "tt.fit(X_train, y_train)\n",
        "tt.score(X_val, y_val)"
      ],
      "execution_count": null,
      "outputs": [
        {
          "output_type": "execute_result",
          "data": {
            "text/plain": [
              "0.8882560489177405"
            ]
          },
          "metadata": {
            "tags": []
          },
          "execution_count": 46
        }
      ]
    }
  ]
}
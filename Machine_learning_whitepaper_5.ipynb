{
  "nbformat": 4,
  "nbformat_minor": 0,
  "metadata": {
    "colab": {
      "name": "Machine_learning_whitepaper_5.ipynb",
      "provenance": [],
      "collapsed_sections": [],
      "toc_visible": true,
      "authorship_tag": "ABX9TyMDMYpoXBmSzFxl1oUgpfiy",
      "include_colab_link": true
    },
    "kernelspec": {
      "name": "python3",
      "display_name": "Python 3"
    },
    "language_info": {
      "name": "python"
    }
  },
  "cells": [
    {
      "cell_type": "markdown",
      "metadata": {
        "id": "view-in-github",
        "colab_type": "text"
      },
      "source": [
        "<a href=\"https://colab.research.google.com/github/khalidpark/machinelearning_whitepaper/blob/main/Machine_learning_whitepaper_5.ipynb\" target=\"_parent\"><img src=\"https://colab.research.google.com/assets/colab-badge.svg\" alt=\"Open In Colab\"/></a>"
      ]
    },
    {
      "cell_type": "markdown",
      "metadata": {
        "id": "57QstebPzhkQ"
      },
      "source": [
        "# 데이터 전처리"
      ]
    },
    {
      "cell_type": "code",
      "metadata": {
        "id": "kMr6NwJloTZw"
      },
      "source": [
        "import pandas as pd\n",
        "from sklearn.model_selection import train_test_split"
      ],
      "execution_count": 2,
      "outputs": []
    },
    {
      "cell_type": "code",
      "metadata": {
        "id": "yfkwRtqcuksN"
      },
      "source": [
        "target = 'vacc_h1n1_f'\n",
        "# target = 'vacc_seas_f'\n",
        "train = pd.merge(pd.read_csv('https://ds-lecture-data.s3.ap-northeast-2.amazonaws.com/vacc_flu/train.csv'), \n",
        "                 pd.read_csv('https://ds-lecture-data.s3.ap-northeast-2.amazonaws.com/vacc_flu/train_labels.csv')[target], left_index=True, right_index=True)\n",
        "test = pd.read_csv('https://ds-lecture-data.s3.ap-northeast-2.amazonaws.com/vacc_flu/test.csv')\n",
        "sample_submission = pd.read_csv('https://ds-lecture-data.s3.ap-northeast-2.amazonaws.com/vacc_flu/submission.csv')\n"
      ],
      "execution_count": 3,
      "outputs": []
    },
    {
      "cell_type": "markdown",
      "metadata": {
        "id": "8F2OAic8x0Dv"
      },
      "source": [
        "훈련, 검증, 테스트데이터로 나누기"
      ]
    },
    {
      "cell_type": "code",
      "metadata": {
        "colab": {
          "base_uri": "https://localhost:8080/"
        },
        "id": "2KbBbIu2x2RW",
        "outputId": "9069d488-f7e9-4113-a250-80b7c7da239f"
      },
      "source": [
        "train, val = train_test_split(train, train_size=0.80, test_size=0.20, \n",
        "                              stratify=train[target], random_state=2)\n",
        "\n",
        "\n",
        "train.shape, val.shape, test.shape\n"
      ],
      "execution_count": 4,
      "outputs": [
        {
          "output_type": "execute_result",
          "data": {
            "text/plain": [
              "((33723, 39), (8431, 39), (28104, 38))"
            ]
          },
          "metadata": {
            "tags": []
          },
          "execution_count": 4
        }
      ]
    },
    {
      "cell_type": "markdown",
      "metadata": {
        "id": "wh901p5bx43e"
      },
      "source": [
        "타겟의 비율"
      ]
    },
    {
      "cell_type": "code",
      "metadata": {
        "colab": {
          "base_uri": "https://localhost:8080/"
        },
        "id": "nR3kDFwXx571",
        "outputId": "772e1881-2af0-49bd-f2d6-083a84d63a5b"
      },
      "source": [
        "train[target].value_counts(normalize=True)\n"
      ],
      "execution_count": 5,
      "outputs": [
        {
          "output_type": "execute_result",
          "data": {
            "text/plain": [
              "0    0.760935\n",
              "1    0.239065\n",
              "Name: vacc_h1n1_f, dtype: float64"
            ]
          },
          "metadata": {
            "tags": []
          },
          "execution_count": 5
        }
      ]
    },
    {
      "cell_type": "markdown",
      "metadata": {
        "id": "GtA1AQ5Px8yt"
      },
      "source": [
        "가장 큰 범주(0)가 76.15%를 차지 \n",
        "\n",
        "클래스가 불균형(imbalanced)한 분류 문제"
      ]
    },
    {
      "cell_type": "markdown",
      "metadata": {
        "id": "HQbahmf0ywx8"
      },
      "source": [
        "\n",
        "\n",
        "---\n",
        "\n"
      ]
    },
    {
      "cell_type": "markdown",
      "metadata": {
        "id": "9cr3R6__yuCl"
      },
      "source": [
        "중복된 값있는지 확인"
      ]
    },
    {
      "cell_type": "code",
      "metadata": {
        "colab": {
          "base_uri": "https://localhost:8080/"
        },
        "id": "r196S3EwytIl",
        "outputId": "2a09c67f-f008-43cc-c393-e5ac43acb3e2"
      },
      "source": [
        "train.T.duplicated()\n"
      ],
      "execution_count": 11,
      "outputs": [
        {
          "output_type": "execute_result",
          "data": {
            "text/plain": [
              "h1n1_concern                   False\n",
              "h1n1_knowledge                 False\n",
              "behavioral_antiviral_meds      False\n",
              "behavioral_avoidance           False\n",
              "behavioral_face_mask           False\n",
              "behavioral_wash_hands          False\n",
              "behavioral_large_gatherings    False\n",
              "behavioral_outside_home        False\n",
              "behavioral_touch_face          False\n",
              "doctor_recc_h1n1               False\n",
              "doctor_recc_seasonal           False\n",
              "chronic_med_condition          False\n",
              "child_under_6_months           False\n",
              "health_insurance               False\n",
              "health_worker                  False\n",
              "opinion_h1n1_vacc_effective    False\n",
              "opinion_h1n1_risk              False\n",
              "opinion_h1n1_sick_from_vacc    False\n",
              "opinion_seas_vacc_effective    False\n",
              "opinion_seas_risk              False\n",
              "opinion_seas_sick_from_vacc    False\n",
              "agegrp                         False\n",
              "education_comp                 False\n",
              "raceeth4_i                     False\n",
              "sex_i                          False\n",
              "inc_pov                        False\n",
              "marital                        False\n",
              "rent_own_r                     False\n",
              "employment_status              False\n",
              "census_region                  False\n",
              "census_msa                     False\n",
              "n_adult_r                      False\n",
              "household_children             False\n",
              "n_people_r                     False\n",
              "employment_industry            False\n",
              "employment_occupation          False\n",
              "hhs_region                     False\n",
              "state                          False\n",
              "vacc_h1n1_f                    False\n",
              "dtype: bool"
            ]
          },
          "metadata": {
            "tags": []
          },
          "execution_count": 11
        }
      ]
    },
    {
      "cell_type": "markdown",
      "metadata": {
        "id": "n6_FBptoy1ws"
      },
      "source": [
        "혹시 너무 많은 범주를 가지는 카테고리 특성들이 있는지 카디널리티(cardinality)를 확인"
      ]
    },
    {
      "cell_type": "code",
      "metadata": {
        "colab": {
          "base_uri": "https://localhost:8080/",
          "height": 227
        },
        "id": "udLkBO2dy2Dn",
        "outputId": "b1625358-bf37-4b7d-df05-c17ce01f298f"
      },
      "source": [
        "train.describe(exclude='number')\n"
      ],
      "execution_count": 12,
      "outputs": [
        {
          "output_type": "execute_result",
          "data": {
            "text/html": [
              "<div>\n",
              "<style scoped>\n",
              "    .dataframe tbody tr th:only-of-type {\n",
              "        vertical-align: middle;\n",
              "    }\n",
              "\n",
              "    .dataframe tbody tr th {\n",
              "        vertical-align: top;\n",
              "    }\n",
              "\n",
              "    .dataframe thead th {\n",
              "        text-align: right;\n",
              "    }\n",
              "</style>\n",
              "<table border=\"1\" class=\"dataframe\">\n",
              "  <thead>\n",
              "    <tr style=\"text-align: right;\">\n",
              "      <th></th>\n",
              "      <th>opinion_h1n1_vacc_effective</th>\n",
              "      <th>opinion_h1n1_risk</th>\n",
              "      <th>opinion_h1n1_sick_from_vacc</th>\n",
              "      <th>opinion_seas_vacc_effective</th>\n",
              "      <th>opinion_seas_risk</th>\n",
              "      <th>opinion_seas_sick_from_vacc</th>\n",
              "      <th>agegrp</th>\n",
              "      <th>employment_status</th>\n",
              "      <th>census_msa</th>\n",
              "      <th>employment_industry</th>\n",
              "      <th>employment_occupation</th>\n",
              "      <th>state</th>\n",
              "    </tr>\n",
              "  </thead>\n",
              "  <tbody>\n",
              "    <tr>\n",
              "      <th>count</th>\n",
              "      <td>26637</td>\n",
              "      <td>26602</td>\n",
              "      <td>26568</td>\n",
              "      <td>26519</td>\n",
              "      <td>26466</td>\n",
              "      <td>26413</td>\n",
              "      <td>33723</td>\n",
              "      <td>25466</td>\n",
              "      <td>33723</td>\n",
              "      <td>13714</td>\n",
              "      <td>13714</td>\n",
              "      <td>33723</td>\n",
              "    </tr>\n",
              "    <tr>\n",
              "      <th>unique</th>\n",
              "      <td>6</td>\n",
              "      <td>6</td>\n",
              "      <td>6</td>\n",
              "      <td>6</td>\n",
              "      <td>6</td>\n",
              "      <td>6</td>\n",
              "      <td>7</td>\n",
              "      <td>3</td>\n",
              "      <td>3</td>\n",
              "      <td>23</td>\n",
              "      <td>25</td>\n",
              "      <td>51</td>\n",
              "    </tr>\n",
              "    <tr>\n",
              "      <th>top</th>\n",
              "      <td>Somewhat Effective</td>\n",
              "      <td>Somewhat Low</td>\n",
              "      <td>Not Very Worried</td>\n",
              "      <td>Somewhat Effective</td>\n",
              "      <td>Somewhat Low</td>\n",
              "      <td>Not At All Worried</td>\n",
              "      <td>65+ Years</td>\n",
              "      <td>Employed</td>\n",
              "      <td>MSA, Not Principle City</td>\n",
              "      <td>Health Care and Social Assistance Industries</td>\n",
              "      <td>Management Occupations</td>\n",
              "      <td>CALIFORNIA</td>\n",
              "    </tr>\n",
              "    <tr>\n",
              "      <th>freq</th>\n",
              "      <td>11710</td>\n",
              "      <td>9980</td>\n",
              "      <td>9229</td>\n",
              "      <td>11571</td>\n",
              "      <td>9057</td>\n",
              "      <td>11813</td>\n",
              "      <td>6821</td>\n",
              "      <td>13722</td>\n",
              "      <td>15202</td>\n",
              "      <td>2451</td>\n",
              "      <td>1769</td>\n",
              "      <td>829</td>\n",
              "    </tr>\n",
              "  </tbody>\n",
              "</table>\n",
              "</div>"
            ],
            "text/plain": [
              "       opinion_h1n1_vacc_effective  ...       state\n",
              "count                        26637  ...       33723\n",
              "unique                           6  ...          51\n",
              "top             Somewhat Effective  ...  CALIFORNIA\n",
              "freq                         11710  ...         829\n",
              "\n",
              "[4 rows x 12 columns]"
            ]
          },
          "metadata": {
            "tags": []
          },
          "execution_count": 12
        }
      ]
    },
    {
      "cell_type": "code",
      "metadata": {
        "colab": {
          "base_uri": "https://localhost:8080/",
          "height": 421
        },
        "id": "zrwxklZ0y8IE",
        "outputId": "2d014611-1d01-4c11-a612-5583d24a2bb4"
      },
      "source": [
        "train.describe(exclude='number').T.sort_values(by='unique')\n"
      ],
      "execution_count": 13,
      "outputs": [
        {
          "output_type": "execute_result",
          "data": {
            "text/html": [
              "<div>\n",
              "<style scoped>\n",
              "    .dataframe tbody tr th:only-of-type {\n",
              "        vertical-align: middle;\n",
              "    }\n",
              "\n",
              "    .dataframe tbody tr th {\n",
              "        vertical-align: top;\n",
              "    }\n",
              "\n",
              "    .dataframe thead th {\n",
              "        text-align: right;\n",
              "    }\n",
              "</style>\n",
              "<table border=\"1\" class=\"dataframe\">\n",
              "  <thead>\n",
              "    <tr style=\"text-align: right;\">\n",
              "      <th></th>\n",
              "      <th>count</th>\n",
              "      <th>unique</th>\n",
              "      <th>top</th>\n",
              "      <th>freq</th>\n",
              "    </tr>\n",
              "  </thead>\n",
              "  <tbody>\n",
              "    <tr>\n",
              "      <th>employment_status</th>\n",
              "      <td>25466</td>\n",
              "      <td>3</td>\n",
              "      <td>Employed</td>\n",
              "      <td>13722</td>\n",
              "    </tr>\n",
              "    <tr>\n",
              "      <th>census_msa</th>\n",
              "      <td>33723</td>\n",
              "      <td>3</td>\n",
              "      <td>MSA, Not Principle City</td>\n",
              "      <td>15202</td>\n",
              "    </tr>\n",
              "    <tr>\n",
              "      <th>opinion_h1n1_vacc_effective</th>\n",
              "      <td>26637</td>\n",
              "      <td>6</td>\n",
              "      <td>Somewhat Effective</td>\n",
              "      <td>11710</td>\n",
              "    </tr>\n",
              "    <tr>\n",
              "      <th>opinion_h1n1_risk</th>\n",
              "      <td>26602</td>\n",
              "      <td>6</td>\n",
              "      <td>Somewhat Low</td>\n",
              "      <td>9980</td>\n",
              "    </tr>\n",
              "    <tr>\n",
              "      <th>opinion_h1n1_sick_from_vacc</th>\n",
              "      <td>26568</td>\n",
              "      <td>6</td>\n",
              "      <td>Not Very Worried</td>\n",
              "      <td>9229</td>\n",
              "    </tr>\n",
              "    <tr>\n",
              "      <th>opinion_seas_vacc_effective</th>\n",
              "      <td>26519</td>\n",
              "      <td>6</td>\n",
              "      <td>Somewhat Effective</td>\n",
              "      <td>11571</td>\n",
              "    </tr>\n",
              "    <tr>\n",
              "      <th>opinion_seas_risk</th>\n",
              "      <td>26466</td>\n",
              "      <td>6</td>\n",
              "      <td>Somewhat Low</td>\n",
              "      <td>9057</td>\n",
              "    </tr>\n",
              "    <tr>\n",
              "      <th>opinion_seas_sick_from_vacc</th>\n",
              "      <td>26413</td>\n",
              "      <td>6</td>\n",
              "      <td>Not At All Worried</td>\n",
              "      <td>11813</td>\n",
              "    </tr>\n",
              "    <tr>\n",
              "      <th>agegrp</th>\n",
              "      <td>33723</td>\n",
              "      <td>7</td>\n",
              "      <td>65+ Years</td>\n",
              "      <td>6821</td>\n",
              "    </tr>\n",
              "    <tr>\n",
              "      <th>employment_industry</th>\n",
              "      <td>13714</td>\n",
              "      <td>23</td>\n",
              "      <td>Health Care and Social Assistance Industries</td>\n",
              "      <td>2451</td>\n",
              "    </tr>\n",
              "    <tr>\n",
              "      <th>employment_occupation</th>\n",
              "      <td>13714</td>\n",
              "      <td>25</td>\n",
              "      <td>Management Occupations</td>\n",
              "      <td>1769</td>\n",
              "    </tr>\n",
              "    <tr>\n",
              "      <th>state</th>\n",
              "      <td>33723</td>\n",
              "      <td>51</td>\n",
              "      <td>CALIFORNIA</td>\n",
              "      <td>829</td>\n",
              "    </tr>\n",
              "  </tbody>\n",
              "</table>\n",
              "</div>"
            ],
            "text/plain": [
              "                             count  ...   freq\n",
              "employment_status            25466  ...  13722\n",
              "census_msa                   33723  ...  15202\n",
              "opinion_h1n1_vacc_effective  26637  ...  11710\n",
              "opinion_h1n1_risk            26602  ...   9980\n",
              "opinion_h1n1_sick_from_vacc  26568  ...   9229\n",
              "opinion_seas_vacc_effective  26519  ...  11571\n",
              "opinion_seas_risk            26466  ...   9057\n",
              "opinion_seas_sick_from_vacc  26413  ...  11813\n",
              "agegrp                       33723  ...   6821\n",
              "employment_industry          13714  ...   2451\n",
              "employment_occupation        13714  ...   1769\n",
              "state                        33723  ...    829\n",
              "\n",
              "[12 rows x 4 columns]"
            ]
          },
          "metadata": {
            "tags": []
          },
          "execution_count": 13
        }
      ]
    },
    {
      "cell_type": "markdown",
      "metadata": {
        "id": "CXEV3Upty_nt"
      },
      "source": [
        "\n",
        "state를 제외하고는 카디널리티가 그리 높지 않습니다"
      ]
    },
    {
      "cell_type": "markdown",
      "metadata": {
        "id": "mjAyfeXkzDAG"
      },
      "source": [
        "카테고리를 많이 가지는 특성들의 범주를 살펴보겠습니다"
      ]
    },
    {
      "cell_type": "code",
      "metadata": {
        "colab": {
          "base_uri": "https://localhost:8080/"
        },
        "id": "bv1WaLy7zEKl",
        "outputId": "e1c77f30-c344-4dee-d6fe-e7c12ffdb09b"
      },
      "source": [
        "train['employment_occupation'].value_counts()\n"
      ],
      "execution_count": 14,
      "outputs": [
        {
          "output_type": "execute_result",
          "data": {
            "text/plain": [
              "Management Occupations                                       1769\n",
              "Office and Administrative Support Occupations                1556\n",
              "Education, Training, and Library Occupations                 1286\n",
              "Healthcare Practitioners and Technical Occupations           1200\n",
              "Sales and Related Occupations                                1108\n",
              "Business and Financial Operations Occupations                 764\n",
              "Construction and Extraction Occupations                       538\n",
              "Production Occupations                                        483\n",
              "Transportation and Material Moving Occupations                483\n",
              "Computer and Mathematical Occupations                         475\n",
              "Food Preparation and Serving Related Occupations              405\n",
              "Architecture and Engineering Occupations                      367\n",
              "Arts, Design, Entertainment, Sports and Media Occupations     366\n",
              "Personal Care and Service Occupations                         353\n",
              "Community and Social Services Occupations                     335\n",
              "Building and Grounds Cleaning and Maintenance Occupations     330\n",
              "Installation, Maintenance, and Repair Occupations             299\n",
              "Healthcare Support Occupations                                294\n",
              "Not ascertained                                               268\n",
              "Legal Occupations                                             242\n",
              "Life, Physical, and Social Science Occupations                236\n",
              "Protective Service Occupations                                229\n",
              "Military Specific Occupations                                 158\n",
              "Farming, Fishing, and Forestry Occupations                    106\n",
              "Refused, classified                                            64\n",
              "Name: employment_occupation, dtype: int64"
            ]
          },
          "metadata": {
            "tags": []
          },
          "execution_count": 14
        }
      ]
    },
    {
      "cell_type": "markdown",
      "metadata": {
        "id": "rnAEOYwDzGnH"
      },
      "source": [
        "특성 엔지니어링"
      ]
    },
    {
      "cell_type": "code",
      "metadata": {
        "id": "3_48fodazJU8"
      },
      "source": [
        "import numpy as np\n",
        "\n",
        "def engineer(df):\n",
        "    \"\"\"특성을 엔지니어링 하는 함수입니다.\"\"\"\n",
        "    \n",
        "    # 높은 카디널리티를 가지는 특성을 제거합니다.\n",
        "    selected_cols = df.select_dtypes(include=['number', 'object'])\n",
        "    labels = selected_cols.nunique() # 특성별 카디널리티 리스트\n",
        "    selected_features = labels[labels <= 30].index.tolist() # 카디널리티가 30보다 작은 특성만 선택합니다.\n",
        "    df = df[selected_features]\n",
        "    \n",
        "    # 새로운 특성을 생성합니다.\n",
        "    behaviorals = [col for col in df.columns if 'behavioral' in col] \n",
        "    df['behaviorals'] = df[behaviorals].sum(axis=1)\n",
        "    \n",
        "    \n",
        "    dels = [col for col in df.columns if ('employment' in col or 'seas' in col)]\n",
        "    df.drop(columns=dels, inplace=True)\n",
        "        \n",
        "    return df\n",
        "\n",
        "\n",
        "train = engineer(train)\n",
        "val = engineer(val)\n",
        "test = engineer(test)\n"
      ],
      "execution_count": 15,
      "outputs": []
    },
    {
      "cell_type": "markdown",
      "metadata": {
        "id": "EHMXP5SUzK8O"
      },
      "source": [
        "데이터에서 타겟과 특성 분리"
      ]
    },
    {
      "cell_type": "code",
      "metadata": {
        "id": "BEoOJhsMzNTu"
      },
      "source": [
        "features = train.drop(columns=[target]).columns\n"
      ],
      "execution_count": 16,
      "outputs": []
    },
    {
      "cell_type": "markdown",
      "metadata": {
        "id": "PczsVEgbzPf0"
      },
      "source": [
        "훈련/검증/테스트 데이터를 특성과 타겟으로 분리"
      ]
    },
    {
      "cell_type": "code",
      "metadata": {
        "id": "0HcqvekyzQnk"
      },
      "source": [
        "# 훈련/검증/테스트 데이터를 특성과 타겟으로 분리합니다\n",
        "X_train = train[features]\n",
        "y_train = train[target]\n",
        "X_val = val[features]\n",
        "y_val = val[target]\n",
        "X_test = test[features]\n"
      ],
      "execution_count": 17,
      "outputs": []
    },
    {
      "cell_type": "markdown",
      "metadata": {
        "id": "oE_JiaofzRXU"
      },
      "source": [
        "\n",
        "\n",
        "---\n",
        "\n"
      ]
    },
    {
      "cell_type": "markdown",
      "metadata": {
        "id": "xwQqOsL2zkbc"
      },
      "source": [
        "# 사이킷런 파이프라인"
      ]
    },
    {
      "cell_type": "code",
      "metadata": {
        "colab": {
          "base_uri": "https://localhost:8080/"
        },
        "id": "TkQbE0-1zn3M",
        "outputId": "871cba1c-e144-43fe-9ddb-ba34432b430d"
      },
      "source": [
        "!pip install category_encoders"
      ],
      "execution_count": 19,
      "outputs": [
        {
          "output_type": "stream",
          "text": [
            "Collecting category_encoders\n",
            "\u001b[?25l  Downloading https://files.pythonhosted.org/packages/44/57/fcef41c248701ee62e8325026b90c432adea35555cbc870aff9cfba23727/category_encoders-2.2.2-py2.py3-none-any.whl (80kB)\n",
            "\r\u001b[K     |████                            | 10kB 16.2MB/s eta 0:00:01\r\u001b[K     |████████▏                       | 20kB 6.6MB/s eta 0:00:01\r\u001b[K     |████████████▏                   | 30kB 4.4MB/s eta 0:00:01\r\u001b[K     |████████████████▎               | 40kB 4.1MB/s eta 0:00:01\r\u001b[K     |████████████████████▎           | 51kB 2.1MB/s eta 0:00:01\r\u001b[K     |████████████████████████▍       | 61kB 2.4MB/s eta 0:00:01\r\u001b[K     |████████████████████████████▍   | 71kB 2.6MB/s eta 0:00:01\r\u001b[K     |████████████████████████████████| 81kB 2.2MB/s \n",
            "\u001b[?25hRequirement already satisfied: pandas>=0.21.1 in /usr/local/lib/python3.7/dist-packages (from category_encoders) (1.1.5)\n",
            "Requirement already satisfied: statsmodels>=0.9.0 in /usr/local/lib/python3.7/dist-packages (from category_encoders) (0.10.2)\n",
            "Requirement already satisfied: patsy>=0.5.1 in /usr/local/lib/python3.7/dist-packages (from category_encoders) (0.5.1)\n",
            "Requirement already satisfied: scikit-learn>=0.20.0 in /usr/local/lib/python3.7/dist-packages (from category_encoders) (0.22.2.post1)\n",
            "Requirement already satisfied: scipy>=1.0.0 in /usr/local/lib/python3.7/dist-packages (from category_encoders) (1.4.1)\n",
            "Requirement already satisfied: numpy>=1.14.0 in /usr/local/lib/python3.7/dist-packages (from category_encoders) (1.19.5)\n",
            "Requirement already satisfied: python-dateutil>=2.7.3 in /usr/local/lib/python3.7/dist-packages (from pandas>=0.21.1->category_encoders) (2.8.1)\n",
            "Requirement already satisfied: pytz>=2017.2 in /usr/local/lib/python3.7/dist-packages (from pandas>=0.21.1->category_encoders) (2018.9)\n",
            "Requirement already satisfied: six in /usr/local/lib/python3.7/dist-packages (from patsy>=0.5.1->category_encoders) (1.15.0)\n",
            "Requirement already satisfied: joblib>=0.11 in /usr/local/lib/python3.7/dist-packages (from scikit-learn>=0.20.0->category_encoders) (1.0.1)\n",
            "Installing collected packages: category-encoders\n",
            "Successfully installed category-encoders-2.2.2\n"
          ],
          "name": "stdout"
        }
      ]
    },
    {
      "cell_type": "code",
      "metadata": {
        "colab": {
          "base_uri": "https://localhost:8080/"
        },
        "id": "JHsMmZWUzm6l",
        "outputId": "3893a31d-34ee-4f5b-c83c-89d322d2ef5b"
      },
      "source": [
        "from category_encoders import OneHotEncoder\n",
        "from sklearn.impute import SimpleImputer\n",
        "from sklearn.preprocessing import StandardScaler\n",
        "from sklearn.linear_model import LogisticRegression\n",
        "from sklearn.pipeline import make_pipeline\n"
      ],
      "execution_count": 20,
      "outputs": [
        {
          "output_type": "stream",
          "text": [
            "/usr/local/lib/python3.7/dist-packages/statsmodels/tools/_testing.py:19: FutureWarning: pandas.util.testing is deprecated. Use the functions in the public API at pandas.testing instead.\n",
            "  import pandas.util.testing as tm\n"
          ],
          "name": "stderr"
        }
      ]
    },
    {
      "cell_type": "code",
      "metadata": {
        "colab": {
          "base_uri": "https://localhost:8080/"
        },
        "id": "t6F9_nyIztok",
        "outputId": "8701bf9f-bef2-44dc-ce31-375809b79870"
      },
      "source": [
        "enc = OneHotEncoder()\n",
        "imp_mean = SimpleImputer()\n",
        "scaler = StandardScaler()\n",
        "model_lr = LogisticRegression(n_jobs=-1)\n",
        "\n",
        "X_train_encoded = enc.fit_transform(X_train)\n",
        "X_train_imputed = imp_mean.fit_transform(X_train_encoded)\n",
        "X_train_scaled = scaler.fit_transform(X_train_imputed)\n",
        "model_lr.fit(X_train_scaled, y_train)\n",
        "\n",
        "X_val_encoded = enc.transform(X_val)\n",
        "X_val_imputed = imp_mean.transform(X_val_encoded)\n",
        "X_val_scaled = scaler.transform(X_val_imputed)\n",
        "\n",
        "# score method: Return the mean accuracy on the given test data and labels\n",
        "print('검증세트 정확도', model_lr.score(X_val_scaled, y_val))\n",
        "\n",
        "X_test_encoded = enc.transform(X_test)\n",
        "X_test_imputed = imp_mean.transform(X_test_encoded)\n",
        "X_test_scaled = scaler.transform(X_test_imputed)\n",
        "\n",
        "y_pred = model_lr.predict(X_test_scaled)\n"
      ],
      "execution_count": 21,
      "outputs": [
        {
          "output_type": "stream",
          "text": [
            "/usr/local/lib/python3.7/dist-packages/category_encoders/utils.py:21: FutureWarning: is_categorical is deprecated and will be removed in a future version.  Use is_categorical_dtype instead\n",
            "  elif pd.api.types.is_categorical(cols):\n"
          ],
          "name": "stderr"
        },
        {
          "output_type": "stream",
          "text": [
            "검증세트 정확도 0.8185268651405527\n"
          ],
          "name": "stdout"
        }
      ]
    },
    {
      "cell_type": "markdown",
      "metadata": {
        "id": "K38TlcHRzwJG"
      },
      "source": [
        "파이프라인으로 똑같은 작업 진행시"
      ]
    },
    {
      "cell_type": "code",
      "metadata": {
        "colab": {
          "base_uri": "https://localhost:8080/"
        },
        "id": "SEaWTcWlzz72",
        "outputId": "2ff45599-08ec-4d09-ec89-278a3518bde8"
      },
      "source": [
        "pipe = make_pipeline(\n",
        "    OneHotEncoder(), \n",
        "    SimpleImputer(), \n",
        "    StandardScaler(), \n",
        "    LogisticRegression(n_jobs=-1)\n",
        ")\n",
        "pipe.fit(X_train, y_train)\n",
        "\n",
        "print('검증세트 정확도', pipe.score(X_val, y_val))\n",
        "\n",
        "y_pred = pipe.predict(X_test)\n"
      ],
      "execution_count": 22,
      "outputs": [
        {
          "output_type": "stream",
          "text": [
            "/usr/local/lib/python3.7/dist-packages/category_encoders/utils.py:21: FutureWarning: is_categorical is deprecated and will be removed in a future version.  Use is_categorical_dtype instead\n",
            "  elif pd.api.types.is_categorical(cols):\n"
          ],
          "name": "stderr"
        },
        {
          "output_type": "stream",
          "text": [
            "검증세트 정확도 0.8185268651405527\n"
          ],
          "name": "stdout"
        }
      ]
    },
    {
      "cell_type": "markdown",
      "metadata": {
        "id": "4vP5zCRHz4lk"
      },
      "source": [
        "파이프라인에서 모델의 파라미터 등과 같은 정보를 확인"
      ]
    },
    {
      "cell_type": "code",
      "metadata": {
        "colab": {
          "base_uri": "https://localhost:8080/"
        },
        "id": "IuyhLoFqz5qd",
        "outputId": "d545bcca-67e4-4abc-b4f9-4a4348659f75"
      },
      "source": [
        "pipe.named_steps\n"
      ],
      "execution_count": 23,
      "outputs": [
        {
          "output_type": "execute_result",
          "data": {
            "text/plain": [
              "{'logisticregression': LogisticRegression(C=1.0, class_weight=None, dual=False, fit_intercept=True,\n",
              "                    intercept_scaling=1, l1_ratio=None, max_iter=100,\n",
              "                    multi_class='auto', n_jobs=-1, penalty='l2',\n",
              "                    random_state=None, solver='lbfgs', tol=0.0001, verbose=0,\n",
              "                    warm_start=False),\n",
              " 'onehotencoder': OneHotEncoder(cols=['opinion_h1n1_vacc_effective', 'opinion_h1n1_risk',\n",
              "                     'opinion_h1n1_sick_from_vacc', 'agegrp', 'census_msa'],\n",
              "               drop_invariant=False, handle_missing='value',\n",
              "               handle_unknown='value', return_df=True, use_cat_names=False,\n",
              "               verbose=0),\n",
              " 'simpleimputer': SimpleImputer(add_indicator=False, copy=True, fill_value=None,\n",
              "               missing_values=nan, strategy='mean', verbose=0),\n",
              " 'standardscaler': StandardScaler(copy=True, with_mean=True, with_std=True)}"
            ]
          },
          "metadata": {
            "tags": []
          },
          "execution_count": 23
        }
      ]
    }
  ]
}
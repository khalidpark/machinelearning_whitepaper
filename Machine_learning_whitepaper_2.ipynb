{
  "nbformat": 4,
  "nbformat_minor": 0,
  "metadata": {
    "colab": {
      "name": "Machine_learning_whitepaper_2.ipynb",
      "provenance": [],
      "collapsed_sections": [],
      "authorship_tag": "ABX9TyOMnlnNXPktS+ZvFrU8wyGf",
      "include_colab_link": true
    },
    "kernelspec": {
      "name": "python3",
      "display_name": "Python 3"
    },
    "language_info": {
      "name": "python"
    }
  },
  "cells": [
    {
      "cell_type": "markdown",
      "metadata": {
        "id": "view-in-github",
        "colab_type": "text"
      },
      "source": [
        "<a href=\"https://colab.research.google.com/github/khalidpark/machinelearning_whitepaper/blob/main/Machine_learning_whitepaper_2.ipynb\" target=\"_parent\"><img src=\"https://colab.research.google.com/assets/colab-badge.svg\" alt=\"Open In Colab\"/></a>"
      ]
    },
    {
      "cell_type": "code",
      "metadata": {
        "id": "7EBaFgqCK3QC"
      },
      "source": [
        "import pandas as pd\n",
        "df = pd.read_csv('https://ds-lecture-data.s3.ap-northeast-2.amazonaws.com/house-prices/house_prices_train.csv')\n"
      ],
      "execution_count": 1,
      "outputs": []
    },
    {
      "cell_type": "code",
      "metadata": {
        "colab": {
          "base_uri": "https://localhost:8080/"
        },
        "id": "4IYsbdCnLqHC",
        "outputId": "6d9138fc-392c-4640-a983-b1e4d0fd816c"
      },
      "source": [
        "## 컬럼명을 살펴봅시다.\n",
        "df.columns\n"
      ],
      "execution_count": 2,
      "outputs": [
        {
          "output_type": "execute_result",
          "data": {
            "text/plain": [
              "Index(['Id', 'MSSubClass', 'MSZoning', 'LotFrontage', 'LotArea', 'Street',\n",
              "       'Alley', 'LotShape', 'LandContour', 'Utilities', 'LotConfig',\n",
              "       'LandSlope', 'Neighborhood', 'Condition1', 'Condition2', 'BldgType',\n",
              "       'HouseStyle', 'OverallQual', 'OverallCond', 'YearBuilt', 'YearRemodAdd',\n",
              "       'RoofStyle', 'RoofMatl', 'Exterior1st', 'Exterior2nd', 'MasVnrType',\n",
              "       'MasVnrArea', 'ExterQual', 'ExterCond', 'Foundation', 'BsmtQual',\n",
              "       'BsmtCond', 'BsmtExposure', 'BsmtFinType1', 'BsmtFinSF1',\n",
              "       'BsmtFinType2', 'BsmtFinSF2', 'BsmtUnfSF', 'TotalBsmtSF', 'Heating',\n",
              "       'HeatingQC', 'CentralAir', 'Electrical', '1stFlrSF', '2ndFlrSF',\n",
              "       'LowQualFinSF', 'GrLivArea', 'BsmtFullBath', 'BsmtHalfBath', 'FullBath',\n",
              "       'HalfBath', 'BedroomAbvGr', 'KitchenAbvGr', 'KitchenQual',\n",
              "       'TotRmsAbvGrd', 'Functional', 'Fireplaces', 'FireplaceQu', 'GarageType',\n",
              "       'GarageYrBlt', 'GarageFinish', 'GarageCars', 'GarageArea', 'GarageQual',\n",
              "       'GarageCond', 'PavedDrive', 'WoodDeckSF', 'OpenPorchSF',\n",
              "       'EnclosedPorch', '3SsnPorch', 'ScreenPorch', 'PoolArea', 'PoolQC',\n",
              "       'Fence', 'MiscFeature', 'MiscVal', 'MoSold', 'YrSold', 'SaleType',\n",
              "       'SaleCondition', 'SalePrice'],\n",
              "      dtype='object')"
            ]
          },
          "metadata": {
            "tags": []
          },
          "execution_count": 2
        }
      ]
    },
    {
      "cell_type": "code",
      "metadata": {
        "colab": {
          "base_uri": "https://localhost:8080/"
        },
        "id": "s6FfyvrLMqZq",
        "outputId": "918b60df-d77e-4916-d00b-5c4337394d2e"
      },
      "source": [
        "## 데이터의 75% 갯수\n",
        "len(df)*0.75\n"
      ],
      "execution_count": 3,
      "outputs": [
        {
          "output_type": "execute_result",
          "data": {
            "text/plain": [
              "1095.0"
            ]
          },
          "metadata": {
            "tags": []
          },
          "execution_count": 3
        }
      ]
    },
    {
      "cell_type": "code",
      "metadata": {
        "id": "u8NhgMPOMsLc"
      },
      "source": [
        "## train/test 데이터를 sample 메소드를 사용해 나누겠습니다.\n",
        "train = df.sample(frac=0.75,random_state=1)\n",
        "test = df.drop(train.index)\n"
      ],
      "execution_count": 4,
      "outputs": []
    },
    {
      "cell_type": "code",
      "metadata": {
        "colab": {
          "base_uri": "https://localhost:8080/"
        },
        "id": "0QqE687wMvEK",
        "outputId": "ae803162-7281-4473-c14c-42b6ca179920"
      },
      "source": [
        "## train, test 길이 비교\n",
        "len(train), len(test)\n"
      ],
      "execution_count": 5,
      "outputs": [
        {
          "output_type": "execute_result",
          "data": {
            "text/plain": [
              "(1095, 365)"
            ]
          },
          "metadata": {
            "tags": []
          },
          "execution_count": 5
        }
      ]
    },
    {
      "cell_type": "markdown",
      "metadata": {
        "id": "9zFFZ-_gMv5q"
      },
      "source": [
        "\n",
        "\n",
        "---\n",
        "\n"
      ]
    },
    {
      "cell_type": "code",
      "metadata": {
        "colab": {
          "base_uri": "https://localhost:8080/"
        },
        "id": "QJzkIL5_M3Fa",
        "outputId": "5657c788-1d66-48dc-b653-03f5cb127bcd"
      },
      "source": [
        "# SalePrice 평균\n",
        "train['SalePrice'].mean()\n"
      ],
      "execution_count": 6,
      "outputs": [
        {
          "output_type": "execute_result",
          "data": {
            "text/plain": [
              "180327.24200913243"
            ]
          },
          "metadata": {
            "tags": []
          },
          "execution_count": 6
        }
      ]
    },
    {
      "cell_type": "code",
      "metadata": {
        "id": "ypoHc5cqM5B5"
      },
      "source": [
        "# label 정의\n",
        "target = 'SalePrice'\n",
        "y_train = train[target]\n",
        "y_test = test[target]\n"
      ],
      "execution_count": 7,
      "outputs": []
    },
    {
      "cell_type": "code",
      "metadata": {
        "id": "b6f3TYOHM76J"
      },
      "source": [
        "# SalePrice 평균값으로 예측(기준모델)\n",
        "predict = y_train.mean()\n"
      ],
      "execution_count": 8,
      "outputs": []
    },
    {
      "cell_type": "code",
      "metadata": {
        "colab": {
          "base_uri": "https://localhost:8080/"
        },
        "id": "Ylu8k6mQM9c7",
        "outputId": "6170b712-0b7e-4cc2-fb88-a57b6ec59afe"
      },
      "source": [
        "predict"
      ],
      "execution_count": 9,
      "outputs": [
        {
          "output_type": "execute_result",
          "data": {
            "text/plain": [
              "180327.24200913243"
            ]
          },
          "metadata": {
            "tags": []
          },
          "execution_count": 9
        }
      ]
    },
    {
      "cell_type": "code",
      "metadata": {
        "colab": {
          "base_uri": "https://localhost:8080/"
        },
        "id": "Bia74XmaNAha",
        "outputId": "00c54803-2704-41b5-e6b5-21a7e8e81928"
      },
      "source": [
        "# 기준모델로 훈련 에러(MAE) 계산\n",
        "from sklearn.metrics import mean_absolute_error\n",
        "y_pred = [predict] * len(y_train)\n",
        "mae = mean_absolute_error(y_train, y_pred)\n",
        "\n",
        "print(f'훈련 에러: {mae:.2f}')\n"
      ],
      "execution_count": 10,
      "outputs": [
        {
          "output_type": "stream",
          "text": [
            "훈련 에러: 57775.57\n"
          ],
          "name": "stdout"
        }
      ]
    },
    {
      "cell_type": "code",
      "metadata": {
        "colab": {
          "base_uri": "https://localhost:8080/"
        },
        "id": "GmIS8LNdNDrL",
        "outputId": "fc77639f-b640-4b12-ff17-b230a2b6e50a"
      },
      "source": [
        "# 테스트 에러(MAE)\n",
        "y_pred = [predict] * len(y_test)\n",
        "mae = mean_absolute_error(y_test, y_pred)\n",
        "print(f'테스트 에러: {mae:.2f}')\n"
      ],
      "execution_count": 11,
      "outputs": [
        {
          "output_type": "stream",
          "text": [
            "테스트 에러: 55862.90\n"
          ],
          "name": "stdout"
        }
      ]
    },
    {
      "cell_type": "markdown",
      "metadata": {
        "id": "2f_lptLZNEri"
      },
      "source": [
        "\n",
        "scikit-learn을 사용해서 단순선형회귀모델을 만들자 우선"
      ]
    },
    {
      "cell_type": "code",
      "metadata": {
        "colab": {
          "base_uri": "https://localhost:8080/",
          "height": 295
        },
        "id": "xNcav1xsNLPp",
        "outputId": "556137ee-e47c-422b-a1dc-216cd53a99e1"
      },
      "source": [
        "import seaborn as sns\n",
        "sns.regplot(x=train['GrLivArea'], y=train['SalePrice']).set_title('Housing Prices');\n"
      ],
      "execution_count": 12,
      "outputs": [
        {
          "output_type": "display_data",
          "data": {
            "image/png": "[encoded data removed]",
            "text/plain": [
              "<Figure size 432x288 with 1 Axes>"
            ]
          },
          "metadata": {
            "tags": [],
            "needs_background": "light"
          }
        }
      ]
    },
    {
      "cell_type": "code",
      "metadata": {
        "colab": {
          "base_uri": "https://localhost:8080/"
        },
        "id": "JuFDIVpONOgM",
        "outputId": "1a2a0c3c-0dfd-401c-dcce-8acc93280422"
      },
      "source": [
        "from sklearn.linear_model import LinearRegression\n",
        "\n",
        "model = LinearRegression()\n",
        "\n",
        "features = ['GrLivArea']\n",
        "X_train = train[features]\n",
        "X_test = test[features]\n",
        "\n",
        "# 모델 fit\n",
        "model.fit(X_train, y_train)\n",
        "y_pred = model.predict(X_train)\n",
        "mae = mean_absolute_error(y_train, y_pred)\n",
        "print(f'훈련 에러: {mae:.2f}')\n"
      ],
      "execution_count": 13,
      "outputs": [
        {
          "output_type": "stream",
          "text": [
            "훈련 에러: 38327.78\n"
          ],
          "name": "stdout"
        }
      ]
    },
    {
      "cell_type": "code",
      "metadata": {
        "colab": {
          "base_uri": "https://localhost:8080/"
        },
        "id": "3E0LDYPCNP7V",
        "outputId": "a7485fa5-0f05-4037-9dc1-5ae461252ca4"
      },
      "source": [
        "# 테스트 데이터에 적용\n",
        "y_pred = model.predict(X_test)\n",
        "mae = mean_absolute_error(y_test, y_pred)\n",
        "print(f'테스트 에러: {mae:.2f}')\n"
      ],
      "execution_count": 14,
      "outputs": [
        {
          "output_type": "stream",
          "text": [
            "테스트 에러: 35476.63\n"
          ],
          "name": "stdout"
        }
      ]
    },
    {
      "cell_type": "markdown",
      "metadata": {
        "id": "iPgUu_34NRHS"
      },
      "source": [
        "기준모델과 비교해 보면 에러가 줄어든 것을 확인할 수 있습니다."
      ]
    },
    {
      "cell_type": "markdown",
      "metadata": {
        "id": "m3mV6u36NSrC"
      },
      "source": [
        "\n",
        "\n",
        "---\n",
        "\n"
      ]
    },
    {
      "cell_type": "markdown",
      "metadata": {
        "id": "jiYMqOe_Nf0q"
      },
      "source": [
        "scikit-learn을 사용해서 다중선형회귀 모델을 만들어 봅시다.\n",
        "\n"
      ]
    },
    {
      "cell_type": "code",
      "metadata": {
        "id": "U-eazex-NhaR"
      },
      "source": [
        "# 다중모델 학습을 위한 특성\n",
        "features = ['GrLivArea', \n",
        "            'OverallQual']\n",
        "X_train = train[features]\n",
        "X_test = test[features]\n"
      ],
      "execution_count": 16,
      "outputs": []
    },
    {
      "cell_type": "code",
      "metadata": {
        "colab": {
          "base_uri": "https://localhost:8080/"
        },
        "id": "Xs660qwkNjYf",
        "outputId": "4b5d20af-87cb-4e47-d6be-71b5aa331afd"
      },
      "source": [
        "# 모델 fit\n",
        "model.fit(X_train, y_train)\n",
        "y_pred = model.predict(X_train)\n",
        "mae = mean_absolute_error(y_train, y_pred)\n",
        "print(f'훈련 에러: {mae:.2f}')\n"
      ],
      "execution_count": 17,
      "outputs": [
        {
          "output_type": "stream",
          "text": [
            "훈련 에러: 29129.58\n"
          ],
          "name": "stdout"
        }
      ]
    },
    {
      "cell_type": "code",
      "metadata": {
        "colab": {
          "base_uri": "https://localhost:8080/"
        },
        "id": "UdfVgXkLNlar",
        "outputId": "73b63870-af22-4484-8fb6-d2ed15f642fe"
      },
      "source": [
        "# 테스트 데이터에 적용해 봅시다 \n",
        "y_pred = model.predict(X_test)\n",
        "mae = mean_absolute_error(y_test, y_pred)\n",
        "print(f'테스트 에러: {mae:.2f}')\n"
      ],
      "execution_count": 18,
      "outputs": [
        {
          "output_type": "stream",
          "text": [
            "테스트 에러: 27598.31\n"
          ],
          "name": "stdout"
        }
      ]
    },
    {
      "cell_type": "markdown",
      "metadata": {
        "id": "fimKVUM0NoB6"
      },
      "source": [
        "하나의 특성을 사용한 단순선형회귀모델보다 테스트 오류가 더 줄어든 것을 확인할 수 있습니다"
      ]
    },
    {
      "cell_type": "markdown",
      "metadata": {
        "id": "KFufErBLNttd"
      },
      "source": [
        "\n",
        "\n",
        "---\n",
        "\n"
      ]
    },
    {
      "cell_type": "markdown",
      "metadata": {
        "id": "g4HioZ0KN2TD"
      },
      "source": [
        "단순선형회귀에서는 모델이 직선의 방정식으로 표현이 되었다면, 이번에는 특성이 두 개이므로 평면의 방정식으로 표현이 됩니다.\n",
        "\n",
        "Plotly를 사용하여 3D 평면을 표현해 보겠습니다."
      ]
    },
    {
      "cell_type": "code",
      "metadata": {
        "id": "khIqm-XaNuml"
      },
      "source": [
        "import numpy as np\n",
        "import plotly.express as px\n",
        "import plotly.graph_objs as go\n",
        "import itertools\n",
        "\n",
        "def surface_3d(df, f1, f2, target, length=20, **kwargs):\n",
        "    \"\"\"\n",
        "    2특성 1타겟 선형모델평면을 시각화 합니다.\n",
        "    \n",
        "    df : 데이터프레임\n",
        "    f1 : 특성 1 열 이름\n",
        "    f2 : 특성 2 열 이름\n",
        "    target : 타겟 열 이름\n",
        "    length : 각 특성의 관측치 갯수\n",
        "    \n",
        "    \"\"\"\n",
        "    \n",
        "    # scatter plot(https://plotly.com/python-api-reference/generated/plotly.express.scatter_3d)\n",
        "    plot = px.scatter_3d(df, x=f1, y=f2, z=target, opacity=0.5, **kwargs)\n",
        "    \n",
        "    # 다중선형회귀방정식 학습\n",
        "    model = LinearRegression()\n",
        "    model.fit(df[[f1, f2]], df[target])    \n",
        "\n",
        "    # 좌표축 설정\n",
        "    x_axis = np.linspace(df[f1].min(), df[f1].max(), length)\n",
        "    y_axis = np.linspace(df[f2].min(), df[f2].max(), length)\n",
        "    coords = list(itertools.product(x_axis, y_axis))\n",
        "    \n",
        "    # 예측\n",
        "    pred = model.predict(coords)\n",
        "    z_axis = pred.reshape(length, length).T\n",
        "    \n",
        "    # plot 예측평면\n",
        "    plot.add_trace(go.Surface(x=x_axis, y=y_axis, z=z_axis, colorscale='Viridis'))\n",
        "    \n",
        "    return plot\n"
      ],
      "execution_count": 19,
      "outputs": []
    },
    {
      "cell_type": "code",
      "metadata": {
        "colab": {
          "base_uri": "https://localhost:8080/",
          "height": 542
        },
        "id": "LMavN9dJNwx9",
        "outputId": "a3538425-56b9-4d6e-9b3a-3967c2bb26ee"
      },
      "source": [
        "surface_3d(\n",
        "    train,\n",
        "    f1='GrLivArea', \n",
        "    f2='OverallQual', \n",
        "    target='SalePrice',  \n",
        "    title='House Prices'\n",
        ")\n"
      ],
      "execution_count": 20,
      "outputs": [
        {
          "output_type": "display_data",
          "data": {
            "text/html": [
              "<html>\n",
              "<head><meta charset=\"utf-8\" /></head>\n",
              "<body>\n",
              "    <div>\n",
              "            <script src=\"https://cdnjs.cloudflare.com/ajax/libs/mathjax/2.7.5/MathJax.js?config=TeX-AMS-MML_SVG\"></script><script type=\"text/javascript\">if (window.MathJax) {MathJax.Hub.Config({SVG: {font: \"STIX-Web\"}});}</script>\n",
              "                <script type=\"text/javascript\">window.PlotlyConfig = {MathJaxConfig: 'local'};</script>\n",
              "        <script src=\"https://cdn.plot.ly/plotly-latest.min.js\"></script>    \n",
              "            <div id=\"29d8806d-31bb-4de7-b7b1-e5cf499bcecf\" class=\"plotly-graph-div\" style=\"height:525px; width:100%;\"></div>\n",
              "            <script type=\"text/javascript\">\n",
              "                \n",
              "                    window.PLOTLYENV=window.PLOTLYENV || {};\n",
              "                    \n",
              "                if (document.getElementById(\"29d8806d-31bb-4de7-b7b1-e5cf499bcecf\")) {\n",
              "                    Plotly.newPlot(\n",
              "                        '29d8806d-31bb-4de7-b7b1-e5cf499bcecf',\n",
              "                        [{\"hoverlabel\": {\"namelength\": 0}, \"hovertemplate\": \"GrLivArea=%{x}<br>OverallQual=%{y}<br>SalePrice=%{z}\", \"legendgroup\": \"\", \"marker\": {\"color\": \"#636efa\", \"opacity\": 0.5, \"symbol\": \"circle\"}, \"mode\": \"markers\", \"name\": \"\", \"scene\": \"scene\", \"showlegend\": false, \"type\": \"scatter3d\", \"x\": [1792, 2192, 900, 630, 1188, 2161, 2374, 1200, 1948, 1644, 1484, 904, 1555, 1842, 1654, 1248, 894, 1235, 1524, 923, 1040, 2290, 1616, 1718, 784, 1851, 1362, 1349, 3140, 1365, 2138, 1218, 864, 924, 1297, 1944, 972, 869, 2329, 1346, 1716, 1196, 803, 893, 1690, 1657, 1111, 1266, 1468, 2167, 882, 3493, 778, 2020, 1240, 789, 950, 1430, 1128, 1732, 1516, 2452, 841, 768, 1486, 999, 1469, 1850, 1126, 1526, 3086, 1452, 2468, 1646, 1466, 1358, 1482, 1308, 2633, 1258, 2142, 1573, 860, 1264, 1714, 1200, 1426, 1158, 1845, 1683, 1402, 1309, 864, 1224, 1301, 1250, 912, 1339, 1026, 1159, 1968, 816, 1363, 872, 1008, 1768, 1316, 1717, 1482, 2622, 1539, 2008, 1117, 1414, 1801, 1456, 1466, 955, 1920, 1707, 1604, 1489, 2794, 1818, 2521, 1298, 1766, 1044, 2090, 1692, 2172, 944, 1008, 1200, 764, 1494, 3627, 1702, 2291, 912, 1517, 2872, 1414, 1557, 1317, 1797, 1134, 1430, 1861, 925, 1253, 1481, 864, 1600, 1626, 2576, 1526, 1211, 1140, 1475, 800, 1073, 1556, 1004, 918, 1144, 1573, 1524, 1728, 1347, 1947, 1824, 2236, 1689, 1675, 936, 2119, 1786, 1271, 1342, 988, 1456, 1632, 912, 1836, 1795, 2042, 2473, 1635, 864, 858, 1507, 987, 1739, 1385, 2263, 1630, 1244, 1152, 708, 1661, 2127, 1445, 1571, 1709, 1284, 1221, 2462, 2727, 1786, 1668, 833, 1458, 864, 1718, 1939, 874, 1040, 1572, 988, 4476, 864, 1471, 1920, 1367, 864, 1590, 1291, 1224, 1430, 1360, 1640, 1208, 1539, 1620, 1535, 2531, 948, 1738, 2392, 1792, 1802, 1040, 1788, 1039, 2229, 1190, 1578, 1389, 988, 899, 752, 1553, 1279, 1664, 1176, 1217, 605, 1698, 1040, 1296, 2136, 1768, 1337, 1304, 1686, 988, 999, 1136, 987, 1725, 1498, 1184, 974, 1868, 1124, 1302, 912, 1991, 1086, 1652, 1057, 1576, 1074, 1935, 1541, 1412, 882, 1656, 968, 835, 2078, 2200, 1294, 1310, 1982, 1593, 2054, 1086, 988, 1251, 1120, 1236, 1682, 1056, 1888, 1116, 1743, 1656, 1266, 1350, 1824, 1178, 1614, 1456, 796, 1970, 1442, 1440, 1647, 1660, 1556, 1869, 2097, 1164, 2945, 1145, 2127, 1487, 1369, 923, 1742, 1958, 1704, 1572, 1680, 958, 1056, 2418, 1456, 1661, 1801, 747, 1518, 1040, 1126, 1392, 1212, 1506, 935, 1550, 1080, 1922, 1268, 1092, 1768, 1665, 1090, 936, 2452, 1360, 1414, 1365, 1668, 2080, 1694, 1576, 1958, 1803, 1164, 894, 1337, 1436, 1314, 1869, 2634, 1092, 1310, 1472, 2713, 1501, 480, 1932, 1774, 866, 2290, 1512, 2018, 1912, 886, 1973, 1442, 1146, 1372, 1548, 958, 796, 2263, 1620, 2097, 1800, 1370, 2784, 1567, 1432, 1721, 1128, 1269, 1552, 1258, 1573, 2715, 1446, 1200, 864, 996, 2337, 1192, 1224, 1593, 720, 894, 1440, 864, 2196, 1588, 1746, 1453, 1328, 968, 1509, 1225, 3228, 1496, 1554, 1250, 1671, 2515, 1411, 2062, 1065, 2345, 1306, 1796, 952, 912, 1850, 1320, 1771, 1724, 1981, 864, 894, 1068, 1188, 2256, 1196, 1056, 960, 1530, 2090, 1163, 1344, 1294, 971, 1915, 1710, 1236, 2113, 1121, 2728, 2110, 1489, 913, 1509, 960, 1247, 1734, 2084, 1971, 2526, 1494, 1200, 768, 1664, 1756, 2372, 1212, 1525, 1694, 1144, 2110, 1220, 816, 1442, 804, 1734, 882, 1339, 1498, 1050, 1208, 1561, 2417, 1960, 1040, 1056, 2126, 1324, 980, 1641, 1288, 987, 1708, 1220, 790, 2002, 1041, 1479, 5642, 1246, 1530, 1368, 1969, 2519, 788, 816, 2654, 1478, 1258, 1192, 1721, 1040, 1077, 1489, 1040, 1221, 1844, 910, 1181, 1575, 864, 1664, 1216, 1635, 754, 1680, 1567, 1141, 1126, 2285, 1764, 1382, 1976, 1355, 2520, 1482, 1479, 2243, 1872, 894, 1374, 1826, 1224, 2320, 2340, 2596, 1258, 2112, 1296, 848, 987, 848, 1500, 1582, 1230, 1082, 1100, 1744, 2358, 1577, 1646, 2365, 1908, 2898, 1663, 2158, 2094, 1336, 1203, 1668, 630, 1987, 1779, 1792, 2108, 1324, 1935, 1660, 2448, 1719, 1173, 1812, 1154, 1660, 780, 1494, 1578, 1478, 1728, 816, 1687, 1241, 1742, 2730, 1720, 1440, 1844, 1148, 2046, 1728, 1392, 1180, 1441, 1103, 1718, 1604, 2060, 1786, 1795, 986, 1094, 1431, 438, 1144, 1131, 1218, 1442, 2028, 1125, 902, 1362, 1865, 1978, 1005, 1484, 1154, 1689, 1214, 2324, 1376, 1629, 1494, 2132, 1370, 894, 1904, 1360, 784, 894, 1474, 1929, 1959, 2034, 1804, 1656, 1750, 1710, 960, 1140, 1479, 1959, 1767, 1509, 894, 1242, 2828, 924, 1121, 1701, 1928, 1294, 1092, 1232, 1470, 698, 845, 1476, 1234, 1694, 1652, 1595, 1616, 1073, 1386, 1200, 1699, 1003, 1416, 1652, 1416, 1072, 2514, 1811, 904, 1148, 960, 2524, 1477, 924, 1962, 1069, 861, 2087, 2020, 1208, 2224, 1604, 816, 2201, 1344, 1357, 1006, 1504, 864, 1535, 2262, 1265, 1456, 1269, 1262, 1352, 1216, 1314, 904, 1601, 825, 1768, 1072, 1836, 990, 1383, 1839, 1525, 1761, 1138, 1513, 1123, 1580, 1391, 1062, 1004, 848, 1196, 1494, 1940, 1426, 2263, 1775, 1504, 1047, 1680, 1060, 729, 2287, 965, 1389, 1700, 1040, 1226, 1048, 2076, 1459, 2260, 1790, 1605, 1218, 1630, 1954, 1069, 2482, 1422, 1717, 1502, 630, 1855, 1363, 1324, 985, 1560, 1215, 630, 1636, 3608, 2184, 1337, 1152, 816, 1776, 1111, 1120, 1392, 773, 1092, 2447, 1125, 840, 1902, 1625, 1656, 1548, 1406, 1709, 1048, 1214, 1700, 1252, 1688, 1646, 1720, 1092, 1352, 1752, 1876, 1394, 1434, 747, 2646, 1716, 2149, 864, 1114, 1950, 2392, 1405, 1523, 1316, 1574, 907, 1394, 1710, 912, 1165, 1646, 2207, 864, 1228, 1456, 1040, 1600, 1644, 1382, 2259, 1872, 1340, 3279, 2668, 2046, 1056, 952, 1057, 990, 1176, 1262, 1375, 1334, 1936, 1762, 1953, 954, 964, 1301, 2320, 1338, 1314, 1412, 1473, 2234, 1118, 848, 2332, 1327, 1733, 1200, 1728, 1396, 1928, 2217, 1204, 1717, 990, 1431, 1050, 1537, 1212, 1118, 768, 2364, 1510, 1419, 875, 3222, 864, 1608, 334, 1097, 1456, 1095, 1632, 1440, 2240, 900, 1774, 1253, 1218, 1393, 1563, 720, 1490, 1661, 1502, 1904, 2610, 1632, 1015, 1839, 1040, 1277, 1040, 935, 1392, 1886, 1588, 1336, 1779, 1928, 1363, 1986, 1183, 1517, 4676, 1392, 1112, 1099, 3447, 2035, 1122, 1134, 1470, 1478, 1419, 2526, 1110, 1040, 1629, 2640, 1362, 1522, 2466, 1504, 1200, 2000, 767, 1632, 1665, 1114, 1250, 2267, 1132, 1795, 1820, 1092, 1734, 1639, 1505, 1470, 1863, 2574, 1690, 1261, 3194, 968, 1535, 1109, 2554, 1022, 1674, 1252, 1644, 1691, 1670, 1200, 845, 2620, 894, 1131, 1989, 1617, 958, 1694, 1787, 520, 1283, 1285, 1152, 1322, 1968, 1905, 1458, 1144, 3395, 1328, 1088, 1571, 1034, 816, 2030, 894, 1924, 2520, 672, 1576, 1602, 1376, 792, 1733, 1800, 1067, 1752, 2403, 4316, 1343, 1638, 1268, 1428, 2090, 2344, 3112, 1558, 1048, 1128, 1080, 1856, 1395, 1902, 1541, 1586, 928, 2198, 1092, 1337, 1868, 1032, 858, 1229, 1072, 1194, 902, 1911, 1167, 1111, 1416, 1559, 1144, 1679, 1712, 1218, 1358, 1252, 2084, 1768, 848, 1319, 1582, 1118, 884, 2210, 981, 1689, 1626, 1920, 1664, 1130, 1547, 1452, 936, 1484, 1456, 1416, 1344, 1720, 912, 1472, 2555, 1464], \"y\": [7, 5, 5, 4, 5, 8, 8, 7, 7, 7, 5, 1, 7, 9, 7, 5, 5, 5, 7, 6, 5, 4, 8, 10, 6, 6, 6, 7, 9, 5, 5, 6, 5, 4, 5, 9, 6, 4, 7, 4, 5, 6, 5, 5, 6, 6, 7, 7, 8, 7, 5, 7, 5, 8, 7, 5, 5, 7, 5, 6, 6, 8, 4, 5, 5, 5, 6, 7, 5, 5, 5, 4, 8, 7, 5, 7, 7, 5, 10, 7, 6, 4, 5, 5, 7, 5, 6, 6, 6, 6, 7, 6, 4, 4, 5, 5, 5, 5, 6, 5, 5, 5, 4, 4, 5, 7, 6, 7, 6, 8, 5, 5, 6, 7, 8, 6, 8, 5, 5, 8, 5, 8, 8, 7, 6, 6, 9, 5, 7, 7, 7, 3, 5, 5, 5, 6, 10, 9, 7, 6, 5, 6, 6, 7, 4, 7, 5, 7, 7, 5, 7, 6, 4, 6, 7, 8, 3, 5, 4, 5, 2, 5, 6, 6, 6, 5, 6, 5, 5, 5, 7, 6, 7, 8, 6, 5, 6, 6, 5, 6, 5, 7, 5, 5, 8, 5, 8, 8, 6, 6, 4, 5, 6, 8, 5, 8, 7, 6, 6, 4, 7, 7, 6, 6, 9, 5, 7, 7, 8, 5, 7, 5, 6, 4, 8, 8, 5, 3, 5, 4, 10, 5, 6, 7, 5, 5, 8, 6, 6, 7, 5, 7, 4, 5, 9, 5, 8, 4, 4, 8, 9, 7, 4, 4, 5, 6, 5, 6, 5, 6, 5, 6, 7, 6, 5, 6, 7, 4, 9, 5, 8, 5, 7, 6, 5, 6, 5, 7, 6, 6, 7, 6, 5, 5, 5, 5, 5, 5, 6, 5, 5, 5, 5, 5, 8, 7, 6, 4, 8, 4, 5, 8, 5, 4, 7, 7, 6, 6, 5, 5, 6, 5, 5, 7, 6, 6, 6, 6, 5, 7, 6, 6, 4, 7, 6, 4, 8, 7, 6, 5, 7, 6, 5, 7, 5, 10, 7, 7, 6, 6, 5, 8, 7, 8, 6, 5, 6, 4, 7, 6, 7, 7, 4, 8, 4, 5, 6, 6, 9, 5, 7, 7, 9, 5, 5, 4, 7, 5, 4, 8, 8, 8, 5, 8, 5, 8, 5, 6, 5, 7, 5, 6, 7, 7, 9, 5, 4, 6, 5, 9, 6, 2, 8, 7, 5, 8, 6, 9, 6, 5, 8, 6, 7, 7, 7, 6, 5, 8, 5, 8, 8, 8, 7, 8, 7, 6, 4, 5, 7, 6, 5, 8, 7, 6, 3, 6, 5, 4, 5, 8, 4, 4, 5, 5, 7, 8, 9, 7, 5, 3, 6, 4, 8, 8, 8, 7, 6, 6, 7, 7, 5, 6, 3, 6, 4, 5, 9, 5, 5, 7, 4, 5, 5, 6, 5, 7, 6, 5, 4, 7, 8, 3, 5, 6, 5, 8, 7, 5, 8, 4, 9, 7, 6, 6, 7, 4, 8, 8, 10, 7, 6, 8, 6, 5, 7, 6, 5, 6, 6, 8, 5, 7, 4, 5, 7, 5, 6, 5, 7, 7, 5, 7, 9, 8, 6, 5, 5, 5, 8, 5, 7, 8, 6, 7, 7, 6, 5, 5, 7, 10, 5, 7, 6, 7, 7, 4, 5, 6, 6, 6, 5, 5, 5, 5, 6, 5, 5, 6, 5, 4, 6, 5, 6, 5, 6, 6, 6, 6, 6, 4, 8, 6, 6, 8, 5, 7, 7, 7, 7, 8, 5, 4, 7, 6, 5, 7, 9, 4, 6, 4, 6, 6, 6, 6, 5, 4, 6, 4, 7, 8, 6, 8, 8, 8, 8, 4, 6, 7, 5, 5, 9, 4, 8, 7, 5, 6, 4, 7, 6, 8, 8, 7, 5, 4, 8, 5, 7, 8, 6, 6, 6, 5, 7, 8, 7, 7, 4, 8, 5, 7, 6, 5, 4, 6, 6, 7, 7, 7, 7, 8, 6, 6, 6, 2, 5, 4, 6, 6, 8, 5, 5, 5, 7, 7, 4, 6, 5, 6, 5, 9, 5, 8, 7, 8, 7, 5, 5, 5, 5, 5, 7, 7, 7, 7, 7, 5, 6, 8, 4, 5, 7, 7, 7, 6, 5, 7, 8, 5, 5, 5, 7, 7, 4, 6, 6, 5, 4, 6, 8, 8, 8, 6, 6, 5, 6, 7, 3, 6, 7, 8, 6, 6, 7, 6, 5, 5, 4, 8, 7, 5, 7, 6, 4, 6, 5, 6, 9, 6, 6, 6, 4, 6, 5, 7, 4, 7, 8, 5, 6, 8, 6, 6, 6, 7, 6, 5, 5, 5, 6, 7, 5, 5, 6, 7, 7, 6, 5, 4, 8, 7, 6, 6, 6, 4, 6, 9, 7, 7, 7, 7, 4, 6, 5, 3, 7, 5, 7, 6, 5, 7, 5, 10, 7, 7, 7, 3, 6, 8, 7, 6, 8, 6, 7, 6, 4, 6, 5, 6, 5, 7, 6, 5, 8, 10, 9, 8, 5, 5, 7, 5, 4, 7, 5, 6, 6, 6, 5, 7, 8, 7, 6, 6, 7, 5, 5, 5, 7, 6, 8, 7, 4, 5, 9, 6, 5, 7, 4, 7, 5, 7, 4, 6, 7, 10, 7, 6, 7, 6, 4, 6, 7, 5, 6, 8, 7, 4, 5, 8, 5, 5, 6, 4, 6, 7, 7, 8, 9, 8, 5, 5, 5, 5, 6, 6, 6, 6, 8, 7, 8, 5, 5, 7, 6, 8, 5, 6, 5, 9, 6, 6, 10, 5, 3, 7, 5, 6, 6, 8, 6, 8, 4, 7, 5, 6, 7, 6, 5, 9, 4, 8, 5, 7, 5, 6, 1, 6, 7, 6, 7, 4, 5, 5, 4, 6, 6, 5, 8, 6, 7, 6, 7, 8, 8, 6, 5, 7, 3, 7, 4, 5, 6, 7, 4, 4, 5, 5, 7, 7, 3, 8, 10, 6, 5, 5, 8, 7, 5, 5, 4, 7, 8, 8, 5, 3, 8, 7, 6, 5, 8, 7, 5, 8, 7, 6, 8, 5, 7, 6, 4, 8, 7, 5, 5, 6, 5, 6, 7, 8, 7, 6, 8, 5, 5, 5, 7, 5, 6, 5, 5, 5, 7, 7, 4, 5, 5, 5, 8, 6, 6, 6, 8, 4, 5, 6, 4, 6, 8, 9, 6, 5, 6, 6, 8, 8, 5, 5, 6, 5, 8, 8, 5, 7, 6, 6, 5, 7, 9, 4, 8, 7, 10, 5, 6, 5, 7, 7, 7, 8, 5, 5, 5, 6, 9, 6, 6, 7, 6, 5, 8, 4, 7, 6, 6, 4, 6, 5, 6, 5, 8, 6, 5, 5, 5, 5, 6, 5, 6, 7, 6, 7, 7, 6, 5, 7, 5, 5, 6, 6, 7, 7, 5, 6, 5, 7, 7, 5, 7, 7, 5, 6, 7, 6, 7, 6, 5], \"z\": [231500, 179500, 122000, 84500, 142000, 325624, 285000, 151000, 195000, 275000, 175000, 61000, 174000, 385000, 230000, 87000, 125000, 98600, 260000, 143000, 124000, 122500, 236500, 337500, 76000, 187000, 128000, 179000, 485000, 122500, 106000, 118000, 127000, 80000, 153000, 360000, 132000, 85500, 262280, 112000, 131000, 139000, 87000, 135000, 181000, 163500, 116900, 159895, 244600, 294000, 97000, 295000, 120500, 239500, 194000, 115000, 119500, 180000, 118000, 178000, 167000, 267000, 82000, 133900, 167000, 132500, 135000, 248000, 160000, 144500, 200500, 113000, 354000, 164000, 170000, 224000, 163900, 160000, 466500, 172500, 193500, 133000, 137000, 167500, 196500, 146000, 159500, 158000, 189000, 172500, 194201, 181000, 115000, 101800, 100000, 139000, 115000, 139000, 156000, 158000, 172000, 138000, 125500, 123000, 134500, 163000, 169990, 140000, 140000, 325000, 157500, 225000, 107000, 185500, 239900, 163990, 201000, 127000, 172500, 228000, 117000, 232600, 403000, 169500, 151400, 180000, 370878, 55993, 207500, 224500, 280000, 82000, 137000, 130500, 73000, 217000, 625000, 367294, 230000, 142000, 115000, 272000, 176500, 234000, 40000, 213500, 126000, 187100, 200000, 117500, 176000, 174000, 97000, 169000, 154000, 361919, 85000, 134000, 96500, 127000, 60000, 108480, 151000, 135000, 99500, 124000, 177500, 144000, 119000, 107500, 254900, 180500, 222000, 271000, 181000, 140000, 158000, 204750, 135000, 161500, 128500, 179540, 143000, 147000, 280000, 131500, 253293, 317000, 210000, 120000, 110000, 127000, 106000, 172500, 166000, 258000, 213000, 150000, 158500, 82500, 212000, 238000, 158000, 178000, 328900, 110000, 185000, 320000, 315000, 228950, 180000, 117000, 176000, 111250, 297000, 266000, 130000, 93500, 186700, 91000, 745000, 62383, 172500, 170000, 119000, 129900, 210000, 173000, 164500, 170000, 125500, 183000, 103000, 141500, 315500, 118858, 290000, 119000, 104900, 348000, 374000, 200100, 132250, 161500, 131500, 104000, 132500, 133000, 170000, 180000, 130000, 125000, 186500, 171500, 100000, 114500, 173000, 86000, 320000, 133000, 220000, 137900, 224900, 153500, 115000, 207500, 113000, 178400, 140000, 83000, 197000, 187500, 81000, 93500, 197500, 93000, 106000, 144000, 220000, 144900, 139000, 132000, 149000, 153500, 263435, 205000, 132500, 103200, 249700, 64500, 83000, 339750, 145900, 106250, 164990, 228500, 193000, 244000, 159950, 119000, 160000, 147000, 134450, 174000, 144000, 190000, 160000, 175000, 135000, 176000, 168500, 139000, 102776, 221500, 148500, 55000, 281000, 179900, 182900, 217500, 195000, 154000, 124900, 228000, 125000, 438780, 160200, 271000, 113000, 103600, 119500, 275000, 250000, 306000, 168000, 136905, 128000, 107000, 341000, 176000, 224900, 289000, 79900, 274000, 109900, 175000, 166000, 151000, 264132, 79500, 241000, 141000, 377426, 132000, 141000, 136500, 205950, 157000, 93000, 309000, 187500, 178000, 125000, 232000, 135000, 307000, 223500, 145000, 155000, 140000, 149900, 181000, 210000, 230000, 318061, 200000, 83500, 112000, 125000, 446261, 165600, 35311, 394617, 129900, 110500, 255900, 168500, 378500, 163000, 91300, 395000, 185000, 187500, 250580, 205000, 143750, 85000, 287000, 152000, 423000, 312500, 202500, 250000, 264561, 188500, 201000, 68400, 155000, 212900, 145000, 162900, 299800, 175000, 125000, 67000, 147000, 90000, 135000, 153337, 286000, 34900, 110000, 79000, 115000, 271900, 227000, 377500, 190000, 170000, 37900, 183200, 128950, 430000, 225000, 209500, 171900, 173000, 200624, 82500, 277000, 126500, 239000, 76500, 140000, 135750, 125000, 326000, 164500, 115000, 188000, 135000, 128500, 109500, 154500, 157900, 236000, 110000, 142000, 129000, 259000, 240000, 126175, 144000, 179200, 128500, 220000, 240000, 135000, 350000, 140000, 437154, 244000, 139500, 129000, 180000, 145000, 197000, 318000, 385000, 253000, 136000, 270000, 177500, 129500, 162900, 204000, 107500, 186000, 177000, 245350, 129000, 205000, 102000, 124500, 180500, 119000, 159000, 106500, 180000, 204900, 128900, 195400, 277500, 260000, 216500, 109500, 139000, 185000, 254000, 135000, 178000, 245500, 118000, 130000, 194000, 91000, 145000, 124500, 226000, 160000, 154000, 260000, 114504, 190000, 335000, 100000, 130500, 250000, 157500, 105000, 78000, 180000, 127000, 118000, 185750, 129500, 104900, 223000, 116000, 137500, 179200, 99900, 172400, 118500, 117000, 84500, 177000, 196000, 142500, 108000, 248000, 231500, 176000, 440000, 127500, 290000, 143000, 184000, 225000, 261500, 130000, 105000, 155000, 115000, 169000, 266500, 342643, 108959, 206900, 90000, 140000, 85400, 136500, 173900, 190000, 121600, 119200, 141000, 194500, 122000, 140200, 275000, 337000, 202900, 287000, 256000, 243000, 263000, 157000, 110000, 285000, 75500, 301500, 197900, 136000, 235000, 128000, 197900, 188700, 402000, 324000, 170000, 140000, 125500, 290000, 124900, 279500, 287090, 156500, 150900, 120500, 160000, 199900, 168000, 301000, 260400, 118000, 257000, 123500, 284000, 207500, 121500, 137500, 148500, 110500, 185000, 220000, 214000, 223500, 147000, 102000, 155000, 165000, 60000, 139950, 89471, 131000, 157900, 369900, 155000, 125500, 143000, 235000, 176000, 115000, 174000, 154000, 127500, 143000, 345000, 105000, 284000, 221000, 316600, 152000, 138500, 138000, 130000, 109500, 128200, 168500, 226000, 215000, 219500, 189000, 135000, 160000, 372402, 112000, 84500, 191000, 171000, 239000, 175000, 142500, 175500, 424870, 110000, 139000, 171000, 219500, 193879, 55000, 162500, 177000, 118000, 84000, 173500, 179900, 318000, 392500, 140000, 152000, 156000, 158900, 184900, 95000, 142500, 155000, 251000, 179900, 148000, 250000, 230000, 109900, 132500, 94750, 278000, 145000, 122900, 239799, 140000, 82500, 187500, 144000, 165000, 350000, 181000, 118500, 274970, 97000, 177000, 80000, 191000, 120500, 214000, 305000, 179900, 172785, 192000, 185000, 158000, 164000, 207500, 119000, 140000, 125000, 175000, 140000, 216837, 145000, 165000, 257500, 235000, 227875, 145000, 137500, 100000, 235128, 196000, 146800, 149000, 149300, 109900, 177500, 395192, 189950, 235000, 213000, 181000, 100000, 222000, 129900, 52000, 225000, 119900, 135000, 200000, 150500, 198900, 113000, 465000, 192000, 328000, 193000, 107400, 208300, 295493, 311500, 127500, 281213, 175500, 187500, 165000, 81000, 136900, 164900, 160000, 149900, 201000, 155000, 92000, 255000, 475000, 335000, 180000, 180500, 129900, 192500, 101000, 129000, 146000, 110000, 88000, 169000, 125000, 87000, 335000, 235000, 165400, 155000, 89500, 130000, 98300, 140000, 165500, 160000, 200000, 248900, 196500, 88000, 130000, 319900, 185000, 167500, 189000, 80000, 260000, 135900, 239686, 141000, 155000, 239000, 386250, 171750, 180000, 200141, 190000, 109008, 159000, 208500, 114500, 174900, 293077, 180000, 116050, 149350, 215000, 133700, 207500, 167000, 148000, 217000, 241500, 181134, 538000, 412500, 372500, 145000, 139000, 109000, 126000, 134900, 181500, 140000, 167900, 230500, 157000, 252000, 132500, 163500, 187750, 259500, 213500, 145000, 175000, 143000, 501837, 171000, 155900, 426000, 150750, 139600, 144152, 142600, 153575, 137000, 268000, 162000, 255500, 123600, 192000, 136500, 174000, 178000, 116000, 133000, 611657, 108000, 184100, 105000, 320000, 129000, 137450, 39300, 152000, 189000, 140000, 176500, 150000, 142953, 134800, 87000, 157000, 113000, 135500, 245000, 105900, 184000, 165500, 233170, 275000, 303477, 139000, 88000, 221000, 92900, 167000, 90000, 137000, 110000, 199900, 134432, 108000, 170000, 160000, 241500, 205000, 120000, 230000, 184750, 161750, 85000, 144000, 381000, 222500, 147000, 135000, 135000, 222000, 392000, 290000, 165500, 87500, 270000, 265979, 163000, 102000, 340000, 203000, 179000, 305900, 133000, 173000, 227000, 159000, 164700, 200000, 176000, 230000, 201800, 139000, 126000, 115000, 145000, 185000, 219210, 276000, 144000, 163000, 359100, 100000, 118964, 139000, 159500, 85000, 185000, 127000, 146500, 127000, 240000, 151000, 129500, 190000, 123000, 66500, 255000, 193000, 151500, 136500, 275000, 68500, 140000, 143500, 82000, 147000, 269500, 320000, 97500, 131400, 200000, 143000, 170000, 239000, 109000, 110000, 195000, 129000, 280000, 310000, 108000, 197000, 215000, 119500, 109500, 225000, 239000, 128000, 164000, 244400, 755000, 154900, 192000, 133000, 227680, 200000, 265000, 235000, 152000, 135000, 155000, 136000, 394432, 162000, 112000, 220000, 181000, 112500, 250000, 75000, 185000, 178000, 148000, 88000, 124000, 145000, 159500, 131000, 215000, 173000, 95000, 153900, 153500, 143000, 193500, 145000, 91500, 207000, 235000, 233000, 226700, 143000, 123000, 185900, 119900, 144000, 117500, 143250, 248328, 173000, 137000, 159000, 120000, 215200, 183900, 129000, 213000, 155835, 112000, 137500, 183500, 156000, 160000, 191000, 175000]}, {\"colorscale\": [[0.0, \"#440154\"], [0.1111111111111111, \"#482878\"], [0.2222222222222222, \"#3e4989\"], [0.3333333333333333, \"#31688e\"], [0.4444444444444444, \"#26828e\"], [0.5555555555555556, \"#1f9e89\"], [0.6666666666666666, \"#35b779\"], [0.7777777777777778, \"#6ece58\"], [0.8888888888888888, \"#b5de2b\"], [1.0, \"#fde725\"]], \"type\": \"surface\", \"x\": [334.0, 613.3684210526316, 892.7368421052631, 1172.1052631578946, 1451.4736842105262, 1730.842105263158, 2010.2105263157894, 2289.578947368421, 2568.9473684210525, 2848.315789473684, 3127.684210526316, 3407.052631578947, 3686.4210526315787, 3965.7894736842104, 4245.157894736842, 4524.526315789473, 4803.894736842105, 5083.263157894737, 5362.631578947368, 5642.0], \"y\": [1.0, 1.4736842105263157, 1.9473684210526314, 2.4210526315789473, 2.894736842105263, 3.3684210526315788, 3.8421052631578947, 4.315789473684211, 4.789473684210526, 5.263157894736842, 5.7368421052631575, 6.2105263157894735, 6.684210526315789, 7.157894736842105, 7.63157894736842, 8.105263157894736, 8.578947368421051, 9.052631578947368, 9.526315789473683, 10.0], \"z\": [[-51513.495351659396, -36315.44667668808, -21117.39800171675, -5919.349326745432, 9278.699348225884, 24476.748023197215, 39674.79669816853, 54872.84537313983, 70070.89404811116, 85268.9427230825, 100466.99139805383, 115665.04007302513, 130863.08874799646, 146061.13742296776, 161259.18609793906, 176457.2347729104, 191655.28344788172, 206853.33212285305, 222051.3807978244, 237249.42947279572], [-35853.75966979102, -20655.710994819703, -5457.662319848387, 9740.38635512293, 24938.43503009426, 40136.48370506559, 55334.53238003689, 70532.58105500822, 85730.62972997953, 100928.67840495086, 116126.72707992219, 131324.7757548935, 146522.82442986482, 161720.87310483612, 176918.92177980745, 192116.97045477878, 207315.01912975012, 222513.06780472145, 237711.11647969278, 252909.16515466405], [-20194.023987922657, -4995.975312951341, 10202.07336201999, 25400.122036991306, 40598.17071196262, 55796.21938693395, 70994.26806190526, 86192.31673687659, 101390.36541184792, 116588.41408681922, 131786.46276179055, 146984.51143676185, 162182.56011173318, 177380.6087867045, 192578.6574616758, 207776.70613664712, 222974.75481161845, 238172.80348658978, 253370.8521615611, 268568.90083653247], [-4534.288306054281, 10663.760368917036, 25861.809043888352, 41059.85771885968, 56257.906393830985, 71455.95506880232, 86654.00374377365, 101852.05241874495, 117050.10109371628, 132248.1497686876, 147446.19844365894, 162644.24711863024, 177842.29579360157, 193040.3444685729, 208238.39314354418, 223436.4418185155, 238634.49049348684, 253832.53916845817, 269030.58784342953, 284228.63651840086], [11125.447375814081, 26323.496050785398, 41521.544725756714, 56719.593400728045, 71917.64207569935, 87115.69075067068, 102313.73942564201, 117511.78810061331, 132709.83677558464, 147907.88545055597, 163105.9341255273, 178303.98280049858, 193502.0314754699, 208700.08015044124, 223898.12882541257, 239096.1775003839, 254294.22617535517, 269492.2748503265, 284690.3235252978, 299888.37220026914], [26785.183057682458, 41983.231732653774, 57181.280407625105, 72379.3290825964, 87577.37775756774, 102775.42643253907, 117973.47510751037, 133171.5237824817, 148369.572457453, 163567.62113242436, 178765.6698073957, 193963.71848236697, 209161.7671573383, 224359.81583230963, 239557.8645072809, 254755.91318225223, 269953.96185722353, 285152.01053219486, 300350.0592071662, 315548.1078821375], [42444.918739550834, 57642.967414522136, 72841.01608949347, 88039.0647644648, 103237.1134394361, 118435.16211440743, 133633.21078937876, 148831.25946435006, 164029.30813932137, 179227.3568142927, 194425.40548926403, 209623.45416423536, 224821.5028392067, 240019.55151417802, 255217.6001891493, 270415.6488641206, 285613.6975390919, 300811.74621406326, 316009.7948890346, 331207.8435640059], [58104.654421419225, 73302.70309639053, 88500.75177136186, 103698.80044633319, 118896.84912130449, 134094.89779627582, 149292.94647124715, 164490.99514621848, 179689.04382118976, 194887.0924961611, 210085.14117113242, 225283.18984610375, 240481.23852107508, 255679.2871960464, 270877.33587101765, 286075.384545989, 301273.4332209603, 316471.48189593165, 331669.530570903, 346867.5792458743], [73764.39010328756, 88962.43877825886, 104160.48745323019, 119358.53612820152, 134556.58480317282, 149754.63347814415, 164952.6821531155, 180150.73082808682, 195348.7795030581, 210546.82817802942, 225744.87685300075, 240942.92552797208, 256140.9742029434, 271339.0228779147, 286537.07155288605, 301735.1202278574, 316933.1689028287, 332131.21757780004, 347329.26625277137, 362527.3149277427], [89424.12578515595, 104622.17446012725, 119820.22313509858, 135018.2718100699, 150216.32048504121, 165414.36916001255, 180612.41783498388, 195810.4665099552, 211008.51518492648, 226206.5638598978, 241404.61253486914, 256602.66120984047, 271800.7098848118, 286998.7585597831, 302196.80723475444, 317394.85590972577, 332592.9045846971, 347790.95325966843, 362989.00193463976, 378187.0506096111], [105083.86146702431, 120281.91014199561, 135479.95881696694, 150678.00749193828, 165876.0561669096, 181074.10484188094, 196272.1535168522, 211470.20219182354, 226668.25086679487, 241866.2995417662, 257064.34821673753, 272262.39689170884, 287460.44556668017, 302658.4942416515, 317856.5429166228, 333054.59159159416, 348252.6402665654, 363450.6889415367, 378648.73761650803, 393846.78629147937], [120743.5971488927, 135941.645823864, 151139.69449883534, 166337.74317380667, 181535.791848778, 196733.84052374933, 211931.8891987206, 227129.93787369193, 242327.98654866326, 257526.0352236346, 272724.0838986059, 287922.1325735772, 303120.18124854856, 318318.2299235199, 333516.2785984912, 348714.32727346255, 363912.37594843376, 379110.4246234051, 394308.4732983764, 409506.52197334776], [136403.33283076106, 151601.38150573237, 166799.43018070373, 181997.478855675, 197195.52753064633, 212393.57620561766, 227591.624880589, 242789.67355556032, 257987.7222305316, 273185.77090550296, 288383.8195804743, 303581.8682554456, 318779.91693041695, 333977.9656053883, 349176.0142803595, 364374.0629553308, 379572.11163030216, 394770.1603052735, 409968.2089802448, 425166.25765521615], [152063.06851262946, 167261.1171876008, 182459.16586257212, 197657.2145375434, 212855.26321251472, 228053.31188748605, 243251.36056245738, 258449.4092374287, 273647.4579124, 288845.50658737135, 304043.5552623427, 319241.603937314, 334439.65261228534, 349637.70128725667, 364835.7499622279, 380033.7986371992, 395231.84731217055, 410429.8959871419, 425627.9446621132, 440825.99333708454], [167722.8041944978, 182920.85286946912, 198118.90154444045, 213316.95021941172, 228514.99889438305, 243713.04756935438, 258911.09624432572, 274109.1449192971, 289307.1935942683, 304505.2422692396, 319703.29094421095, 334901.3396191823, 350099.3882941536, 365297.43696912494, 380495.4856440963, 395693.5343190676, 410891.58299403894, 426089.63166901015, 441287.6803439815, 456485.7290189528], [183382.53987636612, 198580.58855133745, 213778.63722630878, 228976.6859012801, 244174.73457625145, 259372.78325122278, 274570.831926194, 289768.88060116535, 304966.9292761367, 320164.977951108, 335363.02662607934, 350561.0753010507, 365759.123976022, 380957.17265099334, 396155.22132596467, 411353.270000936, 426551.3186759072, 441749.36735087854, 456947.4160258499, 472145.4647008212], [199042.2755582345, 214240.32423320584, 229438.37290817717, 244636.4215831485, 259834.47025811984, 275032.5189330912, 290230.5676080624, 305428.61628303374, 320626.6649580051, 335824.7136329764, 351022.76230794773, 366220.81098291907, 381418.8596578904, 396616.9083328617, 411814.95700783306, 427013.0056828043, 442211.0543577756, 457409.10303274693, 472607.15170771827, 487805.2003826896], [214702.0112401029, 229900.05991507423, 245098.10859004557, 260296.1572650169, 275494.20593998826, 290692.2546149596, 305890.3032899308, 321088.35196490213, 336286.40063987346, 351484.4493148448, 366682.4979898161, 381880.54666478746, 397078.5953397588, 412276.6440147301, 427474.69268970133, 442672.74136467266, 457870.790039644, 473068.8387146153, 488266.88738958666, 503464.936064558], [230361.74692197124, 245559.79559694257, 260757.8442719139, 275955.8929468852, 291153.94162185653, 306351.99029682786, 321550.0389717992, 336748.0876467705, 351946.13632174185, 367144.1849967132, 382342.2336716845, 397540.28234665573, 412738.33102162706, 427936.3796965984, 443134.4283715697, 458332.47704654105, 473530.5257215124, 488728.5743964837, 503926.62307145505, 519124.6717464264], [246021.48260383963, 261219.53127881096, 276417.57995378226, 291615.6286287536, 306813.6773037249, 322011.72597869625, 337209.7746536676, 352407.8233286389, 367605.87200361025, 382803.9206785816, 398001.9693535529, 413200.0180285241, 428398.06670349545, 443596.1153784668, 458794.1640534381, 473992.21272840945, 489190.2614033808, 504388.3100783521, 519586.35875332344, 534784.4074282948]]}],\n",
              "                        {\"legend\": {\"tracegroupgap\": 0}, \"scene\": {\"domain\": {\"x\": [0.0, 1.0], \"y\": [0.0, 1.0]}, \"xaxis\": {\"title\": {\"text\": \"GrLivArea\"}}, \"yaxis\": {\"title\": {\"text\": \"OverallQual\"}}, \"zaxis\": {\"title\": {\"text\": \"SalePrice\"}}}, \"template\": {\"data\": {\"bar\": [{\"error_x\": {\"color\": \"#2a3f5f\"}, \"error_y\": {\"color\": \"#2a3f5f\"}, \"marker\": {\"line\": {\"color\": \"#E5ECF6\", \"width\": 0.5}}, \"type\": \"bar\"}], \"barpolar\": [{\"marker\": {\"line\": {\"color\": \"#E5ECF6\", \"width\": 0.5}}, \"type\": \"barpolar\"}], \"carpet\": [{\"aaxis\": {\"endlinecolor\": \"#2a3f5f\", \"gridcolor\": \"white\", \"linecolor\": \"white\", \"minorgridcolor\": \"white\", \"startlinecolor\": \"#2a3f5f\"}, \"baxis\": {\"endlinecolor\": \"#2a3f5f\", \"gridcolor\": \"white\", \"linecolor\": \"white\", \"minorgridcolor\": \"white\", \"startlinecolor\": \"#2a3f5f\"}, \"type\": \"carpet\"}], \"choropleth\": [{\"colorbar\": {\"outlinewidth\": 0, \"ticks\": \"\"}, \"type\": \"choropleth\"}], \"contour\": [{\"colorbar\": {\"outlinewidth\": 0, \"ticks\": \"\"}, \"colorscale\": [[0.0, \"#0d0887\"], [0.1111111111111111, \"#46039f\"], [0.2222222222222222, \"#7201a8\"], [0.3333333333333333, \"#9c179e\"], [0.4444444444444444, \"#bd3786\"], [0.5555555555555556, \"#d8576b\"], [0.6666666666666666, \"#ed7953\"], [0.7777777777777778, \"#fb9f3a\"], [0.8888888888888888, \"#fdca26\"], [1.0, \"#f0f921\"]], \"type\": \"contour\"}], \"contourcarpet\": [{\"colorbar\": {\"outlinewidth\": 0, \"ticks\": \"\"}, \"type\": \"contourcarpet\"}], \"heatmap\": [{\"colorbar\": {\"outlinewidth\": 0, \"ticks\": \"\"}, \"colorscale\": [[0.0, \"#0d0887\"], [0.1111111111111111, \"#46039f\"], [0.2222222222222222, \"#7201a8\"], [0.3333333333333333, \"#9c179e\"], [0.4444444444444444, \"#bd3786\"], [0.5555555555555556, \"#d8576b\"], [0.6666666666666666, \"#ed7953\"], [0.7777777777777778, \"#fb9f3a\"], [0.8888888888888888, \"#fdca26\"], [1.0, \"#f0f921\"]], \"type\": \"heatmap\"}], \"heatmapgl\": [{\"colorbar\": {\"outlinewidth\": 0, \"ticks\": \"\"}, \"colorscale\": [[0.0, \"#0d0887\"], [0.1111111111111111, \"#46039f\"], [0.2222222222222222, \"#7201a8\"], [0.3333333333333333, \"#9c179e\"], [0.4444444444444444, \"#bd3786\"], [0.5555555555555556, \"#d8576b\"], [0.6666666666666666, \"#ed7953\"], [0.7777777777777778, \"#fb9f3a\"], [0.8888888888888888, \"#fdca26\"], [1.0, \"#f0f921\"]], \"type\": \"heatmapgl\"}], \"histogram\": [{\"marker\": {\"colorbar\": {\"outlinewidth\": 0, \"ticks\": \"\"}}, \"type\": \"histogram\"}], \"histogram2d\": [{\"colorbar\": {\"outlinewidth\": 0, \"ticks\": \"\"}, \"colorscale\": [[0.0, \"#0d0887\"], [0.1111111111111111, \"#46039f\"], [0.2222222222222222, \"#7201a8\"], [0.3333333333333333, \"#9c179e\"], [0.4444444444444444, \"#bd3786\"], [0.5555555555555556, \"#d8576b\"], [0.6666666666666666, \"#ed7953\"], [0.7777777777777778, \"#fb9f3a\"], [0.8888888888888888, \"#fdca26\"], [1.0, \"#f0f921\"]], \"type\": \"histogram2d\"}], \"histogram2dcontour\": [{\"colorbar\": {\"outlinewidth\": 0, \"ticks\": \"\"}, \"colorscale\": [[0.0, \"#0d0887\"], [0.1111111111111111, \"#46039f\"], [0.2222222222222222, \"#7201a8\"], [0.3333333333333333, \"#9c179e\"], [0.4444444444444444, \"#bd3786\"], [0.5555555555555556, \"#d8576b\"], [0.6666666666666666, \"#ed7953\"], [0.7777777777777778, \"#fb9f3a\"], [0.8888888888888888, \"#fdca26\"], [1.0, \"#f0f921\"]], \"type\": \"histogram2dcontour\"}], \"mesh3d\": [{\"colorbar\": {\"outlinewidth\": 0, \"ticks\": \"\"}, \"type\": \"mesh3d\"}], \"parcoords\": [{\"line\": {\"colorbar\": {\"outlinewidth\": 0, \"ticks\": \"\"}}, \"type\": \"parcoords\"}], \"pie\": [{\"automargin\": true, \"type\": \"pie\"}], \"scatter\": [{\"marker\": {\"colorbar\": {\"outlinewidth\": 0, \"ticks\": \"\"}}, \"type\": \"scatter\"}], \"scatter3d\": [{\"line\": {\"colorbar\": {\"outlinewidth\": 0, \"ticks\": \"\"}}, \"marker\": {\"colorbar\": {\"outlinewidth\": 0, \"ticks\": \"\"}}, \"type\": \"scatter3d\"}], \"scattercarpet\": [{\"marker\": {\"colorbar\": {\"outlinewidth\": 0, \"ticks\": \"\"}}, \"type\": \"scattercarpet\"}], \"scattergeo\": [{\"marker\": {\"colorbar\": {\"outlinewidth\": 0, \"ticks\": \"\"}}, \"type\": \"scattergeo\"}], \"scattergl\": [{\"marker\": {\"colorbar\": {\"outlinewidth\": 0, \"ticks\": \"\"}}, \"type\": \"scattergl\"}], \"scattermapbox\": [{\"marker\": {\"colorbar\": {\"outlinewidth\": 0, \"ticks\": \"\"}}, \"type\": \"scattermapbox\"}], \"scatterpolar\": [{\"marker\": {\"colorbar\": {\"outlinewidth\": 0, \"ticks\": \"\"}}, \"type\": \"scatterpolar\"}], \"scatterpolargl\": [{\"marker\": {\"colorbar\": {\"outlinewidth\": 0, \"ticks\": \"\"}}, \"type\": \"scatterpolargl\"}], \"scatterternary\": [{\"marker\": {\"colorbar\": {\"outlinewidth\": 0, \"ticks\": \"\"}}, \"type\": \"scatterternary\"}], \"surface\": [{\"colorbar\": {\"outlinewidth\": 0, \"ticks\": \"\"}, \"colorscale\": [[0.0, \"#0d0887\"], [0.1111111111111111, \"#46039f\"], [0.2222222222222222, \"#7201a8\"], [0.3333333333333333, \"#9c179e\"], [0.4444444444444444, \"#bd3786\"], [0.5555555555555556, \"#d8576b\"], [0.6666666666666666, \"#ed7953\"], [0.7777777777777778, \"#fb9f3a\"], [0.8888888888888888, \"#fdca26\"], [1.0, \"#f0f921\"]], \"type\": \"surface\"}], \"table\": [{\"cells\": {\"fill\": {\"color\": \"#EBF0F8\"}, \"line\": {\"color\": \"white\"}}, \"header\": {\"fill\": {\"color\": \"#C8D4E3\"}, \"line\": {\"color\": \"white\"}}, \"type\": \"table\"}]}, \"layout\": {\"annotationdefaults\": {\"arrowcolor\": \"#2a3f5f\", \"arrowhead\": 0, \"arrowwidth\": 1}, \"coloraxis\": {\"colorbar\": {\"outlinewidth\": 0, \"ticks\": \"\"}}, \"colorscale\": {\"diverging\": [[0, \"#8e0152\"], [0.1, \"#c51b7d\"], [0.2, \"#de77ae\"], [0.3, \"#f1b6da\"], [0.4, \"#fde0ef\"], [0.5, \"#f7f7f7\"], [0.6, \"#e6f5d0\"], [0.7, \"#b8e186\"], [0.8, \"#7fbc41\"], [0.9, \"#4d9221\"], [1, \"#276419\"]], \"sequential\": [[0.0, \"#0d0887\"], [0.1111111111111111, \"#46039f\"], [0.2222222222222222, \"#7201a8\"], [0.3333333333333333, \"#9c179e\"], [0.4444444444444444, \"#bd3786\"], [0.5555555555555556, \"#d8576b\"], [0.6666666666666666, \"#ed7953\"], [0.7777777777777778, \"#fb9f3a\"], [0.8888888888888888, \"#fdca26\"], [1.0, \"#f0f921\"]], \"sequentialminus\": [[0.0, \"#0d0887\"], [0.1111111111111111, \"#46039f\"], [0.2222222222222222, \"#7201a8\"], [0.3333333333333333, \"#9c179e\"], [0.4444444444444444, \"#bd3786\"], [0.5555555555555556, \"#d8576b\"], [0.6666666666666666, \"#ed7953\"], [0.7777777777777778, \"#fb9f3a\"], [0.8888888888888888, \"#fdca26\"], [1.0, \"#f0f921\"]]}, \"colorway\": [\"#636efa\", \"#EF553B\", \"#00cc96\", \"#ab63fa\", \"#FFA15A\", \"#19d3f3\", \"#FF6692\", \"#B6E880\", \"#FF97FF\", \"#FECB52\"], \"font\": {\"color\": \"#2a3f5f\"}, \"geo\": {\"bgcolor\": \"white\", \"lakecolor\": \"white\", \"landcolor\": \"#E5ECF6\", \"showlakes\": true, \"showland\": true, \"subunitcolor\": \"white\"}, \"hoverlabel\": {\"align\": \"left\"}, \"hovermode\": \"closest\", \"mapbox\": {\"style\": \"light\"}, \"paper_bgcolor\": \"white\", \"plot_bgcolor\": \"#E5ECF6\", \"polar\": {\"angularaxis\": {\"gridcolor\": \"white\", \"linecolor\": \"white\", \"ticks\": \"\"}, \"bgcolor\": \"#E5ECF6\", \"radialaxis\": {\"gridcolor\": \"white\", \"linecolor\": \"white\", \"ticks\": \"\"}}, \"scene\": {\"xaxis\": {\"backgroundcolor\": \"#E5ECF6\", \"gridcolor\": \"white\", \"gridwidth\": 2, \"linecolor\": \"white\", \"showbackground\": true, \"ticks\": \"\", \"zerolinecolor\": \"white\"}, \"yaxis\": {\"backgroundcolor\": \"#E5ECF6\", \"gridcolor\": \"white\", \"gridwidth\": 2, \"linecolor\": \"white\", \"showbackground\": true, \"ticks\": \"\", \"zerolinecolor\": \"white\"}, \"zaxis\": {\"backgroundcolor\": \"#E5ECF6\", \"gridcolor\": \"white\", \"gridwidth\": 2, \"linecolor\": \"white\", \"showbackground\": true, \"ticks\": \"\", \"zerolinecolor\": \"white\"}}, \"shapedefaults\": {\"line\": {\"color\": \"#2a3f5f\"}}, \"ternary\": {\"aaxis\": {\"gridcolor\": \"white\", \"linecolor\": \"white\", \"ticks\": \"\"}, \"baxis\": {\"gridcolor\": \"white\", \"linecolor\": \"white\", \"ticks\": \"\"}, \"bgcolor\": \"#E5ECF6\", \"caxis\": {\"gridcolor\": \"white\", \"linecolor\": \"white\", \"ticks\": \"\"}}, \"title\": {\"x\": 0.05}, \"xaxis\": {\"automargin\": true, \"gridcolor\": \"white\", \"linecolor\": \"white\", \"ticks\": \"\", \"title\": {\"standoff\": 15}, \"zerolinecolor\": \"white\", \"zerolinewidth\": 2}, \"yaxis\": {\"automargin\": true, \"gridcolor\": \"white\", \"linecolor\": \"white\", \"ticks\": \"\", \"title\": {\"standoff\": 15}, \"zerolinecolor\": \"white\", \"zerolinewidth\": 2}}}, \"title\": {\"text\": \"House Prices\"}},\n",
              "                        {\"responsive\": true}\n",
              "                    ).then(function(){\n",
              "                            \n",
              "var gd = document.getElementById('29d8806d-31bb-4de7-b7b1-e5cf499bcecf');\n",
              "var x = new MutationObserver(function (mutations, observer) {{\n",
              "        var display = window.getComputedStyle(gd).display;\n",
              "        if (!display || display === 'none') {{\n",
              "            console.log([gd, 'removed!']);\n",
              "            Plotly.purge(gd);\n",
              "            observer.disconnect();\n",
              "        }}\n",
              "}});\n",
              "\n",
              "// Listen for the removal of the full notebook cells\n",
              "var notebookContainer = gd.closest('#notebook-container');\n",
              "if (notebookContainer) {{\n",
              "    x.observe(notebookContainer, {childList: true});\n",
              "}}\n",
              "\n",
              "// Listen for the clearing of the current output cell\n",
              "var outputEl = gd.closest('.output');\n",
              "if (outputEl) {{\n",
              "    x.observe(outputEl, {childList: true});\n",
              "}}\n",
              "\n",
              "                        })\n",
              "                };\n",
              "                \n",
              "            </script>\n",
              "        </div>\n",
              "</body>\n",
              "</html>"
            ]
          },
          "metadata": {
            "tags": []
          }
        }
      ]
    },
    {
      "cell_type": "markdown",
      "metadata": {
        "id": "DZy2LqS3Oc_r"
      },
      "source": [
        "\n",
        "\n",
        "---\n",
        "\n"
      ]
    },
    {
      "cell_type": "markdown",
      "metadata": {
        "id": "5DLzxNOBOeSa"
      },
      "source": [
        "회귀계수를 해석"
      ]
    },
    {
      "cell_type": "code",
      "metadata": {
        "colab": {
          "base_uri": "https://localhost:8080/"
        },
        "id": "63bcWFS9Odik",
        "outputId": "53978569-a526-404d-f3fc-9f283ac863ac"
      },
      "source": [
        "## 절편(intercept)과 계수들(coefficients)\n",
        "model.intercept_, model.coef_\n"
      ],
      "execution_count": 21,
      "outputs": [
        {
          "output_type": "execute_result",
          "data": {
            "text/plain": [
              "(-102743.02342270731, array([   54.40145532, 33059.44199506]))"
            ]
          },
          "metadata": {
            "tags": []
          },
          "execution_count": 21
        }
      ]
    },
    {
      "cell_type": "code",
      "metadata": {
        "colab": {
          "base_uri": "https://localhost:8080/"
        },
        "id": "Cysyym4tOhQi",
        "outputId": "7791aaa7-00b8-4100-8896-48fbcbb703ab"
      },
      "source": [
        "## 회귀식을 만들어 봅시다.\n",
        "b0 = model.intercept_\n",
        "b1, b2 = model.coef_\n",
        "\n",
        "print(f'y = {b0:.0f} + {b1:.0f}x\\u2081 + {b2:.0f}x\\u2082')\n"
      ],
      "execution_count": 22,
      "outputs": [
        {
          "output_type": "stream",
          "text": [
            "y = -102743 + 54x₁ + 33059x₂\n"
          ],
          "name": "stdout"
        }
      ]
    },
    {
      "cell_type": "markdown",
      "metadata": {
        "id": "zgBBpO6EO7V6"
      },
      "source": [
        "$\\beta_1$과 $\\beta_2$ 모두 양수입니다. 이것은 $x_1$, $x_2$이 증가할 때마다 $y$ 도 증가한다는 뜻입니다. 만약 음수인 경우에는 $y$ 가 감소한다는 뜻이겠지요.\n",
        "\n"
      ]
    }
  ]
}